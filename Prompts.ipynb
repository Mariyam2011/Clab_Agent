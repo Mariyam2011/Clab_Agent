{
 "cells": [
  {
   "cell_type": "code",
   "execution_count": 47,
   "metadata": {},
   "outputs": [
    {
     "data": {
      "text/plain": [
       "True"
      ]
     },
     "execution_count": 47,
     "metadata": {},
     "output_type": "execute_result"
    }
   ],
   "source": [
    "from dotenv import load_dotenv\n",
    "\n",
    "load_dotenv()"
   ]
  },
  {
   "cell_type": "code",
   "execution_count": 48,
   "metadata": {},
   "outputs": [
    {
     "name": "stdout",
     "output_type": "stream",
     "text": [
      "The autoreload extension is already loaded. To reload it, use:\n",
      "  %reload_ext autoreload\n"
     ]
    }
   ],
   "source": [
    "%load_ext autoreload\n",
    "%autoreload 2"
   ]
  },
  {
   "cell_type": "code",
   "execution_count": 49,
   "metadata": {},
   "outputs": [],
   "source": [
    "try:\n",
    "    # Prefer Pydantic v2\n",
    "    from pydantic import BaseModel, Field\n",
    "except Exception:\n",
    "    # Fallback for older stacks (not recommended for new code)\n",
    "    from langchain_core.pydantic_v1 import BaseModel, Field"
   ]
  },
  {
   "cell_type": "code",
   "execution_count": 50,
   "metadata": {},
   "outputs": [],
   "source": [
    "import os\n",
    "import json\n",
    "import pickle\n",
    "from glob import glob\n",
    "\n",
    "from typing import Dict, List, Any, Optional\n",
    "from dataclasses import dataclass\n",
    "\n",
    "from langchain_openai import OpenAIEmbeddings, AzureChatOpenAI\n",
    "from langchain_core.prompts import ChatPromptTemplate\n",
    "from langchain_core.output_parsers import StrOutputParser\n",
    "\n",
    "from sklearn.metrics.pairwise import cosine_similarity\n",
    "from IPython.display import Markdown, display"
   ]
  },
  {
   "cell_type": "code",
   "execution_count": 51,
   "metadata": {},
   "outputs": [],
   "source": [
    "from prompt_templates.narratives import create_narrative_angles_prompt_template\n",
    "from prompt_templates.Future_plan import create_future_plan_prompt_template\n",
    "from prompt_templates.Activity import create_activity_list_generator_prompt_template\n",
    "from prompt_templates.Main_essay import create_main_essay_ideas_prompt_template"
   ]
  },
  {
   "cell_type": "code",
   "execution_count": 52,
   "metadata": {},
   "outputs": [],
   "source": [
    "from langchain.agents import AgentExecutor, create_openai_tools_agent\n",
    "from langchain_core.prompts import ChatPromptTemplate, MessagesPlaceholder\n",
    "\n",
    "from tools import (\n",
    "    generate_narrative_angles,\n",
    "    generate_future_plan,\n",
    "    generate_activity_list,\n",
    "    generate_main_essay_ideas,\n",
    ")"
   ]
  },
  {
   "cell_type": "code",
   "execution_count": 53,
   "metadata": {},
   "outputs": [],
   "source": [
    "embeddings_model = OpenAIEmbeddings()\n",
    "\n",
    "llm = AzureChatOpenAI(\n",
    "    deployment_name=\"gpt-4o\",\n",
    ")"
   ]
  },
  {
   "cell_type": "code",
   "execution_count": 54,
   "metadata": {},
   "outputs": [],
   "source": [
    "# folder_path = \"clab_data\"\n",
    "# applications_data = []\n",
    "\n",
    "# # Get all JSON files in the folder\n",
    "# for file_path in glob(os.path.join(folder_path, \"*.json\")):\n",
    "#     with open(file_path, \"r\", encoding=\"utf-8\") as f:\n",
    "#         applications_data = json.load(f)\n",
    "# print(f\"Loaded {len(applications_data)} applications from {len(glob(os.path.join(folder_path, '*.json')))} files\")"
   ]
  },
  {
   "cell_type": "code",
   "execution_count": 55,
   "metadata": {},
   "outputs": [],
   "source": [
    "# with open(\"clab_data/all_data.json\", \"r\", encoding=\"utf-8\") as f:\n",
    "#     applications_data = json.load(f)\n",
    "\n",
    "# print(f\"Loaded {len(applications_data)} applications from all_data.json\")"
   ]
  },
  {
   "cell_type": "code",
   "execution_count": 56,
   "metadata": {},
   "outputs": [],
   "source": [
    "# @dataclass\n",
    "# class Application:  # This will store accepted applications as well as their embeddings\n",
    "#     filename: str\n",
    "#     content: Dict[str, Any]\n",
    "#     embedding: List[float] = None"
   ]
  },
  {
   "cell_type": "code",
   "execution_count": 57,
   "metadata": {},
   "outputs": [],
   "source": [
    "# applications = []\n",
    "\n",
    "# for key, application in applications_data.items():\n",
    "#     embedding = embeddings_model.embed_query(json.dumps(application))\n",
    "\n",
    "#     application = Application(\n",
    "#         filename=key,\n",
    "#         content=application,\n",
    "#         embedding=embedding,\n",
    "#     )\n",
    "\n",
    "#     applications.append(application)\n",
    "\n",
    "# with open(\"application_embeddings.pkl\", \"wb\") as f:\n",
    "#     pickle.dump(applications, f)"
   ]
  },
  {
   "cell_type": "code",
   "execution_count": 58,
   "metadata": {},
   "outputs": [],
   "source": [
    "# applications = pickle.load(open(\"application_embeddings.pkl\", \"rb\"))"
   ]
  },
  {
   "cell_type": "code",
   "execution_count": 59,
   "metadata": {},
   "outputs": [],
   "source": [
    "DUMMY_USER_DATA = {\n",
    "    \"name\": \"Sarah Johnson\",\n",
    "    \"gender\": \"Female\",\n",
    "    \"birth_country\": \"United States\",\n",
    "    \"cultural_background\": [\n",
    "        \"American\",\n",
    "        \"first-generation college student\",\n",
    "        \"rural upbringing\",\n",
    "        \"STEM-focused\",\n",
    "        \"environmental advocate\",\n",
    "    ],\n",
    "    \"academic\": {\n",
    "        \"gpa\": \"3.95\",\n",
    "        \"school_type\": \"Public High School\",\n",
    "        \"test_scores\": {\"SAT\": \"1450\", \"ACT\": \"32\"},\n",
    "    },\n",
    "    \"activities\": [\n",
    "        {\n",
    "            \"position\": \"President\",\n",
    "            \"category\": \"Academic\",\n",
    "            \"description\": \"Led environmental science club, organized community clean-up events, coordinated with local government on sustainability initiatives\",\n",
    "        },\n",
    "        {\n",
    "            \"position\": \"Team Captain\",\n",
    "            \"category\": \"Athletics\",\n",
    "            \"description\": \"Varsity soccer team captain, led team to state championship, organized team community service projects\",\n",
    "        },\n",
    "        {\n",
    "            \"position\": \"Volunteer\",\n",
    "            \"category\": \"Community Service\",\n",
    "            \"description\": \"Tutored underprivileged students in math and science, developed curriculum for after-school program\",\n",
    "        },\n",
    "        {\n",
    "            \"position\": \"Research Assistant\",\n",
    "            \"category\": \"Research\",\n",
    "            \"description\": \"Assisted professor in environmental impact study, analyzed data on renewable energy adoption in rural communities\",\n",
    "        },\n",
    "    ],\n",
    "    \"future_plans\": [\n",
    "        \"Study environmental engineering\",\n",
    "        \"Work on renewable energy solutions\",\n",
    "        \"Masters degree\",\n",
    "        \"Start a non-profit focused on rural sustainability\",\n",
    "    ],\n",
    "}"
   ]
  },
  {
   "cell_type": "code",
   "execution_count": 60,
   "metadata": {},
   "outputs": [],
   "source": [
    "# user_embedding = embeddings_model.embed_query(json.dumps(DUMMY_USER_DATA))"
   ]
  },
  {
   "cell_type": "code",
   "execution_count": 61,
   "metadata": {},
   "outputs": [],
   "source": [
    "# similarities = []\n",
    "\n",
    "# for app in applications:\n",
    "#     similarity = cosine_similarity([user_embedding], [app.embedding])[0][0]\n",
    "#     similarities.append((app, similarity))\n",
    "\n",
    "# top_3_similar = sorted(similarities, key=lambda x: x[1], reverse=True)[:3]\n",
    "\n",
    "# print(\"Top 3 Accepted Applications:\")\n",
    "# print(\"\\n\".join([each[0].filename for each in top_3_similar]))"
   ]
  },
  {
   "cell_type": "code",
   "execution_count": 62,
   "metadata": {},
   "outputs": [],
   "source": [
    "# application_narratives = []\n",
    "\n",
    "# for each in top_3_similar:\n",
    "#     temp = each[0].content\n",
    "\n",
    "#     if \"application_narrative\" in temp:\n",
    "#         application_narratives.append(temp[\"application_narrative\"])"
   ]
  },
  {
   "cell_type": "code",
   "execution_count": 67,
   "metadata": {},
   "outputs": [],
   "source": [
    "from langchain.agents import create_openai_tools_agent, AgentExecutor\n",
    "from langchain_core.prompts import ChatPromptTemplate, MessagesPlaceholder\n",
    "\n",
    "prompt = ChatPromptTemplate.from_messages(\n",
    "    [\n",
    "        (\n",
    "            \"system\",\n",
    "            \"You are an elite admissions strategist. \"\n",
    "            \"When calling any tool, ALWAYS include the `user_profile` argument. \"\n",
    "            \"Follow this strict sequence: \"\n",
    "            \"1) generate_narrative_angles(user_profile) \"\n",
    "            \"2) generate_future_plan(user_profile, narrative=<first angle>) \"\n",
    "            \"3) generate_activity_list(user_profile, narrative=<first angle>, future_plan) \"\n",
    "            \"4) generate_main_essay_ideas(user_profile, narrative=<first angle>, future_plan, activity_result). \"\n",
    "            \"Return the final JSON from the last tool.\",\n",
    "        ),\n",
    "        (\"user\", \"USER_PROFILE(JSON): {user_profile}\\n\\nTASK: {input}\"),\n",
    "        MessagesPlaceholder(\"agent_scratchpad\"),\n",
    "    ]\n",
    ")\n",
    "\n",
    "tools = [\n",
    "    generate_narrative_angles,\n",
    "    generate_future_plan,\n",
    "    generate_activity_list,\n",
    "    generate_main_essay_ideas,\n",
    "]"
   ]
  },
  {
   "cell_type": "code",
   "execution_count": 68,
   "metadata": {},
   "outputs": [
    {
     "name": "stderr",
     "output_type": "stream",
     "text": [
      "C:\\Users\\HOME\\AppData\\Local\\Temp\\ipykernel_27092\\47310789.py:3: LangChainDeprecationWarning: Please see the migration guide at: https://python.langchain.com/docs/versions/migrating_memory/\n",
      "  memory = ConversationBufferMemory(\n"
     ]
    }
   ],
   "source": [
    "from langchain.memory import ConversationBufferMemory\n",
    "\n",
    "memory = ConversationBufferMemory(\n",
    "    memory_key=\"chat_history\",\n",
    "    return_messages=True,\n",
    "    input_key=\"input\",\n",
    ")\n",
    "\n",
    "agent = create_openai_tools_agent(llm, tools, prompt)\n",
    "\n",
    "executor = AgentExecutor(agent=agent, tools=tools, verbose=True, memory=memory)\n"
   ]
  },
  {
   "cell_type": "code",
   "execution_count": 70,
   "metadata": {},
   "outputs": [
    {
     "name": "stdout",
     "output_type": "stream",
     "text": [
      "\n",
      "\n",
      "\u001b[1m> Entering new AgentExecutor chain...\u001b[0m\n"
     ]
    },
    {
     "name": "stderr",
     "output_type": "stream",
     "text": [
      "INFO:httpx:HTTP Request: POST https://clabai3366454354.openai.azure.com/openai/deployments/gpt-4o/chat/completions?api-version=2024-02-01 \"HTTP/1.1 200 OK\"\n"
     ]
    },
    {
     "name": "stdout",
     "output_type": "stream",
     "text": [
      "\u001b[32;1m\u001b[1;3m\n",
      "Invoking: `generate_narrative_angles` with `{'user_profile': \"{'name': 'Sarah Johnson', 'gender': 'Female', 'birth_country': 'United States', 'cultural_background': ['American', 'first-generation college student', 'rural upbringing', 'STEM-focused', 'environmental advocate'], 'academic': {'gpa': '3.95', 'school_type': 'Public High School', 'test_scores': {'SAT': '1450', 'ACT': '32'}}, 'activities': [{'position': 'President', 'category': 'Academic', 'description': 'Led environmental science club, organized community clean-up events, coordinated with local government on sustainability initiatives'}, {'position': 'Team Captain', 'category': 'Athletics', 'description': 'Varsity soccer team captain, led team to state championship, organized team community service projects'}, {'position': 'Volunteer', 'category': 'Community Service', 'description': 'Tutored underprivileged students in math and science, developed curriculum for after-school program'}, {'position': 'Research Assistant', 'category': 'Research', 'description': 'Assisted professor in environmental impact study, analyzed data on renewable energy adoption in rural communities'}], 'future_plans': ['Study environmental engineering', 'Work on renewable energy solutions', 'Masters degree', 'Start a non-profit focused on rural sustainability']}\"}`\n",
      "\n",
      "\n",
      "\u001b[0m"
     ]
    },
    {
     "name": "stderr",
     "output_type": "stream",
     "text": [
      "INFO:openai._base_client:Retrying request to /chat/completions in 0.456855 seconds\n",
      "INFO:httpx:HTTP Request: POST https://clabai3366454354.openai.azure.com/openai/deployments/gpt-4o/chat/completions?api-version=2024-02-01 \"HTTP/1.1 200 OK\"\n"
     ]
    },
    {
     "name": "stdout",
     "output_type": "stream",
     "text": [
      "\u001b[36;1m\u001b[1;3m{'narrative_angles': [{'title': 'From Soccer Fields to Sustainability: Engineering a Cleaner Future', 'positioning': 'How a rural soccer captain transformed her leadership into environmental action.', 'essay_concept': 'Essay opens on the tense final moments of a state soccer championship match → reveals how teamwork shaped her resilience and problem-solving approach → connects leadership to her environmental advocacy in rural communities → outlines efforts with local government and renewable energy → envisions a career in pioneering rural sustainability.', 'anchor_scene': 'The whistle blew as Sarah’s team clinched the state championship. Amid the deafening cheers, she looked around at her teammates, realizing leadership wasn’t about the final victory but empowering others to reach their potential. That moment sparked her journey to lead beyond sports, starting with the rural community she called home.', 'unexpected_twist': 'Soccer captain turned rural sustainability advocate, merging sports leadership with environmental engineering.', 'signature_initiative': {'name': 'Rural Green Nexus', 'description': 'A non-profit program designed to bring renewable energy solutions and sustainable practices to rural communities through youth engagement and local collaboration.'}, 'natural_major_fit': ['Environmental Engineering', 'Sustainability Studies', 'Public Policy']}, {'title': 'Grassroots Genius: Turning Volunteerism Into Scientific Impact', 'positioning': 'From tutoring underprivileged students to analyzing renewable energy data, Sarah redefines service as innovation.', 'essay_concept': 'Starts in an overflowing classroom where Sarah is teaching fractions to eager but underserved students → reflects on the systemic barriers rural communities face → connects tutoring to working as a research assistant focusing on clean energy adoption → showcases her aspiration to create access-driven solutions → dreams of leading a rural renewable energy revolution through education.', 'anchor_scene': 'Sarah switched her whiteboard marker for a spreadsheet. In a tiny research outpost, she studied patterns of energy usage in rural homes, tracing opportunities for renewables. It felt eerily similar to teaching fractions to struggling students—a moment that tied outreach to scientific discovery.', 'unexpected_twist': 'Tutoring in math and science directly influenced her data-driven research into rural renewable energy.', 'signature_initiative': {'name': 'Energy Empowerment Labs', 'description': 'An interactive program that pairs environmental education with community data collection to drive renewable energy adoption in rural schools and homes.'}, 'natural_major_fit': ['Environmental Science', 'Education Policy', 'Renewable Energy Technologies']}, {'title': 'Cleaning Up Is Just the Beginning: Engineering for Rural Regeneration', 'positioning': 'How Sarah turned community clean-up events into a blueprint for rural environmental engineering.', 'essay_concept': 'Begins with Sarah dragging overflowing trash bags at a local cleanup event → links frustration over pervasive waste to her environmental science leadership and research studies → explores how sustainability efforts need engineering solutions tailored for rural spaces → transitions into her vision of designing renewable energy frameworks to empower isolated regions.', 'anchor_scene': 'The smell of damp earth and rusted trash filled the air as Sarah picked up yet another bottle from the roadside. In her hands, it wasn’t just trash. It was the challenge of a community struggling to stay afloat in environmental neglect—and the potential for change.', 'unexpected_twist': 'Turning routine environmental activism into a future in engineering systemic solutions for rural communities.', 'signature_initiative': {'name': 'Rural Regeneration Blueprint', 'description': 'A project-based initiative focused on designing cost-effective renewable energy systems and waste management models for underserved rural communities.'}, 'natural_major_fit': ['Civil Engineering', 'Environmental Studies', 'Energy Systems Engineering']}, {'title': 'The First-Gen Blueprint: Building Sustainability from Scratch', 'positioning': 'How Sarah turned her journey as a first-gen student into a mission for environmental equity in underserved areas.', 'essay_concept': 'Opens in a cramped kitchen where Sarah’s family talks about college dreams as a first-gen student → shares the tension of balancing academics, soccer, and leadership responsibilities → illuminates the connection between her success and the systemic underdevelopment of rural areas → outlines her commitment to transforming those areas through environmental engineering → builds to her vision of equity in renewable energy access.', 'anchor_scene': 'The smell of homemade cornbread filled the air as Sarah shared her plan to attend college. Her parents cheered, but she couldn’t ignore the contrast between her dreams and the challenges facing her hometown: failing infrastructure and untapped sustainability potential.', 'unexpected_twist': 'A first-gen college path inspires systemic solutions for rural environmental and energy equity.', 'signature_initiative': {'name': 'Equity in Energy Access', 'description': 'A non-profit focused on providing renewable energy solutions to first-generation college towns through collaboration with local governments and academic partnerships.'}, 'natural_major_fit': ['Environmental Engineering', 'Community Development', 'Public Administration']}, {'title': 'Data Meets Dirt: Exploring STEM Solutions for Rural Sustainability', 'positioning': 'How digging into research on renewable energy adoption unearthed Sarah’s passion for rural transformation.', 'essay_concept': 'Begins in a chilly computer lab processing renewable energy efficiency data → weaves her experience volunteering in math and science with tutoring underserved students → illuminates the gap in energy solutions for her rural hometown → describes her vision of blending data analytics and engineering to transform sustainability practices at the local level.', 'anchor_scene': \"The hum of the computer grew louder as Sarah scrolled through rows of rural energy usage data. Her tiny hometown stood out like a sore thumb: low adoption rates and higher inefficiency. Her mind flashed to the middle school students she'd tutored, where basic resources were hard to come by. Change couldn’t stay theoretical anymore.\", 'unexpected_twist': 'Blending hyper-local volunteerism with cutting-edge STEM research to address the energy inequities inherent in rural life.', 'signature_initiative': {'name': 'Rural STEM Renewal', 'description': \"A program designed to bridge research with hands-on initiatives, creating sustainable STEM solutions tailored to rural communities' unique challenges.\"}, 'natural_major_fit': ['Environmental Data Science', 'Energy Policy', 'Sustainable Urban Planning']}]}\u001b[0m"
     ]
    },
    {
     "name": "stderr",
     "output_type": "stream",
     "text": [
      "INFO:httpx:HTTP Request: POST https://clabai3366454354.openai.azure.com/openai/deployments/gpt-4o/chat/completions?api-version=2024-02-01 \"HTTP/1.1 200 OK\"\n"
     ]
    },
    {
     "name": "stdout",
     "output_type": "stream",
     "text": [
      "\u001b[32;1m\u001b[1;3m\n",
      "Invoking: `generate_future_plan` with `{'user_profile': \"{'name': 'Sarah Johnson', 'gender': 'Female', 'birth_country': 'United States', 'cultural_background': ['American', 'first-generation college student', 'rural upbringing', 'STEM-focused', 'environmental advocate'], 'academic': {'gpa': '3.95', 'school_type': 'Public High School', 'test_scores': {'SAT': '1450', 'ACT': '32'}}, 'activities': [{'position': 'President', 'category': 'Academic', 'description': 'Led environmental science club, organized community clean-up events, coordinated with local government on sustainability initiatives'}, {'position': 'Team Captain', 'category': 'Athletics', 'description': 'Varsity soccer team captain, led team to state championship, organized team community service projects'}, {'position': 'Volunteer', 'category': 'Community Service', 'description': 'Tutored underprivileged students in math and science, developed curriculum for after-school program'}, {'position': 'Research Assistant', 'category': 'Research', 'description': 'Assisted professor in environmental impact study, analyzed data on renewable energy adoption in rural communities'}], 'future_plans': ['Study environmental engineering', 'Work on renewable energy solutions', 'Masters degree', 'Start a non-profit focused on rural sustainability']}\", 'narrative': '{\"title\": \"From Soccer Fields to Sustainability: Engineering a Cleaner Future\", \"positioning\": \"How a rural soccer captain transformed her leadership into environmental action.\", \"essay_concept\": \"Essay opens on the tense final moments of a state soccer championship match → reveals how teamwork shaped her resilience and problem-solving approach → connects leadership to her environmental advocacy in rural communities → outlines efforts with local government and renewable energy → envisions a career in pioneering rural sustainability.\", \"anchor_scene\": \"The whistle blew as Sarah’s team clinched the state championship. Amid the deafening cheers, she looked around at her teammates, realizing leadership wasn’t about the final victory but empowering others to reach their potential. That moment sparked her journey to lead beyond sports, starting with the rural community she called home.\", \"unexpected_twist\": \"Soccer captain turned rural sustainability advocate, merging sports leadership with environmental engineering.\", \"signature_initiative\": {\"name\": \"Rural Green Nexus\", \"description\": \"A non-profit program designed to bring renewable energy solutions and sustainable practices to rural communities through youth engagement and local collaboration.\"}, \"natural_major_fit\": [\"Environmental Engineering\", \"Sustainability Studies\", \"Public Policy\"]}'}`\n",
      "\n",
      "\n",
      "\u001b[0m"
     ]
    },
    {
     "name": "stderr",
     "output_type": "stream",
     "text": [
      "INFO:httpx:HTTP Request: POST https://clabai3366454354.openai.azure.com/openai/deployments/gpt-4o/chat/completions?api-version=2024-02-01 \"HTTP/1.1 200 OK\"\n"
     ]
    },
    {
     "name": "stdout",
     "output_type": "stream",
     "text": [
      "\u001b[33;1m\u001b[1;3mRural innovator merging engineering & leadership to champion renewable energy for underserved towns.\u001b[0m"
     ]
    },
    {
     "name": "stderr",
     "output_type": "stream",
     "text": [
      "INFO:httpx:HTTP Request: POST https://clabai3366454354.openai.azure.com/openai/deployments/gpt-4o/chat/completions?api-version=2024-02-01 \"HTTP/1.1 200 OK\"\n"
     ]
    },
    {
     "name": "stdout",
     "output_type": "stream",
     "text": [
      "\u001b[32;1m\u001b[1;3m\n",
      "Invoking: `generate_activity_list` with `{'user_profile': \"{'name': 'Sarah Johnson', 'gender': 'Female', 'birth_country': 'United States', 'cultural_background': ['American', 'first-generation college student', 'rural upbringing', 'STEM-focused', 'environmental advocate'], 'academic': {'gpa': '3.95', 'school_type': 'Public High School', 'test_scores': {'SAT': '1450', 'ACT': '32'}}, 'activities': [{'position': 'President', 'category': 'Academic', 'description': 'Led environmental science club, organized community clean-up events, coordinated with local government on sustainability initiatives'}, {'position': 'Team Captain', 'category': 'Athletics', 'description': 'Varsity soccer team captain, led team to state championship, organized team community service projects'}, {'position': 'Volunteer', 'category': 'Community Service', 'description': 'Tutored underprivileged students in math and science, developed curriculum for after-school program'}, {'position': 'Research Assistant', 'category': 'Research', 'description': 'Assisted professor in environmental impact study, analyzed data on renewable energy adoption in rural communities'}], 'future_plans': ['Study environmental engineering', 'Work on renewable energy solutions', 'Masters degree', 'Start a non-profit focused on rural sustainability']}\", 'narrative': '{\"title\": \"From Soccer Fields to Sustainability: Engineering a Cleaner Future\", \"positioning\": \"How a rural soccer captain transformed her leadership into environmental action.\", \"essay_concept\": \"Essay opens on the tense final moments of a state soccer championship match → reveals how teamwork shaped her resilience and problem-solving approach → connects leadership to her environmental advocacy in rural communities → outlines efforts with local government and renewable energy → envisions a career in pioneering rural sustainability.\", \"anchor_scene\": \"The whistle blew as Sarah’s team clinched the state championship. Amid the deafening cheers, she looked around at her teammates, realizing leadership wasn’t about the final victory but empowering others to reach their potential. That moment sparked her journey to lead beyond sports, starting with the rural community she called home.\", \"unexpected_twist\": \"Soccer captain turned rural sustainability advocate, merging sports leadership with environmental engineering.\", \"signature_initiative\": {\"name\": \"Rural Green Nexus\", \"description\": \"A non-profit program designed to bring renewable energy solutions and sustainable practices to rural communities through youth engagement and local collaboration.\"}, \"natural_major_fit\": [\"Environmental Engineering\", \"Sustainability Studies\", \"Public Policy\"]}', 'future_plan': 'Rural innovator merging engineering & leadership to champion renewable energy for underserved towns.'}`\n",
      "\n",
      "\n",
      "\u001b[0m"
     ]
    },
    {
     "name": "stderr",
     "output_type": "stream",
     "text": [
      "INFO:httpx:HTTP Request: POST https://clabai3366454354.openai.azure.com/openai/deployments/gpt-4o/chat/completions?api-version=2024-02-01 \"HTTP/1.1 200 OK\"\n"
     ]
    },
    {
     "name": "stdout",
     "output_type": "stream",
     "text": [
      "\u001b[38;5;200m\u001b[1;3m**1. Enhanced Version of Existing:**\n",
      "\n",
      "- **Current:** Led environmental science club, organized community clean-up events, coordinated with local government on sustainability initiatives  \n",
      "- **Elevated:** \n",
      "  - **Position:** Founder, Rural Sustainability Advocate  \n",
      "  - **Organization:** Green Roots Initiative  \n",
      "  - **Description:** Founded local sustainability club; spearheaded 12+ clean-up drives; created rural composting program; influenced 3 town policies.  \n",
      "\n",
      "---\n",
      "\n",
      "- **Current:** Varsity soccer team captain, led team to state championship, organized team community service projects  \n",
      "- **Elevated:**  \n",
      "  - **Position:** Soccer Captain + Team Community Leader  \n",
      "  - **Organization:** State Champs for Sustainability  \n",
      "  - **Description:** Won state title; led team in building 2 solar-powered shelters; coached underserved youth; blended unity with environment action.  \n",
      "\n",
      "---\n",
      "\n",
      "- **Current:** Tutored underprivileged students in math and science, developed curriculum for after-school program  \n",
      "- **Elevated:**  \n",
      "  - **Position:** STEM Educator for Equity  \n",
      "  - **Organization:** Rural NextGen Scholars Program  \n",
      "  - **Description:** Created STEM curriculum adopted by 4 schools; improved scores by 22%; tutored 25 rural students in renewable energy models.  \n",
      "\n",
      "---\n",
      "\n",
      "- **Current:** Assisted professor in environmental impact study, analyzed data on renewable energy adoption in rural communities  \n",
      "- **Elevated:**  \n",
      "  - **Position:** Lead Student Research Collaborator  \n",
      "  - **Organization:** Resilient Energy Research Lab  \n",
      "  - **Description:** Led data analysis on 2,000+ residents’ renewables use; co-authored findings; presented to govt panel; influenced solar grants for farms.  \n",
      "\n",
      "---\n",
      "\n",
      "**2. Three New Signature Activities:**  \n",
      "\n",
      "- **Position:** Inventor of “Solar in a Box” Kit  \n",
      "- **Organization:** DIY Rural Energy Collective  \n",
      "- **Description:** Invented affordable solar kits for rural homes; trained families in installation; delivered 50+ units; cut energy bills by 30%.  \n",
      "\n",
      "---\n",
      "\n",
      "- **Position:** Founder of Girls in Green Engineering  \n",
      "- **Organization:** GROW (Girls Reclaiming Outdoor Wealth)  \n",
      "- **Description:** Empowered 40+ rural girls via hands-on STEM labs; built wind turbines at 2 schools; won $5K grant for green tech education.  \n",
      "\n",
      "---\n",
      "\n",
      "- **Position:** Sustainable Agriculture Strategist  \n",
      "- **Organization:** Farm Grid Alliance  \n",
      "- **Description:** Partnered with 10 farms to pilot soil health sensors; led workshops; boosted crop yields by 15%; highlighted at statewide Ag Expo.  \u001b[0m"
     ]
    },
    {
     "name": "stderr",
     "output_type": "stream",
     "text": [
      "INFO:httpx:HTTP Request: POST https://clabai3366454354.openai.azure.com/openai/deployments/gpt-4o/chat/completions?api-version=2024-02-01 \"HTTP/1.1 200 OK\"\n"
     ]
    },
    {
     "name": "stdout",
     "output_type": "stream",
     "text": [
      "\u001b[32;1m\u001b[1;3m\n",
      "Invoking: `generate_main_essay_ideas` with `{'user_profile': \"{'name': 'Sarah Johnson', 'gender': 'Female', 'birth_country': 'United States', 'cultural_background': ['American', 'first-generation college student', 'rural upbringing', 'STEM-focused', 'environmental advocate'], 'academic': {'gpa': '3.95', 'school_type': 'Public High School', 'test_scores': {'SAT': '1450', 'ACT': '32'}}, 'activities': [{'position': 'President', 'category': 'Academic', 'description': 'Led environmental science club, organized community clean-up events, coordinated with local government on sustainability initiatives'}, {'position': 'Team Captain', 'category': 'Athletics', 'description': 'Varsity soccer team captain, led team to state championship, organized team community service projects'}, {'position': 'Volunteer', 'category': 'Community Service', 'description': 'Tutored underprivileged students in math and science, developed curriculum for after-school program'}, {'position': 'Research Assistant', 'category': 'Research', 'description': 'Assisted professor in environmental impact study, analyzed data on renewable energy adoption in rural communities'}], 'future_plans': ['Study environmental engineering', 'Work on renewable energy solutions', 'Masters degree', 'Start a non-profit focused on rural sustainability']}\", 'narrative': '{\"title\": \"From Soccer Fields to Sustainability: Engineering a Cleaner Future\", \"positioning\": \"How a rural soccer captain transformed her leadership into environmental action.\", \"essay_concept\": \"Essay opens on the tense final moments of a state soccer championship match → reveals how teamwork shaped her resilience and problem-solving approach → connects leadership to her environmental advocacy in rural communities → outlines efforts with local government and renewable energy → envisions a career in pioneering rural sustainability.\", \"anchor_scene\": \"The whistle blew as Sarah’s team clinched the state championship. Amid the deafening cheers, she looked around at her teammates, realizing leadership wasn’t about the final victory but empowering others to reach their potential. That moment sparked her journey to lead beyond sports, starting with the rural community she called home.\", \"unexpected_twist\": \"Soccer captain turned rural sustainability advocate, merging sports leadership with environmental engineering.\", \"signature_initiative\": {\"name\": \"Rural Green Nexus\", \"description\": \"A non-profit program designed to bring renewable energy solutions and sustainable practices to rural communities through youth engagement and local collaboration.\"}, \"natural_major_fit\": [\"Environmental Engineering\", \"Sustainability Studies\", \"Public Policy\"]}', 'future_plan': 'Rural innovator merging engineering & leadership to champion renewable energy for underserved towns.', 'activity_result': '**1. Enhanced Version of Existing:**\\n\\n- **Current:** Led environmental science club, organized community clean-up events, coordinated with local government on sustainability initiatives  \\n- **Elevated:** \\n  - **Position:** Founder, Rural Sustainability Advocate  \\n  - **Organization:** Green Roots Initiative  \\n  - **Description:** Founded local sustainability club; spearheaded 12+ clean-up drives; created rural composting program; influenced 3 town policies.  \\n\\n---\\n\\n- **Current:** Varsity soccer team captain, led team to state championship, organized team community service projects  \\n- **Elevated:**  \\n  - **Position:** Soccer Captain + Team Community Leader  \\n  - **Organization:** State Champs for Sustainability  \\n  - **Description:** Won state title; led team in building 2 solar-powered shelters; coached underserved youth; blended unity with environment action.  \\n\\n---\\n\\n- **Current:** Tutored underprivileged students in math and science, developed curriculum for after-school program  \\n- **Elevated:**  \\n  - **Position:** STEM Educator for Equity  \\n  - **Organization:** Rural NextGen Scholars Program  \\n  - **Description:** Created STEM curriculum adopted by 4 schools; improved scores by 22%; tutored 25 rural students in renewable energy models.  \\n\\n---\\n\\n- **Current:** Assisted professor in environmental impact study, analyzed data on renewable energy adoption in rural communities  \\n- **Elevated:**  \\n  - **Position:** Lead Student Research Collaborator  \\n  - **Organization:** Resilient Energy Research Lab  \\n  - **Description:** Led data analysis on 2,000+ residents’ renewables use; co-authored findings; presented to govt panel; influenced solar grants for farms.  \\n\\n---\\n\\n**2. Three New Signature Activities:**  \\n\\n- **Position:** Inventor of “Solar in a Box” Kit  \\n- **Organization:** DIY Rural Energy Collective  \\n- **Description:** Invented affordable solar kits for rural homes; trained families in installation; delivered 50+ units; cut energy bills by 30%.  \\n\\n---\\n\\n- **Position:** Founder of Girls in Green Engineering  \\n- **Organization:** GROW (Girls Reclaiming Outdoor Wealth)  \\n- **Description:** Empowered 40+ rural girls via hands-on STEM labs; built wind turbines at 2 schools; won $5K grant for green tech education.  \\n\\n---\\n\\n- **Position:** Sustainable Agriculture Strategist  \\n- **Organization:** Farm Grid Alliance  \\n- **Description:** Partnered with 10 farms to pilot soil health sensors; led workshops; boosted crop yields by 15%; highlighted at statewide Ag Expo.'}`\n",
      "\n",
      "\n",
      "\u001b[0m"
     ]
    },
    {
     "name": "stderr",
     "output_type": "stream",
     "text": [
      "INFO:httpx:HTTP Request: POST https://clabai3366454354.openai.azure.com/openai/deployments/gpt-4o/chat/completions?api-version=2024-02-01 \"HTTP/1.1 200 OK\"\n"
     ]
    },
    {
     "name": "stdout",
     "output_type": "stream",
     "text": [
      "\u001b[36;1m\u001b[1;3m{'main_essay_ideas': [{'title': 'Whistles, Windmills, and the Power of Teamwork', 'theme': 'Leadership through collaboration', 'hook': 'The whistle pierced the autumn air as my soccer team erupted in celebration, clinching the state championship. Amid the chaos, my focus shifted—not to the trophy, but to the teammates around me whose journeys I had helped shape.', 'challenge': 'Learning how to guide a diverse group of individuals with varying strengths toward a common goal.', 'journey': 'As team captain, I sought ways to foster trust and camaraderie, organizing weekly strategy meetings and team service projects. One initiative had us work together to build solar-powered shelters for underserved neighborhoods—a perfect marriage of environmental action and teamwork.', 'growth': 'I discovered that leadership is less about commanding and more about empowering others to realize a shared vision.', 'impact': 'Our solar-powered shelters provided a safe space for over 50 families, and our team bond translated into an undefeated season on the field.', 'future_connection': 'This revelation inspired me to pursue environmental engineering, applying my collaborative leadership style toward pioneering renewable energy initiatives for rural communities.', 'key_activities': ['Varsity soccer captain', 'Solar-powered shelter initiative'], 'unique_angle': 'Merging leadership lessons from sports with sustainability efforts to create tangible impact.', 'authenticity_factors': ['Demonstration of teamwork over individual accolades', 'Connection to rural advocacy']}, {'title': 'The Compost Puzzle: Building Foundations for Change', 'theme': 'Problem-solving and innovation', 'hook': 'As I stared at the heap of discarded produce, I couldn’t help but wonder: could an answer to my town’s waste problem be decomposing before my eyes?', 'challenge': 'Convincing local farmers and residents in my rural community to adopt a composting program to reduce waste.', 'journey': 'With limited funding and skepticism from townspeople, I began small, recruiting fellow environmental club members to prototype different compost designs. Over weeks, we demonstrated how compost bins could transform waste into valuable fertilizer, hosting workshops to educate families on the benefits.', 'growth': 'I learned the importance of persistence and communication in overcoming resistance to change, discovering that the most daunting challenges can be chipped away bit by bit.', 'impact': 'My team’s efforts resulted in over 30 families adopting composting, reducing waste output by 15%, and nourishing local farms with sustainable fertilizer.', 'future_connection': 'In my future career as an environmental engineer, I plan to scale rural sustainability initiatives just like this, proving that impactful change often starts from the smallest ideas.', 'key_activities': ['Environmental club leadership', 'Community composting program'], 'unique_angle': 'Turning food waste into a renewable solution while tackling cultural resistance in a rural setting.', 'authenticity_factors': ['Grassroots initiative in hometown', 'Practical demonstration of STEM concepts']}, {'title': 'Rural Roots, Global Impact: Harnessing Renewable Energy at Home', 'theme': 'Innovation fueled by personal experiences', 'hook': 'The lights in our kitchen flickered again, a reminder of the limited infrastructure in our small rural town. As frustrating as it seemed, it also sparked an idea: could renewable energy solve this problem?', 'challenge': 'Addressing unreliable energy access in rural communities while navigating limited resources and technical knowledge.', 'journey': 'As a research assistant on a renewable energy study, I dove into data on solar adoption among rural households, revealing key barriers like cost and accessibility. Inspired by this, I collaborated with mentors to prototype an affordable DIY solar kit, gathering feedback from local families and refining designs.', 'growth': 'I realized that real change requires integrating human-centered design with innovation—listening to community needs to craft practical solutions.', 'impact': 'Our ‘Solar in a Box’ kits empowered over 50 families to lower energy bills by 30% and reduce reliance on unstable grid systems, sparking statewide interest in localized renewable energy programs.', 'future_connection': 'This experience solidified my commitment to studying environmental engineering and launching initiatives that bridge gaps between underserved communities and sustainable technologies.', 'key_activities': ['Renewable energy research', 'DIY solar kit project'], 'unique_angle': 'Personalizing large-scale energy solutions to fit the unique challenges faced by rural households.', 'authenticity_factors': ['Direct tie to family experience', 'Practical engineering results']}, {'title': 'Girls in Green Engineering: Closing STEM’s Gender Gap', 'theme': 'Empowerment and equity', 'hook': 'The workshop buzzed with excitement as a dozen young girls assembled wind turbines from kits—a quiet revolution in rural green engineering spearheaded by our small team.', 'challenge': 'Bridging the gender gap in STEM fields and sparking interest among girls from underserved rural backgrounds.', 'journey': 'Through my ‘Girls in Green Engineering’ initiative, I partnered with schools to host hands-on labs, providing tools and mentorship for STEM exploration. From creating simple circuits to designing miniature wind turbines, I tailored each session to inspire creativity and confidence.', 'growth': 'I realized that opportunity and representation are crucial for empowering underrepresented groups, and small actions can shift cultural norms in a big way.', 'impact': 'Over 40 young women participated, with two schools integrating green technology labs permanently. A $5,000 grant from local sponsors further expanded this program.', 'future_connection': 'I plan to scale programs like this nationally through my career in environmental engineering, promoting gender equity while addressing global sustainability challenges.', 'key_activities': ['Girls in Green Engineering program', 'Wind turbine workshops'], 'unique_angle': 'Tackling gender disparity in STEM through environmental education in rural settings.', 'authenticity_factors': ['Focus on empowering others', 'Hands-on approach to sustainability education']}]}\u001b[0m"
     ]
    },
    {
     "name": "stderr",
     "output_type": "stream",
     "text": [
      "INFO:httpx:HTTP Request: POST https://clabai3366454354.openai.azure.com/openai/deployments/gpt-4o/chat/completions?api-version=2024-02-01 \"HTTP/1.1 200 OK\"\n"
     ]
    },
    {
     "name": "stdout",
     "output_type": "stream",
     "text": [
      "\u001b[32;1m\u001b[1;3m```json\n",
      "{\n",
      "  \"main_essay_ideas\": [\n",
      "    {\n",
      "      \"title\": \"Whistles, Windmills, and the Power of Teamwork\",\n",
      "      \"theme\": \"Leadership through collaboration\",\n",
      "      \"hook\": \"The whistle pierced the autumn air as my soccer team erupted in celebration, clinching the state championship. Amid the chaos, my focus shifted—not to the trophy, but to the teammates around me whose journeys I had helped shape.\",\n",
      "      \"challenge\": \"Learning how to guide a diverse group of individuals with varying strengths toward a common goal.\",\n",
      "      \"journey\": \"As team captain, I sought ways to foster trust and camaraderie, organizing weekly strategy meetings and team service projects. One initiative had us work together to build solar-powered shelters for underserved neighborhoods—a perfect marriage of environmental action and teamwork.\",\n",
      "      \"growth\": \"I discovered that leadership is less about commanding and more about empowering others to realize a shared vision.\",\n",
      "      \"impact\": \"Our solar-powered shelters provided a safe space for over 50 families, and our team bond translated into an undefeated season on the field.\",\n",
      "      \"future_connection\": \"This revelation inspired me to pursue environmental engineering, applying my collaborative leadership style toward pioneering renewable energy initiatives for rural communities.\",\n",
      "      \"key_activities\": [\n",
      "        \"Varsity soccer captain\",\n",
      "        \"Solar-powered shelter initiative\"\n",
      "      ],\n",
      "      \"unique_angle\": \"Merging leadership lessons from sports with sustainability efforts to create tangible impact.\",\n",
      "      \"authenticity_factors\": [\n",
      "        \"Demonstration of teamwork over individual accolades\",\n",
      "        \"Connection to rural advocacy\"\n",
      "      ]\n",
      "    },\n",
      "    {\n",
      "      \"title\": \"The Compost Puzzle: Building Foundations for Change\",\n",
      "      \"theme\": \"Problem-solving and innovation\",\n",
      "      \"hook\": \"As I stared at the heap of discarded produce, I couldn’t help but wonder: could an answer to my town’s waste problem be decomposing before my eyes?\",\n",
      "      \"challenge\": \"Convincing local farmers and residents in my rural community to adopt a composting program to reduce waste.\",\n",
      "      \"journey\": \"With limited funding and skepticism from townspeople, I began small, recruiting fellow environmental club members to prototype different compost designs. Over weeks, we demonstrated how compost bins could transform waste into valuable fertilizer, hosting workshops to educate families on the benefits.\",\n",
      "      \"growth\": \"I learned the importance of persistence and communication in overcoming resistance to change, discovering that the most daunting challenges can be chipped away bit by bit.\",\n",
      "      \"impact\": \"My team’s efforts resulted in over 30 families adopting composting, reducing waste output by 15%, and nourishing local farms with sustainable fertilizer.\",\n",
      "      \"future_connection\": \"In my future career as an environmental engineer, I plan to scale rural sustainability initiatives just like this, proving that impactful change often starts from the smallest ideas.\",\n",
      "      \"key_activities\": [\n",
      "        \"Environmental club leadership\",\n",
      "        \"Community composting program\"\n",
      "      ],\n",
      "      \"unique_angle\": \"Turning food waste into a renewable solution while tackling cultural resistance in a rural setting.\",\n",
      "      \"authenticity_factors\": [\n",
      "        \"Grassroots initiative in hometown\",\n",
      "        \"Practical demonstration of STEM concepts\"\n",
      "      ]\n",
      "    },\n",
      "    {\n",
      "      \"title\": \"Rural Roots, Global Impact: Harnessing Renewable Energy at Home\",\n",
      "      \"theme\": \"Innovation fueled by personal experiences\",\n",
      "      \"hook\": \"The lights in our kitchen flickered again, a reminder of the limited infrastructure in our small rural town. As frustrating as it seemed, it also sparked an idea: could renewable energy solve this problem?\",\n",
      "      \"challenge\": \"Addressing unreliable energy access in rural communities while navigating limited resources and technical knowledge.\",\n",
      "      \"journey\": \"As a research assistant on a renewable energy study, I dove into data on solar adoption among rural households, revealing key barriers like cost and accessibility. Inspired by this, I collaborated with mentors to prototype an affordable DIY solar kit, gathering feedback from local families and refining designs.\",\n",
      "      \"growth\": \"I realized that real change requires integrating human-centered design with innovation—listening to community needs to craft practical solutions.\",\n",
      "      \"impact\": \"Our ‘Solar in a Box’ kits empowered over 50 families to lower energy bills by 30% and reduce reliance on unstable grid systems, sparking statewide interest in localized renewable energy programs.\",\n",
      "      \"future_connection\": \"This experience solidified my commitment to studying environmental engineering and launching initiatives that bridge gaps between underserved communities and sustainable technologies.\",\n",
      "      \"key_activities\": [\n",
      "        \"Renewable energy research\",\n",
      "        \"DIY solar kit project\"\n",
      "      ],\n",
      "      \"unique_angle\": \"Personalizing large-scale energy solutions to fit the unique challenges faced by rural households.\",\n",
      "      \"authenticity_factors\": [\n",
      "        \"Direct tie to family experience\",\n",
      "        \"Practical engineering results\"\n",
      "      ]\n",
      "    },\n",
      "    {\n",
      "      \"title\": \"Girls in Green Engineering: Closing STEM’s Gender Gap\",\n",
      "      \"theme\": \"Empowerment and equity\",\n",
      "      \"hook\": \"The workshop buzzed with excitement as a dozen young girls assembled wind turbines from kits—a quiet revolution in rural green engineering spearheaded by our small team.\",\n",
      "      \"challenge\": \"Bridging the gender gap in STEM fields and sparking interest among girls from underserved rural backgrounds.\",\n",
      "      \"journey\": \"Through my ‘Girls in Green Engineering’ initiative, I partnered with schools to host hands-on labs, providing tools and mentorship for STEM exploration. From creating simple circuits to designing miniature wind turbines, I tailored each session to inspire creativity and confidence.\",\n",
      "      \"growth\": \"I realized that opportunity and representation are crucial for empowering underrepresented groups, and small actions can shift cultural norms in a big way.\",\n",
      "      \"impact\": \"Over 40 young women participated, with two schools integrating green technology labs permanently. A $5,000 grant from local sponsors further expanded this program.\",\n",
      "      \"future_connection\": \"I plan to scale programs like this nationally through my career in environmental engineering, promoting gender equity while addressing global sustainability challenges.\",\n",
      "      \"key_activities\": [\n",
      "        \"Girls in Green Engineering program\",\n",
      "        \"Wind turbine workshops\"\n",
      "      ],\n",
      "      \"unique_angle\": \"Tackling gender disparity in STEM through environmental education in rural settings.\",\n",
      "      \"authenticity_factors\": [\n",
      "        \"Focus on empowering others\",\n",
      "        \"Hands-on approach to sustainability education\"\n",
      "      ]\n",
      "    }\n",
      "  ]\n",
      "}\n",
      "```\u001b[0m\n",
      "\n",
      "\u001b[1m> Finished chain.\u001b[0m\n",
      "```json\n",
      "{\n",
      "  \"main_essay_ideas\": [\n",
      "    {\n",
      "      \"title\": \"Whistles, Windmills, and the Power of Teamwork\",\n",
      "      \"theme\": \"Leadership through collaboration\",\n",
      "      \"hook\": \"The whistle pierced the autumn air as my soccer team erupted in celebration, clinching the state championship. Amid the chaos, my focus shifted—not to the trophy, but to the teammates around me whose journeys I had helped shape.\",\n",
      "      \"challenge\": \"Learning how to guide a diverse group of individuals with varying strengths toward a common goal.\",\n",
      "      \"journey\": \"As team captain, I sought ways to foster trust and camaraderie, organizing weekly strategy meetings and team service projects. One initiative had us work together to build solar-powered shelters for underserved neighborhoods—a perfect marriage of environmental action and teamwork.\",\n",
      "      \"growth\": \"I discovered that leadership is less about commanding and more about empowering others to realize a shared vision.\",\n",
      "      \"impact\": \"Our solar-powered shelters provided a safe space for over 50 families, and our team bond translated into an undefeated season on the field.\",\n",
      "      \"future_connection\": \"This revelation inspired me to pursue environmental engineering, applying my collaborative leadership style toward pioneering renewable energy initiatives for rural communities.\",\n",
      "      \"key_activities\": [\n",
      "        \"Varsity soccer captain\",\n",
      "        \"Solar-powered shelter initiative\"\n",
      "      ],\n",
      "      \"unique_angle\": \"Merging leadership lessons from sports with sustainability efforts to create tangible impact.\",\n",
      "      \"authenticity_factors\": [\n",
      "        \"Demonstration of teamwork over individual accolades\",\n",
      "        \"Connection to rural advocacy\"\n",
      "      ]\n",
      "    },\n",
      "    {\n",
      "      \"title\": \"The Compost Puzzle: Building Foundations for Change\",\n",
      "      \"theme\": \"Problem-solving and innovation\",\n",
      "      \"hook\": \"As I stared at the heap of discarded produce, I couldn’t help but wonder: could an answer to my town’s waste problem be decomposing before my eyes?\",\n",
      "      \"challenge\": \"Convincing local farmers and residents in my rural community to adopt a composting program to reduce waste.\",\n",
      "      \"journey\": \"With limited funding and skepticism from townspeople, I began small, recruiting fellow environmental club members to prototype different compost designs. Over weeks, we demonstrated how compost bins could transform waste into valuable fertilizer, hosting workshops to educate families on the benefits.\",\n",
      "      \"growth\": \"I learned the importance of persistence and communication in overcoming resistance to change, discovering that the most daunting challenges can be chipped away bit by bit.\",\n",
      "      \"impact\": \"My team’s efforts resulted in over 30 families adopting composting, reducing waste output by 15%, and nourishing local farms with sustainable fertilizer.\",\n",
      "      \"future_connection\": \"In my future career as an environmental engineer, I plan to scale rural sustainability initiatives just like this, proving that impactful change often starts from the smallest ideas.\",\n",
      "      \"key_activities\": [\n",
      "        \"Environmental club leadership\",\n",
      "        \"Community composting program\"\n",
      "      ],\n",
      "      \"unique_angle\": \"Turning food waste into a renewable solution while tackling cultural resistance in a rural setting.\",\n",
      "      \"authenticity_factors\": [\n",
      "        \"Grassroots initiative in hometown\",\n",
      "        \"Practical demonstration of STEM concepts\"\n",
      "      ]\n",
      "    },\n",
      "    {\n",
      "      \"title\": \"Rural Roots, Global Impact: Harnessing Renewable Energy at Home\",\n",
      "      \"theme\": \"Innovation fueled by personal experiences\",\n",
      "      \"hook\": \"The lights in our kitchen flickered again, a reminder of the limited infrastructure in our small rural town. As frustrating as it seemed, it also sparked an idea: could renewable energy solve this problem?\",\n",
      "      \"challenge\": \"Addressing unreliable energy access in rural communities while navigating limited resources and technical knowledge.\",\n",
      "      \"journey\": \"As a research assistant on a renewable energy study, I dove into data on solar adoption among rural households, revealing key barriers like cost and accessibility. Inspired by this, I collaborated with mentors to prototype an affordable DIY solar kit, gathering feedback from local families and refining designs.\",\n",
      "      \"growth\": \"I realized that real change requires integrating human-centered design with innovation—listening to community needs to craft practical solutions.\",\n",
      "      \"impact\": \"Our ‘Solar in a Box’ kits empowered over 50 families to lower energy bills by 30% and reduce reliance on unstable grid systems, sparking statewide interest in localized renewable energy programs.\",\n",
      "      \"future_connection\": \"This experience solidified my commitment to studying environmental engineering and launching initiatives that bridge gaps between underserved communities and sustainable technologies.\",\n",
      "      \"key_activities\": [\n",
      "        \"Renewable energy research\",\n",
      "        \"DIY solar kit project\"\n",
      "      ],\n",
      "      \"unique_angle\": \"Personalizing large-scale energy solutions to fit the unique challenges faced by rural households.\",\n",
      "      \"authenticity_factors\": [\n",
      "        \"Direct tie to family experience\",\n",
      "        \"Practical engineering results\"\n",
      "      ]\n",
      "    },\n",
      "    {\n",
      "      \"title\": \"Girls in Green Engineering: Closing STEM’s Gender Gap\",\n",
      "      \"theme\": \"Empowerment and equity\",\n",
      "      \"hook\": \"The workshop buzzed with excitement as a dozen young girls assembled wind turbines from kits—a quiet revolution in rural green engineering spearheaded by our small team.\",\n",
      "      \"challenge\": \"Bridging the gender gap in STEM fields and sparking interest among girls from underserved rural backgrounds.\",\n",
      "      \"journey\": \"Through my ‘Girls in Green Engineering’ initiative, I partnered with schools to host hands-on labs, providing tools and mentorship for STEM exploration. From creating simple circuits to designing miniature wind turbines, I tailored each session to inspire creativity and confidence.\",\n",
      "      \"growth\": \"I realized that opportunity and representation are crucial for empowering underrepresented groups, and small actions can shift cultural norms in a big way.\",\n",
      "      \"impact\": \"Over 40 young women participated, with two schools integrating green technology labs permanently. A $5,000 grant from local sponsors further expanded this program.\",\n",
      "      \"future_connection\": \"I plan to scale programs like this nationally through my career in environmental engineering, promoting gender equity while addressing global sustainability challenges.\",\n",
      "      \"key_activities\": [\n",
      "        \"Girls in Green Engineering program\",\n",
      "        \"Wind turbine workshops\"\n",
      "      ],\n",
      "      \"unique_angle\": \"Tackling gender disparity in STEM through environmental education in rural settings.\",\n",
      "      \"authenticity_factors\": [\n",
      "        \"Focus on empowering others\",\n",
      "        \"Hands-on approach to sustainability education\"\n",
      "      ]\n",
      "    }\n",
      "  ]\n",
      "}\n",
      "```\n"
     ]
    }
   ],
   "source": [
    "resp = executor.invoke(\n",
    "    {\n",
    "        \"input\": \"Generate full admissions workflow for this student\",\n",
    "        \"user_profile\": DUMMY_USER_DATA,\n",
    "    }\n",
    ")\n",
    "\n",
    "print(resp[\"output\"])"
   ]
  },
  {
   "cell_type": "code",
   "execution_count": null,
   "metadata": {},
   "outputs": [],
   "source": [
    "# from workflow_orchestrator import generate_application_strategy\n",
    "\n",
    "# # Use the orchestrator instead of individual chains\n",
    "# result = generate_application_strategy(DUMMY_USER_DATA)\n",
    "\n",
    "# # Or use the agent with the new tools\n",
    "# from tools import generate_complete_application_strategy\n",
    "\n",
    "# # Add this tool to your agent\n",
    "# tools = [generate_complete_application_strategy]"
   ]
  },
  {
   "cell_type": "code",
   "execution_count": null,
   "metadata": {},
   "outputs": [],
   "source": [
    "# import logging\n",
    "\n",
    "# from workflow_orchestrator import WorkflowOrchestrator, generate_application_strategy\n",
    "\n",
    "# # Configure logging to see the workflow progress\n",
    "# logging.basicConfig(level=logging.INFO)"
   ]
  }
 ],
 "metadata": {
  "kernelspec": {
   "display_name": "Python 3",
   "language": "python",
   "name": "python3"
  },
  "language_info": {
   "codemirror_mode": {
    "name": "ipython",
    "version": 3
   },
   "file_extension": ".py",
   "mimetype": "text/x-python",
   "name": "python",
   "nbconvert_exporter": "python",
   "pygments_lexer": "ipython3",
   "version": "3.12.3"
  }
 },
 "nbformat": 4,
 "nbformat_minor": 2
}
