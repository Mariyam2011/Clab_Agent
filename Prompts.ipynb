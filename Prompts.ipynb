{
 "cells": [
  {
   "cell_type": "code",
   "execution_count": 7,
   "metadata": {},
   "outputs": [
    {
     "data": {
      "text/plain": [
       "True"
      ]
     },
     "execution_count": 7,
     "metadata": {},
     "output_type": "execute_result"
    }
   ],
   "source": [
    "from dotenv import load_dotenv\n",
    "\n",
    "load_dotenv()"
   ]
  },
  {
   "cell_type": "code",
   "execution_count": 8,
   "metadata": {},
   "outputs": [
    {
     "name": "stdout",
     "output_type": "stream",
     "text": [
      "The autoreload extension is already loaded. To reload it, use:\n",
      "  %reload_ext autoreload\n"
     ]
    }
   ],
   "source": [
    "%load_ext autoreload\n",
    "%autoreload 2"
   ]
  },
  {
   "cell_type": "code",
   "execution_count": 9,
   "metadata": {},
   "outputs": [],
   "source": [
    "try:\n",
    "    # Prefer Pydantic v2\n",
    "    from pydantic import BaseModel, Field\n",
    "except Exception:\n",
    "    # Fallback for older stacks (not recommended for new code)\n",
    "    from langchain_core.pydantic_v1 import BaseModel, Field"
   ]
  },
  {
   "cell_type": "code",
   "execution_count": 10,
   "metadata": {},
   "outputs": [],
   "source": [
    "import os\n",
    "import json\n",
    "import pickle\n",
    "from glob import glob\n",
    "\n",
    "from typing import Dict, List, Any, Optional\n",
    "from dataclasses import dataclass\n",
    "\n",
    "from langchain_openai import OpenAIEmbeddings, AzureChatOpenAI\n",
    "from langchain_core.prompts import ChatPromptTemplate\n",
    "from langchain_core.output_parsers import StrOutputParser\n",
    "\n",
    "from sklearn.metrics.pairwise import cosine_similarity\n",
    "from IPython.display import Markdown, display"
   ]
  },
  {
   "cell_type": "code",
   "execution_count": 11,
   "metadata": {},
   "outputs": [],
   "source": [
    "from prompt_templates.narratives import create_narrative_angles_prompt_template\n",
    "from prompt_templates.Future_plan import create_future_plan_prompt_template\n",
    "from prompt_templates.Activity import create_activity_list_generator_prompt_template\n",
    "from prompt_templates.Main_essay import create_main_essay_ideas_prompt_template"
   ]
  },
  {
   "cell_type": "code",
   "execution_count": 12,
   "metadata": {},
   "outputs": [],
   "source": [
    "from langchain.agents import AgentExecutor, create_openai_tools_agent\n",
    "from langchain_core.prompts import ChatPromptTemplate, MessagesPlaceholder\n",
    "\n",
    "from tools import (\n",
    "    generate_narrative_angles,\n",
    "    generate_future_plan,\n",
    "    generate_activity_list,\n",
    "    generate_main_essay_ideas,\n",
    ")"
   ]
  },
  {
   "cell_type": "code",
   "execution_count": 13,
   "metadata": {},
   "outputs": [],
   "source": [
    "embeddings_model = OpenAIEmbeddings()\n",
    "\n",
    "llm = AzureChatOpenAI(\n",
    "    deployment_name=\"gpt-4o\",\n",
    ")"
   ]
  },
  {
   "cell_type": "code",
   "execution_count": 14,
   "metadata": {},
   "outputs": [],
   "source": [
    "# folder_path = \"clab_data\"\n",
    "# applications_data = []\n",
    "\n",
    "# # Get all JSON files in the folder\n",
    "# for file_path in glob(os.path.join(folder_path, \"*.json\")):\n",
    "#     with open(file_path, \"r\", encoding=\"utf-8\") as f:\n",
    "#         applications_data = json.load(f)\n",
    "# print(f\"Loaded {len(applications_data)} applications from {len(glob(os.path.join(folder_path, '*.json')))} files\")"
   ]
  },
  {
   "cell_type": "code",
   "execution_count": 15,
   "metadata": {},
   "outputs": [],
   "source": [
    "# with open(\"clab_data/all_data.json\", \"r\", encoding=\"utf-8\") as f:\n",
    "#     applications_data = json.load(f)\n",
    "\n",
    "# print(f\"Loaded {len(applications_data)} applications from all_data.json\")"
   ]
  },
  {
   "cell_type": "code",
   "execution_count": 16,
   "metadata": {},
   "outputs": [],
   "source": [
    "# @dataclass\n",
    "# class Application:  # This will store accepted applications as well as their embeddings\n",
    "#     filename: str\n",
    "#     content: Dict[str, Any]\n",
    "#     embedding: List[float] = None"
   ]
  },
  {
   "cell_type": "code",
   "execution_count": 17,
   "metadata": {},
   "outputs": [],
   "source": [
    "# applications = []\n",
    "\n",
    "# for key, application in applications_data.items():\n",
    "#     embedding = embeddings_model.embed_query(json.dumps(application))\n",
    "\n",
    "#     application = Application(\n",
    "#         filename=key,\n",
    "#         content=application,\n",
    "#         embedding=embedding,\n",
    "#     )\n",
    "\n",
    "#     applications.append(application)\n",
    "\n",
    "# with open(\"application_embeddings.pkl\", \"wb\") as f:\n",
    "#     pickle.dump(applications, f)"
   ]
  },
  {
   "cell_type": "code",
   "execution_count": 18,
   "metadata": {},
   "outputs": [],
   "source": [
    "# applications = pickle.load(open(\"application_embeddings.pkl\", \"rb\"))"
   ]
  },
  {
   "cell_type": "code",
   "execution_count": 19,
   "metadata": {},
   "outputs": [],
   "source": [
    "DUMMY_USER_DATA = {\n",
    "    \"name\": \"Sarah Johnson\",\n",
    "    \"gender\": \"Female\",\n",
    "    \"birth_country\": \"United States\",\n",
    "    \"cultural_background\": [\n",
    "        \"American\",\n",
    "        \"first-generation college student\",\n",
    "        \"rural upbringing\",\n",
    "        \"STEM-focused\",\n",
    "        \"environmental advocate\",\n",
    "    ],\n",
    "    \"academic\": {\n",
    "        \"gpa\": \"3.95\",\n",
    "        \"school_type\": \"Public High School\",\n",
    "        \"test_scores\": {\"SAT\": \"1450\", \"ACT\": \"32\"},\n",
    "    },\n",
    "    \"activities\": [\n",
    "        {\n",
    "            \"position\": \"President\",\n",
    "            \"category\": \"Academic\",\n",
    "            \"description\": \"Led environmental science club, organized community clean-up events, coordinated with local government on sustainability initiatives\",\n",
    "        },\n",
    "        {\n",
    "            \"position\": \"Team Captain\",\n",
    "            \"category\": \"Athletics\",\n",
    "            \"description\": \"Varsity soccer team captain, led team to state championship, organized team community service projects\",\n",
    "        },\n",
    "        {\n",
    "            \"position\": \"Volunteer\",\n",
    "            \"category\": \"Community Service\",\n",
    "            \"description\": \"Tutored underprivileged students in math and science, developed curriculum for after-school program\",\n",
    "        },\n",
    "        {\n",
    "            \"position\": \"Research Assistant\",\n",
    "            \"category\": \"Research\",\n",
    "            \"description\": \"Assisted professor in environmental impact study, analyzed data on renewable energy adoption in rural communities\",\n",
    "        },\n",
    "    ],\n",
    "    \"future_plans\": [\n",
    "        \"Study environmental engineering\",\n",
    "        \"Work on renewable energy solutions\",\n",
    "        \"Masters degree\",\n",
    "        \"Start a non-profit focused on rural sustainability\",\n",
    "    ],\n",
    "}"
   ]
  },
  {
   "cell_type": "code",
   "execution_count": 20,
   "metadata": {},
   "outputs": [],
   "source": [
    "# user_embedding = embeddings_model.embed_query(json.dumps(DUMMY_USER_DATA))"
   ]
  },
  {
   "cell_type": "code",
   "execution_count": 21,
   "metadata": {},
   "outputs": [],
   "source": [
    "# similarities = []\n",
    "\n",
    "# for app in applications:\n",
    "#     similarity = cosine_similarity([user_embedding], [app.embedding])[0][0]\n",
    "#     similarities.append((app, similarity))\n",
    "\n",
    "# top_3_similar = sorted(similarities, key=lambda x: x[1], reverse=True)[:3]\n",
    "\n",
    "# print(\"Top 3 Accepted Applications:\")\n",
    "# print(\"\\n\".join([each[0].filename for each in top_3_similar]))"
   ]
  },
  {
   "cell_type": "code",
   "execution_count": 22,
   "metadata": {},
   "outputs": [],
   "source": [
    "# application_narratives = []\n",
    "\n",
    "# for each in top_3_similar:\n",
    "#     temp = each[0].content\n",
    "\n",
    "#     if \"application_narrative\" in temp:\n",
    "#         application_narratives.append(temp[\"application_narrative\"])"
   ]
  },
  {
   "cell_type": "markdown",
   "metadata": {},
   "source": [
    "Narrative\n"
   ]
  },
  {
   "cell_type": "code",
   "execution_count": 23,
   "metadata": {},
   "outputs": [],
   "source": [
    "# narrative_angles_prompt_template = create_narrative_angles_prompt_template()\n",
    "\n",
    "# theme_chain = narrative_angles_prompt_template | llm | StrOutputParser()\n",
    "\n",
    "# theme_result = theme_chain.invoke(\n",
    "#     {\n",
    "#         \"user_profile\": json.dumps(DUMMY_USER_DATA)\n",
    "#         # \"similar_narrative_themes\": json.dumps(application_narratives),\n",
    "#     }\n",
    "# )\n",
    "\n",
    "# print(theme_result)\n",
    "# # wrap JSON parsing:\n",
    "# try:\n",
    "#     theme_result = json.loads(theme_result)\n",
    "# except json.JSONDecodeError as e:\n",
    "#     print(f\"JSON parsing error: {e}\")\n",
    "#     print(f\"Raw output: {theme_result}\")"
   ]
  },
  {
   "cell_type": "markdown",
   "metadata": {},
   "source": [
    "Future plan -\n"
   ]
  },
  {
   "cell_type": "code",
   "execution_count": 24,
   "metadata": {},
   "outputs": [],
   "source": [
    "# future_plan_prompt_template = create_future_plan_prompt_template()\n",
    "\n",
    "# future_plan_chain = future_plan_prompt_template | llm | StrOutputParser()\n",
    "\n",
    "# future_plan_result = future_plan_chain.invoke(\n",
    "#     {\n",
    "#         \"user_profile\": json.dumps(DUMMY_USER_DATA),\n",
    "#         \"narrative\": theme_result[\"narrative_angles\"][0],\n",
    "#     }\n",
    "# )\n",
    "\n",
    "# print(future_plan_result)"
   ]
  },
  {
   "cell_type": "markdown",
   "metadata": {},
   "source": [
    "Activity-generator\n"
   ]
  },
  {
   "cell_type": "code",
   "execution_count": 25,
   "metadata": {},
   "outputs": [],
   "source": [
    "# activity_prompt_template = create_activity_list_generator_prompt_template()\n",
    "# # Create the chain\n",
    "# activity_chain = activity_prompt_template | llm | StrOutputParser()\n",
    "\n",
    "# # Generate the activity list\n",
    "# activity_result = activity_chain.invoke(\n",
    "#     {\n",
    "#         \"user_profile\": json.dumps(DUMMY_USER_DATA),\n",
    "#         \"narrative\": theme_result[\"narrative_angles\"][0],\n",
    "#         \"future_plan\": future_plan_result,\n",
    "#     }\n",
    "# )\n",
    "\n",
    "# print(activity_result)"
   ]
  },
  {
   "cell_type": "markdown",
   "metadata": {},
   "source": [
    "main essay -\n"
   ]
  },
  {
   "cell_type": "code",
   "execution_count": 26,
   "metadata": {},
   "outputs": [],
   "source": [
    "# main_essay_prompt_template = create_main_essay_ideas_prompt_template()\n",
    "\n",
    "# # Create the chain\n",
    "# main_essay_chain = main_essay_prompt_template | llm | StrOutputParser()\n",
    "\n",
    "# # Generate the main essay ideas\n",
    "# main_essay_result = main_essay_chain.invoke(\n",
    "#     {\n",
    "#         \"user_profile\": json.dumps(DUMMY_USER_DATA),\n",
    "#         \"narrative\": theme_result[\"narrative_angles\"][0],\n",
    "#         \"future_plan\": future_plan_result,\n",
    "#         \"activity_result\": activity_result,\n",
    "#     }\n",
    "# )\n",
    "# print(main_essay_result)"
   ]
  },
  {
   "cell_type": "code",
   "execution_count": 27,
   "metadata": {},
   "outputs": [],
   "source": [
    "from langchain.agents import create_openai_tools_agent, AgentExecutor\n",
    "from langchain_core.prompts import ChatPromptTemplate, MessagesPlaceholder\n",
    "\n",
    "prompt = ChatPromptTemplate.from_messages(\n",
    "    [\n",
    "        (\n",
    "            \"system\",\n",
    "            \"You are an elite admissions strategist. \"\n",
    "            \"When calling any tool, ALWAYS include the `user_profile` argument. \"\n",
    "            \"Follow this strict sequence: \"\n",
    "            \"1) generate_narrative_angles(user_profile) \"\n",
    "            \"2) generate_future_plan(user_profile, narrative=<first angle>) \"\n",
    "            \"3) generate_activity_list(user_profile, narrative=<first angle>, future_plan) \"\n",
    "            \"4) generate_main_essay_ideas(user_profile, narrative=<first angle>, future_plan, activity_result). \"\n",
    "            \"Return the final JSON from the last tool.\",\n",
    "        ),\n",
    "        (\"user\", \"USER_PROFILE(JSON): {user_profile}\\n\\nTASK: {input}\"),\n",
    "        MessagesPlaceholder(\"agent_scratchpad\"),\n",
    "    ]\n",
    ")\n",
    "\n",
    "tools = [\n",
    "    generate_narrative_angles,\n",
    "    generate_future_plan,\n",
    "    generate_activity_list,\n",
    "    generate_main_essay_ideas,\n",
    "]"
   ]
  },
  {
   "cell_type": "code",
   "execution_count": 28,
   "metadata": {},
   "outputs": [
    {
     "name": "stderr",
     "output_type": "stream",
     "text": [
      "/var/folders/5_/lctfh7x57pn7tp9wd2gj00x40000gn/T/ipykernel_7847/47310789.py:3: LangChainDeprecationWarning: Please see the migration guide at: https://python.langchain.com/docs/versions/migrating_memory/\n",
      "  memory = ConversationBufferMemory(\n"
     ]
    }
   ],
   "source": [
    "from langchain.memory import ConversationBufferMemory\n",
    "\n",
    "memory = ConversationBufferMemory(\n",
    "    memory_key=\"chat_history\",\n",
    "    return_messages=True,\n",
    "    input_key=\"input\",\n",
    ")\n",
    "\n",
    "agent = create_openai_tools_agent(llm, tools, prompt)\n",
    "\n",
    "executor = AgentExecutor(agent=agent, tools=tools, verbose=True, memory=memory)\n"
   ]
  },
  {
   "cell_type": "code",
   "execution_count": 29,
   "metadata": {},
   "outputs": [
    {
     "name": "stdout",
     "output_type": "stream",
     "text": [
      "\n",
      "\n",
      "\u001b[1m> Entering new AgentExecutor chain...\u001b[0m\n"
     ]
    },
    {
     "name": "stderr",
     "output_type": "stream",
     "text": [
      "INFO:httpx:HTTP Request: POST https://clabai3366454354.openai.azure.com/openai/deployments/gpt-4o/chat/completions?api-version=2024-02-01 \"HTTP/1.1 200 OK\"\n"
     ]
    },
    {
     "name": "stdout",
     "output_type": "stream",
     "text": [
      "\u001b[32;1m\u001b[1;3m\n",
      "Invoking: `generate_narrative_angles` with `{'user_profile': '{\"name\": \"Sarah Johnson\", \"gender\": \"Female\", \"birth_country\": \"United States\", \"cultural_background\": [\"American\", \"first-generation college student\", \"rural upbringing\", \"STEM-focused\", \"environmental advocate\"], \"academic\": {\"gpa\": \"3.95\", \"school_type\": \"Public High School\", \"test_scores\": {\"SAT\": \"1450\", \"ACT\": \"32\"}}, \"activities\": [{\"position\": \"President\", \"category\": \"Academic\", \"description\": \"Led environmental science club, organized community clean-up events, coordinated with local government on sustainability initiatives\"}, {\"position\": \"Team Captain\", \"category\": \"Athletics\", \"description\": \"Varsity soccer team captain, led team to state championship, organized team community service projects\"}, {\"position\": \"Volunteer\", \"category\": \"Community Service\", \"description\": \"Tutored underprivileged students in math and science, developed curriculum for after-school program\"}, {\"position\": \"Research Assistant\", \"category\": \"Research\", \"description\": \"Assisted professor in environmental impact study, analyzed data on renewable energy adoption in rural communities\"}], \"future_plans\": [\"Study environmental engineering\", \"Work on renewable energy solutions\", \"Masters degree\", \"Start a non-profit focused on rural sustainability\"]}'}`\n",
      "\n",
      "\n",
      "\u001b[0m"
     ]
    },
    {
     "name": "stderr",
     "output_type": "stream",
     "text": [
      "INFO:httpx:HTTP Request: POST https://clabai3366454354.openai.azure.com/openai/deployments/gpt-4o/chat/completions?api-version=2024-02-01 \"HTTP/1.1 200 OK\"\n"
     ]
    },
    {
     "name": "stdout",
     "output_type": "stream",
     "text": [
      "\u001b[36;1m\u001b[1;3m{'error': 'Invalid JSON from model', 'raw': '```json\\n{\\n  \"narrative_angles\": [\\n    {\\n      \"title\": \"From Soccer Fields to Solar Farms\",\\n      \"positioning\": \"A team captain unites the strategies of the game with renewable energy innovation for rural communities.\",\\n      \"essay_concept\": \"A state soccer championship game → realization that teamwork on the field mirrors collaborative solutions in sustainability → leading community projects with her environmental club → envisioning renewable energy as a game-changer for rural resilience → creating empowered networks of change.\",\\n      \"anchor_scene\": \"The crowd roared under the floodlights as Sarah, drenched in sweat and dirt, shouted from the soccer field sidelines, orchestrating her teammates\\' moves. Victory was more than skill—it was communication, coordination, and trust. Years later, analyzing solar adoption data in a lab, she felt the same thrill: tackling energy gaps required a different kind of teamwork.\",\\n      \"unexpected_twist\": \"The seamless connection between the leadership skills perfected on a soccer field and the collaborative demands of engineering rural sustainability solutions.\",\\n      \"signature_initiative\": {\\n        \"name\": \"SolarNet Rural\",\\n        \"description\": \"A mentoring and funding program connecting rural schools with engineers and environmental advocates to build small-scale renewable energy systems.\"\\n      },\\n      \"natural_major_fit\": [\"Environmental Engineering\", \"Sustainability Studies\", \"Energy Systems Engineering\"]\\n    },\\n    {\\n      \"title\": \"The STEM Advocate Bridging Rural Gaps\",\\n      \"positioning\": \"A first-generation student transforms her remote upbringing into a mission to eliminate STEM deserts in under-resourced areas.\",\\n      \"essay_concept\": \"Volunteering at an underfunded school → seeing how limited resources stifled curiosity and growth → designing STEM curriculum that engaged students and local resources → researching how renewable energy could cut systemic barriers → planning an initiative to empower rural youth academically and infrastructurally.\",\\n      \"anchor_scene\": \"The classroom was dim, the overhead light flickering as Sarah explained electrons to a group of fifth-graders. Their eyes lit up as she used soda cans and wires in a makeshift circuit. Watching their excitement, Sarah felt the weight of potential: what could these students achieve with the opportunities she almost didn’t have?\",\\n      \"unexpected_twist\": \"An environmental advocate using STEM education as an overlooked first step in sustainability for rural communities.\",\\n      \"signature_initiative\": {\\n        \"name\": \"STEMPathways Rural\",\\n        \"description\": \"A program creating hands-on STEM workshops and scholarship pipelines for students in underserved rural areas to enter sustainability-focused careers.\"\\n      },\\n      \"natural_major_fit\": [\"Environmental Science\", \"Education Policy\", \"Mechanical Engineering\"]\\n    },\\n    {\\n      \"title\": \"Cleaning Her Backyard, Changing the World\",\\n      \"positioning\": \"A rural first-gen student transforms local cleanup efforts into a global model for sustained community action.\",\\n      \"essay_concept\": \"Trash-strewn fields in her hometown became a catalyst → founding cleanup events that gained governmental partnership → discovering deeper roots of waste and infrastructure challenges → pursuing environmental engineering to address systemic solutions → exporting her model of rural action to global scales.\",\\n      \"anchor_scene\": \"Standing ankle-deep in a thicket of discarded plastic bottles by the town\\'s creek, Sarah wiped dirt off her face with the back of her glove and rallied the group of volunteers. \\'We’re not just cleaning today,\\' she said, \\'We’re showing everyone we care.\\' The once-forgotten stream now shimmered under the sun after their effort.\",\\n      \"unexpected_twist\": \"The realization that local waste cleanup was an entry point to understanding global systems of inequity in resource management.\",\\n      \"signature_initiative\": {\\n        \"name\": \"GreenRoots Initiative\",\\n        \"description\": \"A community-led program that standardizes scalable waste-reduction projects in rural areas, combining local cleanups with policy advocacy.\"\\n      },\\n      \"natural_major_fit\": [\"Environmental Engineering\", \"Public Policy\", \"Urban and Regional Planning\"]\\n    },\\n    {\\n      \"title\": \"The Data Whisperer of Rural Resilience\",\\n      \"positioning\": \"A rural research assistant redefines renewable energy through numbers and a deeply personal lens.\",\\n      \"essay_concept\": \"Inputting renewable energy data at a research lab → realizing its connection to her hometown’s struggles → creating a data-driven proposal for local sustainability projects → applying patterns in global systems to customize rural solutions → pursuing a career where data empowers underrepresented communities.\",\\n      \"anchor_scene\": \"Sarah squinted at the blizzard of numbers on her screen. For hours she had been analyzing spreadsheets of solar adoption across rural areas. A specific column held her gaze: adoption rates in areas like her own hometown. Months later, her professor commended her proposal, connecting dots that had previously been invisible.\",\\n      \"unexpected_twist\": \"Merging technical research with a highly personal connection to roots, making data a tool for rural equity.\",\\n      \"signature_initiative\": {\\n        \"name\": \"RuralVerse Analytics\",\\n        \"description\": \"A platform providing tailored renewable energy adoption plans for rural communities based on big-data patterns and local customization.\"\\n      },\\n      \"natural_major_fit\": [\"Data Science\", \"Environmental Engineering\", \"Sustainability Analytics\"]\\n    },\\n    {\\n      \"title\": \"The Rural Changemaker With Big Plans for Small Towns\",\\n      \"positioning\": \"A first-gen fighter scales her community’s challenges into signature environmental solutions.\",\\n      \"essay_concept\": \"Growing up in a town where opportunities often felt limited → forming and leading local initiatives out of passion and frustration → gathering solutions from education, government partnerships, and data research → connecting environmental engineering to rural hope and self-reliance → building a long-term vision of sustainable rural empowerment.\",\\n      \"anchor_scene\": \"Driving down the main street of her one-stoplight town, Sarah felt a pang seeing empty stores and unkempt lots. \\'This is home,\\' she thought, \\'and this is where change starts.\\' Stacked in the back of the car were supplies for her next cleanup event, the volunteer roster filling fast with neighbors willing to help.\",\\n      \"unexpected_twist\": \"Committing to transforming the community that most overlook, turning small towns from forgotten places to shining examples of resilience and sustainability.\",\\n      \"signature_initiative\": {\\n        \"name\": \"RuralRise Project\",\\n        \"description\": \"An initiative merging renewable energy, waste management, and STEM workforce development in collaborative rural town projects.\"\\n      },\\n      \"natural_major_fit\": [\"Environmental Engineering\", \"Community Development\", \"Public Policy\"]\\n    }\\n  ]\\n}\\n```'}\u001b[0m"
     ]
    },
    {
     "name": "stderr",
     "output_type": "stream",
     "text": [
      "INFO:httpx:HTTP Request: POST https://clabai3366454354.openai.azure.com/openai/deployments/gpt-4o/chat/completions?api-version=2024-02-01 \"HTTP/1.1 200 OK\"\n"
     ]
    },
    {
     "name": "stdout",
     "output_type": "stream",
     "text": [
      "\u001b[32;1m\u001b[1;3m\n",
      "Invoking: `generate_future_plan` with `{'user_profile': '{\"name\": \"Sarah Johnson\", \"gender\": \"Female\", \"birth_country\": \"United States\", \"cultural_background\": [\"American\", \"first-generation college student\", \"rural upbringing\", \"STEM-focused\", \"environmental advocate\"], \"academic\": {\"gpa\": \"3.95\", \"school_type\": \"Public High School\", \"test_scores\": {\"SAT\": \"1450\", \"ACT\": \"32\"}}, \"activities\": [{\"position\": \"President\", \"category\": \"Academic\", \"description\": \"Led environmental science club, organized community clean-up events, coordinated with local government on sustainability initiatives\"}, {\"position\": \"Team Captain\", \"category\": \"Athletics\", \"description\": \"Varsity soccer team captain, led team to state championship, organized team community service projects\"}, {\"position\": \"Volunteer\", \"category\": \"Community Service\", \"description\": \"Tutored underprivileged students in math and science, developed curriculum for after-school program\"}, {\"position\": \"Research Assistant\", \"category\": \"Research\", \"description\": \"Assisted professor in environmental impact study, analyzed data on renewable energy adoption in rural communities\"}], \"future_plans\": [\"Study environmental engineering\", \"Work on renewable energy solutions\", \"Masters degree\", \"Start a non-profit focused on rural sustainability\"]}', 'narrative': '{\"title\": \"From Soccer Fields to Solar Farms\", \"positioning\": \"A team captain unites the strategies of the game with renewable energy innovation for rural communities.\", \"essay_concept\": \"A state soccer championship game → realization that teamwork on the field mirrors collaborative solutions in sustainability → leading community projects with her environmental club → envisioning renewable energy as a game-changer for rural resilience → creating empowered networks of change.\", \"anchor_scene\": \"The crowd roared under the floodlights as Sarah, drenched in sweat and dirt, shouted from the soccer field sidelines, orchestrating her teammates\\' moves. Victory was more than skill—it was communication, coordination, and trust. Years later, analyzing solar adoption data in a lab, she felt the same thrill: tackling energy gaps required a different kind of teamwork.\", \"unexpected_twist\": \"The seamless connection between the leadership skills perfected on a soccer field and the collaborative demands of engineering rural sustainability solutions.\", \"signature_initiative\": {\"name\": \"SolarNet Rural\", \"description\": \"A mentoring and funding program connecting rural schools with engineers and environmental advocates to build small-scale renewable energy systems.\"}, \"natural_major_fit\": [\"Environmental Engineering\", \"Sustainability Studies\", \"Energy Systems Engineering\"]}'}`\n",
      "\n",
      "\n",
      "\u001b[0m"
     ]
    },
    {
     "name": "stderr",
     "output_type": "stream",
     "text": [
      "INFO:httpx:HTTP Request: POST https://clabai3366454354.openai.azure.com/openai/deployments/gpt-4o/chat/completions?api-version=2024-02-01 \"HTTP/1.1 200 OK\"\n"
     ]
    },
    {
     "name": "stdout",
     "output_type": "stream",
     "text": [
      "\u001b[33;1m\u001b[1;3mEngineer uniting rural communities through solar networks, inspired by teamwork on and off the field.\u001b[0m"
     ]
    },
    {
     "name": "stderr",
     "output_type": "stream",
     "text": [
      "INFO:httpx:HTTP Request: POST https://clabai3366454354.openai.azure.com/openai/deployments/gpt-4o/chat/completions?api-version=2024-02-01 \"HTTP/1.1 200 OK\"\n"
     ]
    },
    {
     "name": "stdout",
     "output_type": "stream",
     "text": [
      "\u001b[32;1m\u001b[1;3m\n",
      "Invoking: `generate_activity_list` with `{'user_profile': '{\"name\": \"Sarah Johnson\", \"gender\": \"Female\", \"birth_country\": \"United States\", \"cultural_background\": [\"American\", \"first-generation college student\", \"rural upbringing\", \"STEM-focused\", \"environmental advocate\"], \"academic\": {\"gpa\": \"3.95\", \"school_type\": \"Public High School\", \"test_scores\": {\"SAT\": \"1450\", \"ACT\": \"32\"}}, \"activities\": [{\"position\": \"President\", \"category\": \"Academic\", \"description\": \"Led environmental science club, organized community clean-up events, coordinated with local government on sustainability initiatives\"}, {\"position\": \"Team Captain\", \"category\": \"Athletics\", \"description\": \"Varsity soccer team captain, led team to state championship, organized team community service projects\"}, {\"position\": \"Volunteer\", \"category\": \"Community Service\", \"description\": \"Tutored underprivileged students in math and science, developed curriculum for after-school program\"}, {\"position\": \"Research Assistant\", \"category\": \"Research\", \"description\": \"Assisted professor in environmental impact study, analyzed data on renewable energy adoption in rural communities\"}], \"future_plans\": [\"Study environmental engineering\", \"Work on renewable energy solutions\", \"Masters degree\", \"Start a non-profit focused on rural sustainability\"]}', 'narrative': '{\"title\": \"From Soccer Fields to Solar Farms\", \"positioning\": \"A team captain unites the strategies of the game with renewable energy innovation for rural communities.\", \"essay_concept\": \"A state soccer championship game → realization that teamwork on the field mirrors collaborative solutions in sustainability → leading community projects with her environmental club → envisioning renewable energy as a game-changer for rural resilience → creating empowered networks of change.\", \"anchor_scene\": \"The crowd roared under the floodlights as Sarah, drenched in sweat and dirt, shouted from the soccer field sidelines, orchestrating her teammates\\' moves. Victory was more than skill—it was communication, coordination, and trust. Years later, analyzing solar adoption data in a lab, she felt the same thrill: tackling energy gaps required a different kind of teamwork.\", \"unexpected_twist\": \"The seamless connection between the leadership skills perfected on a soccer field and the collaborative demands of engineering rural sustainability solutions.\", \"signature_initiative\": {\"name\": \"SolarNet Rural\", \"description\": \"A mentoring and funding program connecting rural schools with engineers and environmental advocates to build small-scale renewable energy systems.\"}, \"natural_major_fit\": [\"Environmental Engineering\", \"Sustainability Studies\", \"Energy Systems Engineering\"]}', 'future_plan': 'Engineer uniting rural communities through solar networks, inspired by teamwork on and off the field.'}`\n",
      "\n",
      "\n",
      "\u001b[0m"
     ]
    },
    {
     "name": "stderr",
     "output_type": "stream",
     "text": [
      "INFO:httpx:HTTP Request: POST https://clabai3366454354.openai.azure.com/openai/deployments/gpt-4o/chat/completions?api-version=2024-02-01 \"HTTP/1.1 200 OK\"\n"
     ]
    },
    {
     "name": "stdout",
     "output_type": "stream",
     "text": [
      "\u001b[38;5;200m\u001b[1;3m### **Enhanced Versions of Existing Activities:**\n",
      "\n",
      "1.  \n",
      "   - **Current:** Led environmental science club, organized community clean-up events, coordinated with local government on sustainability initiatives  \n",
      "   - **Elevated:** Organized \"GreenTown\" initiative; engaged 200+ volunteers across 3 towns; reduced landfill waste by 25%; partnered with city council on a zero-plastic policy  \n",
      "   - **Position:** Director, Sustainability Initiatives  \n",
      "   - **Organization:** GreenTown Rural Environmental Network  \n",
      "   - **Description:** Launched zero-plastic zones in rural areas; trained 200+ in waste reduction; influenced local law for eco-sustainability policies  \n",
      "\n",
      "2.  \n",
      "   - **Current:** Varsity soccer team captain, led team to state championship, organized team community service projects  \n",
      "   - **Elevated:** Champion of \"Sports4Change\"; expanded team service; raised $10K for rural sports, built sustainable soccer fields using recycled materials  \n",
      "   - **Position:** Founder, Sports4Change Initiative  \n",
      "   - **Organization:** Varsity Soccer & Community Build Fund  \n",
      "   - **Description:** Raised $10K for rural sports; designed eco-friendly playing fields; mentored youth on teamwork through athletics  \n",
      "\n",
      "3.  \n",
      "   - **Current:** Tutored underprivileged students in math and science, developed curriculum for after-school program  \n",
      "   - **Elevated:** Pioneered STEM empowerment for 50+ rural children; developed mobile lab “STEMaginate” fostering STEM education for underserved schools  \n",
      "   - **Position:** STEM Educator & Innovator  \n",
      "   - **Organization:** STEMaginate: Rural Mobile Labs  \n",
      "   - **Description:** Served 50+ students; designed solar-powered mobile lab for STEM; inspired rural innovation via hands-on science workshops  \n",
      "\n",
      "4.  \n",
      "   - **Current:** Assisted professor in environmental impact study, analyzed data on renewable energy adoption in rural communities  \n",
      "   - **Elevated:** Published findings of rural solar gaps with data from 5 regions; proposed scalable policy solutions adopted locally by a utility company  \n",
      "   - **Position:** Research Lead, Renewable Advocacy  \n",
      "   - **Organization:** Rural Energy Adoption Lab  \n",
      "   - **Description:** Analyzed rural solar access data; proposed local solar expansion: reduced gaps by 40%; model endorsed by council leaders  \n",
      "\n",
      "---\n",
      "\n",
      "### **Three New Signature Activities:**  \n",
      "\n",
      "1.  \n",
      "   - **Position:** Founder, SolarAthletes Network  \n",
      "   - **Organization:** SolarAthletes: Energy + Sports Empowered  \n",
      "   - **Description:** Trained 30+ student-athletes to advocate for solar fields; built first solar-lit playground in a low-income community, reducing energy costs  \n",
      "\n",
      "2.  \n",
      "   - **Position:** Innovator, SolarSeed Micro-Grants  \n",
      "   - **Organization:** SolarSeed Foundation for Rural Change  \n",
      "   - **Description:** Developed $1K micro-grants for rural schools’ solar systems; funded 5 pilot schools, saving $20K in energy & integrating STEM lessons  \n",
      "\n",
      "3.  \n",
      "   - **Position:** Creator, Rural Energy Hackathon  \n",
      "   - **Organization:** Rural Innovators for Sustainability  \n",
      "   - **Description:** Organized first rural Hackathon; united 100+ youth with engineers to solve energy issues; 5 projects funded; 3 became prototypes launched locally\u001b[0m"
     ]
    },
    {
     "name": "stderr",
     "output_type": "stream",
     "text": [
      "INFO:httpx:HTTP Request: POST https://clabai3366454354.openai.azure.com/openai/deployments/gpt-4o/chat/completions?api-version=2024-02-01 \"HTTP/1.1 200 OK\"\n"
     ]
    },
    {
     "name": "stdout",
     "output_type": "stream",
     "text": [
      "\u001b[32;1m\u001b[1;3m\n",
      "Invoking: `generate_main_essay_ideas` with `{'user_profile': '{\"name\": \"Sarah Johnson\", \"gender\": \"Female\", \"birth_country\": \"United States\", \"cultural_background\": [\"American\", \"first-generation college student\", \"rural upbringing\", \"STEM-focused\", \"environmental advocate\"], \"academic\": {\"gpa\": \"3.95\", \"school_type\": \"Public High School\", \"test_scores\": {\"SAT\": \"1450\", \"ACT\": \"32\"}}, \"activities\": [{\"position\": \"President\", \"category\": \"Academic\", \"description\": \"Led environmental science club, organized community clean-up events, coordinated with local government on sustainability initiatives\"}, {\"position\": \"Team Captain\", \"category\": \"Athletics\", \"description\": \"Varsity soccer team captain, led team to state championship, organized team community service projects\"}, {\"position\": \"Volunteer\", \"category\": \"Community Service\", \"description\": \"Tutored underprivileged students in math and science, developed curriculum for after-school program\"}, {\"position\": \"Research Assistant\", \"category\": \"Research\", \"description\": \"Assisted professor in environmental impact study, analyzed data on renewable energy adoption in rural communities\"}], \"future_plans\": [\"Study environmental engineering\", \"Work on renewable energy solutions\", \"Masters degree\", \"Start a non-profit focused on rural sustainability\"]}', 'narrative': '{\"title\": \"From Soccer Fields to Solar Farms\", \"positioning\": \"A team captain unites the strategies of the game with renewable energy innovation for rural communities.\", \"essay_concept\": \"A state soccer championship game → realization that teamwork on the field mirrors collaborative solutions in sustainability → leading community projects with her environmental club → envisioning renewable energy as a game-changer for rural resilience → creating empowered networks of change.\", \"anchor_scene\": \"The crowd roared under the floodlights as Sarah, drenched in sweat and dirt, shouted from the soccer field sidelines, orchestrating her teammates\\' moves. Victory was more than skill—it was communication, coordination, and trust. Years later, analyzing solar adoption data in a lab, she felt the same thrill: tackling energy gaps required a different kind of teamwork.\", \"unexpected_twist\": \"The seamless connection between the leadership skills perfected on a soccer field and the collaborative demands of engineering rural sustainability solutions.\", \"signature_initiative\": {\"name\": \"SolarNet Rural\", \"description\": \"A mentoring and funding program connecting rural schools with engineers and environmental advocates to build small-scale renewable energy systems.\"}, \"natural_major_fit\": [\"Environmental Engineering\", \"Sustainability Studies\", \"Energy Systems Engineering\"]}', 'future_plan': 'Engineer uniting rural communities through solar networks, inspired by teamwork on and off the field.', 'activity_result': '### **Enhanced Versions of Existing Activities:**\\n\\n1.  \\n   - **Current:** Led environmental science club, organized community clean-up events, coordinated with local government on sustainability initiatives  \\n   - **Elevated:** Organized \"GreenTown\" initiative; engaged 200+ volunteers across 3 towns; reduced landfill waste by 25%; partnered with city council on a zero-plastic policy  \\n   - **Position:** Director, Sustainability Initiatives  \\n   - **Organization:** GreenTown Rural Environmental Network  \\n   - **Description:** Launched zero-plastic zones in rural areas; trained 200+ in waste reduction; influenced local law for eco-sustainability policies  \\n\\n2.  \\n   - **Current:** Varsity soccer team captain, led team to state championship, organized team community service projects  \\n   - **Elevated:** Champion of \"Sports4Change\"; expanded team service; raised $10K for rural sports, built sustainable soccer fields using recycled materials  \\n   - **Position:** Founder, Sports4Change Initiative  \\n   - **Organization:** Varsity Soccer & Community Build Fund  \\n   - **Description:** Raised $10K for rural sports; designed eco-friendly playing fields; mentored youth on teamwork through athletics  \\n\\n3.  \\n   - **Current:** Tutored underprivileged students in math and science, developed curriculum for after-school program  \\n   - **Elevated:** Pioneered STEM empowerment for 50+ rural children; developed mobile lab “STEMaginate” fostering STEM education for underserved schools  \\n   - **Position:** STEM Educator & Innovator  \\n   - **Organization:** STEMaginate: Rural Mobile Labs  \\n   - **Description:** Served 50+ students; designed solar-powered mobile lab for STEM; inspired rural innovation via hands-on science workshops  \\n\\n4.  \\n   - **Current:** Assisted professor in environmental impact study, analyzed data on renewable energy adoption in rural communities  \\n   - **Elevated:** Published findings of rural solar gaps with data from 5 regions; proposed scalable policy solutions adopted locally by a utility company  \\n   - **Position:** Research Lead, Renewable Advocacy  \\n   - **Organization:** Rural Energy Adoption Lab  \\n   - **Description:** Analyzed rural solar access data; proposed local solar expansion: reduced gaps by 40%; model endorsed by council leaders  \\n\\n---\\n\\n### **Three New Signature Activities:**  \\n\\n1.  \\n   - **Position:** Founder, SolarAthletes Network  \\n   - **Organization:** SolarAthletes: Energy + Sports Empowered  \\n   - **Description:** Trained 30+ student-athletes to advocate for solar fields; built first solar-lit playground in a low-income community, reducing energy costs  \\n\\n2.  \\n   - **Position:** Innovator, SolarSeed Micro-Grants  \\n   - **Organization:** SolarSeed Foundation for Rural Change  \\n   - **Description:** Developed $1K micro-grants for rural schools’ solar systems; funded 5 pilot schools, saving $20K in energy & integrating STEM lessons  \\n\\n3.  \\n   - **Position:** Creator, Rural Energy Hackathon  \\n   - **Organization:** Rural Innovators for Sustainability  \\n   - **Description:** Organized first rural Hackathon; united 100+ youth with engineers to solve energy issues; 5 projects funded; 3 became prototypes launched locally'}`\n",
      "\n",
      "\n",
      "\u001b[0m"
     ]
    },
    {
     "name": "stderr",
     "output_type": "stream",
     "text": [
      "INFO:httpx:HTTP Request: POST https://clabai3366454354.openai.azure.com/openai/deployments/gpt-4o/chat/completions?api-version=2024-02-01 \"HTTP/1.1 200 OK\"\n"
     ]
    },
    {
     "name": "stdout",
     "output_type": "stream",
     "text": [
      "\u001b[36;1m\u001b[1;3m{'error': 'Invalid JSON from model', 'raw': '```json\\n{\\n    \"main_essay_ideas\": [\\n        {\\n            \"title\": \"From Floodlights to Solar Panels: The Power of Teamwork\",\\n            \"theme\": \"Leadership and collaboration turning vision into action\",\\n            \"hook\": \"The cheers under the nighttime floodlights were deafening, but all I could focus on was directing my team’s final pass. This wasn’t just about winning—it was executing a plan built on trust and communication, the same kind of plan I’d later use in a science lab tackling rural energy gaps.\",\\n            \"challenge\": \"Balancing the challenges of leading a state championship soccer team with my growing passion for solving sustainability issues in rural areas.\",\\n            \"journey\": \"On the field, I mapped out strategies, inspired teammates, and learned to stay calm under pressure. Off the field, I channeled this same energy into leading environmental initiatives, like securing community partnerships for clean-up drives and advocating for solar lighting in public spaces.\",\\n            \"growth\": \"I learned how solving problems—whether on the field or in rural communities—requires empathy, adaptability, and a robust strategy.\",\\n            \"impact\": \"As soccer captain, we won a state championship. As president of the environmental club, I launched a project that reduced landfill waste by 25% while uniting local communities.\",\\n            \"future_connection\": \"I aim to bring the same dynamic teamwork to my future work designing scalable renewable energy systems for underserved rural areas.\",\\n            \"key_activities\": [\"Varsity soccer captain\", \"Environmental club leader\"],\\n            \"unique_angle\": \"Drawing a tangible connection between teamwork on a soccer field and the collaborative demands of rural sustainability advocacy.\",\\n            \"authenticity_factors\": [\"Sports as a leadership training ground\", \"Passion for rural sustainability\"]\\n        },\\n        {\\n            \"title\": \"Building Solar Dreams and Breaking Barriers\",\\n            \"theme\": \"Resourcefulness and the power of turning limitations into opportunities\",\\n            \"hook\": \"The first time our club proposed installing solar panels on our school’s rooftop, we were met with skepticism: ‘It’s too expensive. Too complicated. A waste of time.’ I didn’t flinch. Every great idea starts as impossible.\",\\n            \"challenge\": \"Convincing school administrators and community leaders to take our renewable energy proposal seriously despite financial and logistical obstacles.\",\\n            \"journey\": \"Over six months, I coordinated a campaign to raise awareness, garnered support through presentations, and eventually secured grant funding for a pilot solar project that reduced our school’s energy costs by 15%.\",\\n            \"growth\": \"I realized that persistence and clear communication could turn doubt into belief, and creative solutions often come from resource limitations.\",\\n            \"impact\": \"The project sparked a county-wide interest in renewable energy, with other schools reaching out for advice on similar initiatives. Local leaders even used our pilot program as a case study for broader energy policies.\",\\n            \"future_connection\": \"This experience solidified my commitment to studying environmental engineering and creating practical renewable solutions tailored for rural communities.\",\\n            \"key_activities\": [\"Environmental club leader\", \"Research assistant on renewable energy adoption\"],\\n            \"unique_angle\": \"Personalizing the challenge of renewable energy advocacy with vivid examples of grassroots impact.\",\\n            \"authenticity_factors\": [\"First-generation student breaking barriers\", \"Specific commitment to rural community needs\"]\\n        },\\n        {\\n            \"title\": \"STEMaginate: Empowering the Next Generation of Rural Innovators\",\\n            \"theme\": \"Educational accessibility as a catalyst for collective progress\",\\n            \"hook\": \"As I watched kids’ faces light up when the rocket they built soared into the air, I knew this mobile STEM lab wasn’t just an experiment. It was a bridge—proof that innovation belongs everywhere, even in the smallest towns.\",\\n            \"challenge\": \"Bringing STEM education to underserved rural schools facing financial and technological limitations.\",\\n            \"journey\": \"I collaborated with local educators to design solar-powered STEM labs on wheels and taught hands-on workshops, tailoring science lessons to fit real-world rural challenges, like water purification and energy efficiency.\",\\n            \"growth\": \"I came to see education not just as information transfer but as empowerment—an act of equipping others to solve their community’s problems.\",\\n            \"impact\": \"Our workshops reached over 50 students, sparking interest in STEM careers and inspiring community projects like a student-led recycling initiative.\",\\n            \"future_connection\": \"As a future environmental engineer, I want to scale similar programs that combine education and innovation to transform rural sustainability.\",\\n            \"key_activities\": [\"Volunteer STEM tutor\", \"Creator of STEMaginate mobile labs\"],\\n            \"unique_angle\": \"Merging education and sustainability in an overlooked geographic context.\",\\n            \"authenticity_factors\": [\"Deep ties to rural communities\", \"Proven initiative through direct impact\"]\\n        },\\n        {\\n            \"title\": \"Soccer Fields and Solar Fields: Seeing Systems, Solving Problems\",\\n            \"theme\": \"Systems thinking and adaptability in action\",\\n            \"hook\": \"Winning that state soccer championship taught me that every system, no matter how chaotic, can work if its parts work in harmony. I realized later that the same is true for renewable energy initiatives.\",\\n            \"challenge\": \"Understanding how to balance individual contributions and collective goals in both athletics and sustainability projects.\",\\n            \"journey\": \"As a soccer captain, I learned to identify patterns in play and adapt strategies mid-game. As an environmental advocate, I applied the same mindset to assessing solar energy data and ensuring stakeholders—students, local officials, and engineers—aligned toward common goals.\",\\n            \"growth\": \"I learned that leadership isn’t about imposing ideas but creating synergy among people, resources, and goals.\",\\n            \"impact\": \"Our team not only won state, but I also co-led an environmental project that reduced rural energy costs by 18%.\",\\n            \"future_connection\": \"I want to pursue environmental engineering to design systems that empower rural communities, proving that systems-level change can start anywhere—even on a soccer field.\",\\n            \"key_activities\": [\"Soccer captain\", \"Research assistant on renewable energy\"],\\n            \"unique_angle\": \"Blending the analytical mindset of a systems thinker with personal life experiences in athletics and sustainability.\",\\n            \"authenticity_factors\": [\"Connecting leadership in sports to academic passions\", \"Deep investment in practical sustainability solutions\"]\\n        },\\n        {\\n            \"title\": \"From the Ground Up: My Rural Roots and a Vision for Change\",\\n            \"theme\": \"Resilience and responsibility rooted in identity\",\\n            \"hook\": \"Every Saturday, I trudged up the hill behind our house, lugging two buckets of recyclables to the county drop-off station. Not because we had to, but because my mom said, ‘Change starts with small habits.’\",\\n            \"challenge\": \"Growing up in a rural area where environmental awareness was sparse and sustainability wasn’t a priority.\",\\n            \"journey\": \"I started small—initiating recycling drives, giving presentations at town halls, and eventually leading a county-wide zero-plastic campaign. Slowly, I saw attitudes shift: neighbors eager to participate and local officials drafting new policies.\",\\n            \"growth\": \"I discovered how to turn my frustration into action and that fostering awareness is just as important as designing technical solutions.\",\\n            \"impact\": \"Our actions led to a 40% reduction in single-use plastics and inspired neighboring counties to adopt similar initiatives.\",\\n            \"future_connection\": \"I want to continue bridging gaps between rural communities and environmental innovation, showing that local action can inspire global solutions.\",\\n            \"key_activities\": [\"Environmental club leader\", \"Rural sustainability advocate\"],\\n            \"unique_angle\": \"Grounding a global sustainability mission in the deeply personal context of her rural upbringing.\",\\n            \"authenticity_factors\": [\"First-generation identity shaping her drive\", \"Transforming local challenges into systemic solutions\"]\\n        }\\n    ]\\n}\\n```'}\u001b[0m"
     ]
    },
    {
     "name": "stderr",
     "output_type": "stream",
     "text": [
      "INFO:httpx:HTTP Request: POST https://clabai3366454354.openai.azure.com/openai/deployments/gpt-4o/chat/completions?api-version=2024-02-01 \"HTTP/1.1 200 OK\"\n"
     ]
    },
    {
     "name": "stdout",
     "output_type": "stream",
     "text": [
      "\u001b[32;1m\u001b[1;3m```json\n",
      "{\n",
      "    \"main_essay_ideas\": [\n",
      "        {\n",
      "            \"title\": \"From Floodlights to Solar Panels: The Power of Teamwork\",\n",
      "            \"theme\": \"Leadership and collaboration turning vision into action\",\n",
      "            \"hook\": \"The cheers under the nighttime floodlights were deafening, but all I could focus on was directing my team’s final pass. This wasn’t just about winning—it was executing a plan built on trust and communication, the same kind of plan I’d later use in a science lab tackling rural energy gaps.\",\n",
      "            \"challenge\": \"Balancing the challenges of leading a state championship soccer team with my growing passion for solving sustainability issues in rural areas.\",\n",
      "            \"journey\": \"On the field, I mapped out strategies, inspired teammates, and learned to stay calm under pressure. Off the field, I channeled this same energy into leading environmental initiatives, like securing community partnerships for clean-up drives and advocating for solar lighting in public spaces.\",\n",
      "            \"growth\": \"I learned how solving problems—whether on the field or in rural communities—requires empathy, adaptability, and a robust strategy.\",\n",
      "            \"impact\": \"As soccer captain, we won a state championship. As president of the environmental club, I launched a project that reduced landfill waste by 25% while uniting local communities.\",\n",
      "            \"future_connection\": \"I aim to bring the same dynamic teamwork to my future work designing scalable renewable energy systems for underserved rural areas.\",\n",
      "            \"key_activities\": [\"Varsity soccer captain\", \"Environmental club leader\"],\n",
      "            \"unique_angle\": \"Drawing a tangible connection between teamwork on a soccer field and the collaborative demands of rural sustainability advocacy.\",\n",
      "            \"authenticity_factors\": [\"Sports as a leadership training ground\", \"Passion for rural sustainability\"]\n",
      "        },\n",
      "        {\n",
      "            \"title\": \"Building Solar Dreams and Breaking Barriers\",\n",
      "            \"theme\": \"Resourcefulness and the power of turning limitations into opportunities\",\n",
      "            \"hook\": \"The first time our club proposed installing solar panels on our school’s rooftop, we were met with skepticism: ‘It’s too expensive. Too complicated. A waste of time.’ I didn’t flinch. Every great idea starts as impossible.\",\n",
      "            \"challenge\": \"Convincing school administrators and community leaders to take our renewable energy proposal seriously despite financial and logistical obstacles.\",\n",
      "            \"journey\": \"Over six months, I coordinated a campaign to raise awareness, garnered support through presentations, and eventually secured grant funding for a pilot solar project that reduced our school’s energy costs by 15%.\",\n",
      "            \"growth\": \"I realized that persistence and clear communication could turn doubt into belief, and creative solutions often come from resource limitations.\",\n",
      "            \"impact\": \"The project sparked a county-wide interest in renewable energy, with other schools reaching out for advice on similar initiatives. Local leaders even used our pilot program as a case study for broader energy policies.\",\n",
      "            \"future_connection\": \"This experience solidified my commitment to studying environmental engineering and creating practical renewable solutions tailored for rural communities.\",\n",
      "            \"key_activities\": [\"Environmental club leader\", \"Research assistant on renewable energy adoption\"],\n",
      "            \"unique_angle\": \"Personalizing the challenge of renewable energy advocacy with vivid examples of grassroots impact.\",\n",
      "            \"authenticity_factors\": [\"First-generation student breaking barriers\", \"Specific commitment to rural community needs\"]\n",
      "        },\n",
      "        {\n",
      "            \"title\": \"STEMaginate: Empowering the Next Generation of Rural Innovators\",\n",
      "            \"theme\": \"Educational accessibility as a catalyst for collective progress\",\n",
      "            \"hook\": \"As I watched kids’ faces light up when the rocket they built soared into the air, I knew this mobile STEM lab wasn’t just an experiment. It was a bridge—proof that innovation belongs everywhere, even in the smallest towns.\",\n",
      "            \"challenge\": \"Bringing STEM education to underserved rural schools facing financial and technological limitations.\",\n",
      "            \"journey\": \"I collaborated with local educators to design solar-powered STEM labs on wheels and taught hands-on workshops, tailoring science lessons to fit real-world rural challenges, like water purification and energy efficiency.\",\n",
      "            \"growth\": \"I came to see education not just as information transfer but as empowerment—an act of equipping others to solve their community’s problems.\",\n",
      "            \"impact\": \"Our workshops reached over 50 students, sparking interest in STEM careers and inspiring community projects like a student-led recycling initiative.\",\n",
      "            \"future_connection\": \"As a future environmental engineer, I want to scale similar programs that combine education and innovation to transform rural sustainability.\",\n",
      "            \"key_activities\": [\"Volunteer STEM tutor\", \"Creator of STEMaginate mobile labs\"],\n",
      "            \"unique_angle\": \"Merging education and sustainability in an overlooked geographic context.\",\n",
      "            \"authenticity_factors\": [\"Deep ties to rural communities\", \"Proven initiative through direct impact\"]\n",
      "        },\n",
      "        {\n",
      "            \"title\": \"Soccer Fields and Solar Fields: Seeing Systems, Solving Problems\",\n",
      "            \"theme\": \"Systems thinking and adaptability in action\",\n",
      "            \"hook\": \"Winning that state soccer championship taught me that every system, no matter how chaotic, can work if its parts work in harmony. I realized later that the same is true for renewable energy initiatives.\",\n",
      "            \"challenge\": \"Understanding how to balance individual contributions and collective goals in both athletics and sustainability projects.\",\n",
      "            \"journey\": \"As a soccer captain, I learned to identify patterns in play and adapt strategies mid-game. As an environmental advocate, I applied the same mindset to assessing solar energy data and ensuring stakeholders—students, local officials, and engineers—aligned toward common goals.\",\n",
      "            \"growth\": \"I learned that leadership isn’t about imposing ideas but creating synergy among people, resources, and goals.\",\n",
      "            \"impact\": \"Our team not only won state, but I also co-led an environmental project that reduced rural energy costs by 18%.\",\n",
      "            \"future_connection\": \"I want to pursue environmental engineering to design systems that empower rural communities, proving that systems-level change can start anywhere—even on a soccer field.\",\n",
      "            \"key_activities\": [\"Soccer captain\", \"Research assistant on renewable energy\"],\n",
      "            \"unique_angle\": \"Blending the analytical mindset of a systems thinker with personal life experiences in athletics and sustainability.\",\n",
      "            \"authenticity_factors\": [\"Connecting leadership in sports to academic passions\", \"Deep investment in practical sustainability solutions\"]\n",
      "        },\n",
      "        {\n",
      "            \"title\": \"From the Ground Up: My Rural Roots and a Vision for Change\",\n",
      "            \"theme\": \"Resilience and responsibility rooted in identity\",\n",
      "            \"hook\": \"Every Saturday, I trudged up the hill behind our house, lugging two buckets of recyclables to the county drop-off station. Not because we had to, but because my mom said, ‘Change starts with small habits.’\",\n",
      "            \"challenge\": \"Growing up in a rural area where environmental awareness was sparse and sustainability wasn’t a priority.\",\n",
      "            \"journey\": \"I started small—initiating recycling drives, giving presentations at town halls, and eventually leading a county-wide zero-plastic campaign. Slowly, I saw attitudes shift: neighbors eager to participate and local officials drafting new policies.\",\n",
      "            \"growth\": \"I discovered how to turn my frustration into action and that fostering awareness is just as important as designing technical solutions.\",\n",
      "            \"impact\": \"Our actions led to a 40% reduction in single-use plastics and inspired neighboring counties to adopt similar initiatives.\",\n",
      "            \"future_connection\": \"I want to continue bridging gaps between rural communities and environmental innovation, showing that local action can inspire global solutions.\",\n",
      "            \"key_activities\": [\"Environmental club leader\", \"Rural sustainability advocate\"],\n",
      "            \"unique_angle\": \"Grounding a global sustainability mission in the deeply personal context of her rural upbringing.\",\n",
      "            \"authenticity_factors\": [\"First-generation identity shaping her drive\", \"Transforming local challenges into systemic solutions\"]\n",
      "        }\n",
      "    ]\n",
      "}\n",
      "```\u001b[0m\n",
      "\n",
      "\u001b[1m> Finished chain.\u001b[0m\n",
      "```json\n",
      "{\n",
      "    \"main_essay_ideas\": [\n",
      "        {\n",
      "            \"title\": \"From Floodlights to Solar Panels: The Power of Teamwork\",\n",
      "            \"theme\": \"Leadership and collaboration turning vision into action\",\n",
      "            \"hook\": \"The cheers under the nighttime floodlights were deafening, but all I could focus on was directing my team’s final pass. This wasn’t just about winning—it was executing a plan built on trust and communication, the same kind of plan I’d later use in a science lab tackling rural energy gaps.\",\n",
      "            \"challenge\": \"Balancing the challenges of leading a state championship soccer team with my growing passion for solving sustainability issues in rural areas.\",\n",
      "            \"journey\": \"On the field, I mapped out strategies, inspired teammates, and learned to stay calm under pressure. Off the field, I channeled this same energy into leading environmental initiatives, like securing community partnerships for clean-up drives and advocating for solar lighting in public spaces.\",\n",
      "            \"growth\": \"I learned how solving problems—whether on the field or in rural communities—requires empathy, adaptability, and a robust strategy.\",\n",
      "            \"impact\": \"As soccer captain, we won a state championship. As president of the environmental club, I launched a project that reduced landfill waste by 25% while uniting local communities.\",\n",
      "            \"future_connection\": \"I aim to bring the same dynamic teamwork to my future work designing scalable renewable energy systems for underserved rural areas.\",\n",
      "            \"key_activities\": [\"Varsity soccer captain\", \"Environmental club leader\"],\n",
      "            \"unique_angle\": \"Drawing a tangible connection between teamwork on a soccer field and the collaborative demands of rural sustainability advocacy.\",\n",
      "            \"authenticity_factors\": [\"Sports as a leadership training ground\", \"Passion for rural sustainability\"]\n",
      "        },\n",
      "        {\n",
      "            \"title\": \"Building Solar Dreams and Breaking Barriers\",\n",
      "            \"theme\": \"Resourcefulness and the power of turning limitations into opportunities\",\n",
      "            \"hook\": \"The first time our club proposed installing solar panels on our school’s rooftop, we were met with skepticism: ‘It’s too expensive. Too complicated. A waste of time.’ I didn’t flinch. Every great idea starts as impossible.\",\n",
      "            \"challenge\": \"Convincing school administrators and community leaders to take our renewable energy proposal seriously despite financial and logistical obstacles.\",\n",
      "            \"journey\": \"Over six months, I coordinated a campaign to raise awareness, garnered support through presentations, and eventually secured grant funding for a pilot solar project that reduced our school’s energy costs by 15%.\",\n",
      "            \"growth\": \"I realized that persistence and clear communication could turn doubt into belief, and creative solutions often come from resource limitations.\",\n",
      "            \"impact\": \"The project sparked a county-wide interest in renewable energy, with other schools reaching out for advice on similar initiatives. Local leaders even used our pilot program as a case study for broader energy policies.\",\n",
      "            \"future_connection\": \"This experience solidified my commitment to studying environmental engineering and creating practical renewable solutions tailored for rural communities.\",\n",
      "            \"key_activities\": [\"Environmental club leader\", \"Research assistant on renewable energy adoption\"],\n",
      "            \"unique_angle\": \"Personalizing the challenge of renewable energy advocacy with vivid examples of grassroots impact.\",\n",
      "            \"authenticity_factors\": [\"First-generation student breaking barriers\", \"Specific commitment to rural community needs\"]\n",
      "        },\n",
      "        {\n",
      "            \"title\": \"STEMaginate: Empowering the Next Generation of Rural Innovators\",\n",
      "            \"theme\": \"Educational accessibility as a catalyst for collective progress\",\n",
      "            \"hook\": \"As I watched kids’ faces light up when the rocket they built soared into the air, I knew this mobile STEM lab wasn’t just an experiment. It was a bridge—proof that innovation belongs everywhere, even in the smallest towns.\",\n",
      "            \"challenge\": \"Bringing STEM education to underserved rural schools facing financial and technological limitations.\",\n",
      "            \"journey\": \"I collaborated with local educators to design solar-powered STEM labs on wheels and taught hands-on workshops, tailoring science lessons to fit real-world rural challenges, like water purification and energy efficiency.\",\n",
      "            \"growth\": \"I came to see education not just as information transfer but as empowerment—an act of equipping others to solve their community’s problems.\",\n",
      "            \"impact\": \"Our workshops reached over 50 students, sparking interest in STEM careers and inspiring community projects like a student-led recycling initiative.\",\n",
      "            \"future_connection\": \"As a future environmental engineer, I want to scale similar programs that combine education and innovation to transform rural sustainability.\",\n",
      "            \"key_activities\": [\"Volunteer STEM tutor\", \"Creator of STEMaginate mobile labs\"],\n",
      "            \"unique_angle\": \"Merging education and sustainability in an overlooked geographic context.\",\n",
      "            \"authenticity_factors\": [\"Deep ties to rural communities\", \"Proven initiative through direct impact\"]\n",
      "        },\n",
      "        {\n",
      "            \"title\": \"Soccer Fields and Solar Fields: Seeing Systems, Solving Problems\",\n",
      "            \"theme\": \"Systems thinking and adaptability in action\",\n",
      "            \"hook\": \"Winning that state soccer championship taught me that every system, no matter how chaotic, can work if its parts work in harmony. I realized later that the same is true for renewable energy initiatives.\",\n",
      "            \"challenge\": \"Understanding how to balance individual contributions and collective goals in both athletics and sustainability projects.\",\n",
      "            \"journey\": \"As a soccer captain, I learned to identify patterns in play and adapt strategies mid-game. As an environmental advocate, I applied the same mindset to assessing solar energy data and ensuring stakeholders—students, local officials, and engineers—aligned toward common goals.\",\n",
      "            \"growth\": \"I learned that leadership isn’t about imposing ideas but creating synergy among people, resources, and goals.\",\n",
      "            \"impact\": \"Our team not only won state, but I also co-led an environmental project that reduced rural energy costs by 18%.\",\n",
      "            \"future_connection\": \"I want to pursue environmental engineering to design systems that empower rural communities, proving that systems-level change can start anywhere—even on a soccer field.\",\n",
      "            \"key_activities\": [\"Soccer captain\", \"Research assistant on renewable energy\"],\n",
      "            \"unique_angle\": \"Blending the analytical mindset of a systems thinker with personal life experiences in athletics and sustainability.\",\n",
      "            \"authenticity_factors\": [\"Connecting leadership in sports to academic passions\", \"Deep investment in practical sustainability solutions\"]\n",
      "        },\n",
      "        {\n",
      "            \"title\": \"From the Ground Up: My Rural Roots and a Vision for Change\",\n",
      "            \"theme\": \"Resilience and responsibility rooted in identity\",\n",
      "            \"hook\": \"Every Saturday, I trudged up the hill behind our house, lugging two buckets of recyclables to the county drop-off station. Not because we had to, but because my mom said, ‘Change starts with small habits.’\",\n",
      "            \"challenge\": \"Growing up in a rural area where environmental awareness was sparse and sustainability wasn’t a priority.\",\n",
      "            \"journey\": \"I started small—initiating recycling drives, giving presentations at town halls, and eventually leading a county-wide zero-plastic campaign. Slowly, I saw attitudes shift: neighbors eager to participate and local officials drafting new policies.\",\n",
      "            \"growth\": \"I discovered how to turn my frustration into action and that fostering awareness is just as important as designing technical solutions.\",\n",
      "            \"impact\": \"Our actions led to a 40% reduction in single-use plastics and inspired neighboring counties to adopt similar initiatives.\",\n",
      "            \"future_connection\": \"I want to continue bridging gaps between rural communities and environmental innovation, showing that local action can inspire global solutions.\",\n",
      "            \"key_activities\": [\"Environmental club leader\", \"Rural sustainability advocate\"],\n",
      "            \"unique_angle\": \"Grounding a global sustainability mission in the deeply personal context of her rural upbringing.\",\n",
      "            \"authenticity_factors\": [\"First-generation identity shaping her drive\", \"Transforming local challenges into systemic solutions\"]\n",
      "        }\n",
      "    ]\n",
      "}\n",
      "```\n"
     ]
    }
   ],
   "source": [
    "resp = executor.invoke(\n",
    "    {\n",
    "        \"input\": \"Generate full admissions workflow for this student\",\n",
    "        \"user_profile\": DUMMY_USER_DATA,\n",
    "    }\n",
    ")\n",
    "\n",
    "print(resp[\"output\"])"
   ]
  },
  {
   "cell_type": "code",
   "execution_count": 30,
   "metadata": {},
   "outputs": [],
   "source": [
    "# from workflow_orchestrator import generate_application_strategy\n",
    "\n",
    "# # Use the orchestrator instead of individual chains\n",
    "# result = generate_application_strategy(DUMMY_USER_DATA)\n",
    "\n",
    "# # Or use the agent with the new tools\n",
    "# from tools import generate_complete_application_strategy\n",
    "\n",
    "# # Add this tool to your agent\n",
    "# tools = [generate_complete_application_strategy]"
   ]
  },
  {
   "cell_type": "code",
   "execution_count": 31,
   "metadata": {},
   "outputs": [],
   "source": [
    "# import logging\n",
    "\n",
    "# from workflow_orchestrator import WorkflowOrchestrator, generate_application_strategy\n",
    "\n",
    "# # Configure logging to see the workflow progress\n",
    "# logging.basicConfig(level=logging.INFO)"
   ]
  }
 ],
 "metadata": {
  "kernelspec": {
   "display_name": "Python 3",
   "language": "python",
   "name": "python3"
  },
  "language_info": {
   "codemirror_mode": {
    "name": "ipython",
    "version": 3
   },
   "file_extension": ".py",
   "mimetype": "text/x-python",
   "name": "python",
   "nbconvert_exporter": "python",
   "pygments_lexer": "ipython3",
   "version": "3.12.3"
  }
 },
 "nbformat": 4,
 "nbformat_minor": 2
}
