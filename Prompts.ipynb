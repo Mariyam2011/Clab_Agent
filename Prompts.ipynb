{
 "cells": [
  {
   "cell_type": "code",
   "execution_count": 38,
   "metadata": {},
   "outputs": [
    {
     "data": {
      "text/plain": [
       "True"
      ]
     },
     "execution_count": 38,
     "metadata": {},
     "output_type": "execute_result"
    }
   ],
   "source": [
    "from dotenv import load_dotenv\n",
    "\n",
    "load_dotenv()"
   ]
  },
  {
   "cell_type": "code",
   "execution_count": 39,
   "metadata": {},
   "outputs": [
    {
     "name": "stdout",
     "output_type": "stream",
     "text": [
      "The autoreload extension is already loaded. To reload it, use:\n",
      "  %reload_ext autoreload\n"
     ]
    }
   ],
   "source": [
    "%load_ext autoreload\n",
    "%autoreload 2"
   ]
  },
  {
   "cell_type": "code",
   "execution_count": 4,
   "metadata": {},
   "outputs": [],
   "source": [
    "try:\n",
    "    # Prefer Pydantic v2\n",
    "    from pydantic import BaseModel, Field\n",
    "except Exception:\n",
    "    # Fallback for older stacks (not recommended for new code)\n",
    "    from langchain_core.pydantic_v1 import BaseModel, Field"
   ]
  },
  {
   "cell_type": "code",
   "execution_count": 5,
   "metadata": {},
   "outputs": [],
   "source": [
    "import os\n",
    "import json\n",
    "import pickle\n",
    "from glob import glob\n",
    "\n",
    "from typing import Dict, List, Any, Optional\n",
    "from dataclasses import dataclass\n",
    "\n",
    "from langchain_openai import OpenAIEmbeddings, AzureChatOpenAI\n",
    "from langchain_core.prompts import ChatPromptTemplate\n",
    "from langchain_core.output_parsers import StrOutputParser\n",
    "\n",
    "from sklearn.metrics.pairwise import cosine_similarity\n",
    "from IPython.display import Markdown, display"
   ]
  },
  {
   "cell_type": "code",
   "execution_count": 6,
   "metadata": {},
   "outputs": [],
   "source": [
    "from prompt_templates.narratives import create_narrative_angles_prompt_template\n",
    "from prompt_templates.Future_plan import create_future_plan_prompt_template\n",
    "from prompt_templates.Activity import create_activity_list_generator_prompt_template\n",
    "from prompt_templates.Main_essay import create_main_essay_ideas_prompt_template"
   ]
  },
  {
   "cell_type": "code",
   "execution_count": 41,
   "metadata": {},
   "outputs": [],
   "source": [
    "from langchain.agents import AgentExecutor, create_openai_tools_agent\n",
    "from langchain_core.prompts import ChatPromptTemplate, MessagesPlaceholder\n",
    "\n",
    "from tools import (\n",
    "    generate_narrative_angles,\n",
    "    generate_future_plan,\n",
    "    generate_activity_list,\n",
    "    generate_main_essay_ideas,\n",
    ")"
   ]
  },
  {
   "cell_type": "code",
   "execution_count": 8,
   "metadata": {},
   "outputs": [],
   "source": [
    "embeddings_model = OpenAIEmbeddings()\n",
    "\n",
    "llm = AzureChatOpenAI(\n",
    "    deployment_name=\"gpt-4o\",\n",
    ")"
   ]
  },
  {
   "cell_type": "code",
   "execution_count": null,
   "metadata": {},
   "outputs": [
    {
     "name": "stdout",
     "output_type": "stream",
     "text": [
      "Loaded 8 applications from 13 files\n"
     ]
    }
   ],
   "source": [
    "# folder_path = \"clab_data\"\n",
    "# applications_data = []\n",
    "\n",
    "# # Get all JSON files in the folder\n",
    "# for file_path in glob(os.path.join(folder_path, \"*.json\")):\n",
    "#     with open(file_path, \"r\", encoding=\"utf-8\") as f:\n",
    "#         applications_data = json.load(f)\n",
    "# print(f\"Loaded {len(applications_data)} applications from {len(glob(os.path.join(folder_path, '*.json')))} files\")"
   ]
  },
  {
   "cell_type": "code",
   "execution_count": 9,
   "metadata": {},
   "outputs": [
    {
     "name": "stdout",
     "output_type": "stream",
     "text": [
      "Loaded 8 applications from all_data.json\n"
     ]
    }
   ],
   "source": [
    "with open(\"clab_data/all_data.json\", \"r\", encoding=\"utf-8\") as f:\n",
    "    applications_data = json.load(f)\n",
    "\n",
    "print(f\"Loaded {len(applications_data)} applications from all_data.json\")"
   ]
  },
  {
   "cell_type": "code",
   "execution_count": 10,
   "metadata": {},
   "outputs": [],
   "source": [
    "@dataclass\n",
    "class Application:  # This will store accepted applications as well as their embeddings\n",
    "    filename: str\n",
    "    content: Dict[str, Any]\n",
    "    embedding: List[float] = None"
   ]
  },
  {
   "cell_type": "code",
   "execution_count": 11,
   "metadata": {},
   "outputs": [
    {
     "name": "stderr",
     "output_type": "stream",
     "text": [
      "INFO:httpx:HTTP Request: POST https://api.openai.com/v1/embeddings \"HTTP/1.1 200 OK\"\n",
      "INFO:httpx:HTTP Request: POST https://api.openai.com/v1/embeddings \"HTTP/1.1 200 OK\"\n",
      "INFO:httpx:HTTP Request: POST https://api.openai.com/v1/embeddings \"HTTP/1.1 200 OK\"\n",
      "INFO:httpx:HTTP Request: POST https://api.openai.com/v1/embeddings \"HTTP/1.1 200 OK\"\n",
      "INFO:httpx:HTTP Request: POST https://api.openai.com/v1/embeddings \"HTTP/1.1 200 OK\"\n",
      "INFO:httpx:HTTP Request: POST https://api.openai.com/v1/embeddings \"HTTP/1.1 200 OK\"\n",
      "INFO:httpx:HTTP Request: POST https://api.openai.com/v1/embeddings \"HTTP/1.1 200 OK\"\n",
      "INFO:httpx:HTTP Request: POST https://api.openai.com/v1/embeddings \"HTTP/1.1 200 OK\"\n"
     ]
    }
   ],
   "source": [
    "applications = []\n",
    "\n",
    "for key, application in applications_data.items():\n",
    "    embedding = embeddings_model.embed_query(json.dumps(application))\n",
    "\n",
    "    application = Application(\n",
    "        filename=key,\n",
    "        content=application,\n",
    "        embedding=embedding,\n",
    "    )\n",
    "\n",
    "    applications.append(application)\n",
    "\n",
    "with open(\"application_embeddings.pkl\", \"wb\") as f:\n",
    "    pickle.dump(applications, f)"
   ]
  },
  {
   "cell_type": "code",
   "execution_count": 12,
   "metadata": {},
   "outputs": [],
   "source": [
    "applications = pickle.load(open(\"application_embeddings.pkl\", \"rb\"))"
   ]
  },
  {
   "cell_type": "code",
   "execution_count": 13,
   "metadata": {},
   "outputs": [],
   "source": [
    "DUMMY_USER_DATA = {\n",
    "    \"name\": \"Sarah Johnson\",\n",
    "    \"gender\": \"Female\",\n",
    "    \"birth_country\": \"United States\",\n",
    "    \"cultural_background\": [\n",
    "        \"American\",\n",
    "        \"first-generation college student\",\n",
    "        \"rural upbringing\",\n",
    "        \"STEM-focused\",\n",
    "        \"environmental advocate\",\n",
    "    ],\n",
    "    \"academic\": {\n",
    "        \"gpa\": \"3.95\",\n",
    "        \"school_type\": \"Public High School\",\n",
    "        \"test_scores\": {\"SAT\": \"1450\", \"ACT\": \"32\"},\n",
    "    },\n",
    "    \"activities\": [\n",
    "        {\n",
    "            \"position\": \"President\",\n",
    "            \"category\": \"Academic\",\n",
    "            \"description\": \"Led environmental science club, organized community clean-up events, coordinated with local government on sustainability initiatives\",\n",
    "        },\n",
    "        {\n",
    "            \"position\": \"Team Captain\",\n",
    "            \"category\": \"Athletics\",\n",
    "            \"description\": \"Varsity soccer team captain, led team to state championship, organized team community service projects\",\n",
    "        },\n",
    "        {\n",
    "            \"position\": \"Volunteer\",\n",
    "            \"category\": \"Community Service\",\n",
    "            \"description\": \"Tutored underprivileged students in math and science, developed curriculum for after-school program\",\n",
    "        },\n",
    "        {\n",
    "            \"position\": \"Research Assistant\",\n",
    "            \"category\": \"Research\",\n",
    "            \"description\": \"Assisted professor in environmental impact study, analyzed data on renewable energy adoption in rural communities\",\n",
    "        },\n",
    "    ],\n",
    "    \"future_plans\": [\n",
    "        \"Study environmental engineering\",\n",
    "        \"Work on renewable energy solutions\",\n",
    "        \"Masters degree\",\n",
    "        \"Start a non-profit focused on rural sustainability\",\n",
    "    ],\n",
    "}"
   ]
  },
  {
   "cell_type": "code",
   "execution_count": 14,
   "metadata": {},
   "outputs": [
    {
     "name": "stderr",
     "output_type": "stream",
     "text": [
      "INFO:httpx:HTTP Request: POST https://api.openai.com/v1/embeddings \"HTTP/1.1 200 OK\"\n"
     ]
    }
   ],
   "source": [
    "user_embedding = embeddings_model.embed_query(json.dumps(DUMMY_USER_DATA))"
   ]
  },
  {
   "cell_type": "code",
   "execution_count": 15,
   "metadata": {},
   "outputs": [
    {
     "name": "stdout",
     "output_type": "stream",
     "text": [
      "Top 3 Accepted Applications:\n",
      "Princeton_app1\n",
      "Harvard_app1\n",
      "Princeton_app2\n"
     ]
    }
   ],
   "source": [
    "similarities = []\n",
    "\n",
    "for app in applications:\n",
    "    similarity = cosine_similarity([user_embedding], [app.embedding])[0][0]\n",
    "    similarities.append((app, similarity))\n",
    "\n",
    "top_3_similar = sorted(similarities, key=lambda x: x[1], reverse=True)[:3]\n",
    "\n",
    "print(\"Top 3 Accepted Applications:\")\n",
    "print(\"\\n\".join([each[0].filename for each in top_3_similar]))"
   ]
  },
  {
   "cell_type": "code",
   "execution_count": 16,
   "metadata": {},
   "outputs": [],
   "source": [
    "application_narratives = []\n",
    "\n",
    "for each in top_3_similar:\n",
    "    temp = each[0].content\n",
    "\n",
    "    if \"application_narrative\" in temp:\n",
    "        application_narratives.append(temp[\"application_narrative\"])"
   ]
  },
  {
   "cell_type": "markdown",
   "metadata": {},
   "source": [
    "Narrative"
   ]
  },
  {
   "cell_type": "code",
   "execution_count": 84,
   "metadata": {},
   "outputs": [
    {
     "name": "stderr",
     "output_type": "stream",
     "text": [
      "2025-08-23 16:54:17,670 - httpx - INFO - HTTP Request: POST https://clabai3366454354.openai.azure.com/openai/deployments/gpt-4o/chat/completions?api-version=2024-02-01 \"HTTP/1.1 200 OK\"\n"
     ]
    },
    {
     "name": "stdout",
     "output_type": "stream",
     "text": [
      "{\n",
      "  \"narrative_angles\": [\n",
      "    {\n",
      "      \"title\": \"From Soccer Field to Sustainability: Turning Teamwork into Renewable Energy Solutions\",\n",
      "      \"positioning\": \"How does a soccer captain become a rural sustainability advocate?\",\n",
      "      \"essay_concept\": \"Opening with a scene from the state championship → Connecting leadership on the field to her passion for community action → Realizing small rural innovations ripple globally → Developing skills through academic and research pursuits → Future vision of inclusive renewable energy systems.\",\n",
      "      \"anchor_scene\": \"The roar of the crowd echoes, cleats pounding on the turf as Sarah leads her team to victory; afterward, she gathers her teammates for a community cleanup, beaming as they haul away mountains of waste together.\",\n",
      "      \"unexpected_twist\": \"Combining sports leadership with scientific rigor to approach sustainability with a collaborative ethos.\",\n",
      "      \"signature_initiative\": {\n",
      "        \"name\": \"Rural Solar Soccer Fields\",\n",
      "        \"description\": \"Converts unused athletic fields in rural communities into solar farms to generate energy and reinvest profits locally.\"\n",
      "      },\n",
      "      \"natural_major_fit\": [\"Environmental Engineering\", \"Renewable Energy Studies\", \"Sustainability Science\"]\n",
      "    },\n",
      "    {\n",
      "      \"title\": \"Rural Roots, Global Reach: A First-Gen Environmental Engineer in the Making\",\n",
      "      \"positioning\": \"What if rural innovations became the blueprint for global environmental change?\",\n",
      "      \"essay_concept\": \"Opening with vivid imagery of her small town’s struggles to adopt renewable energy → Personal ties to the land and community fueling her ambition → Research illuminating the scalability of rural innovations → Action through her environmental club and tutoring → Vision of creating global partnerships to amplify what works locally.\",\n",
      "      \"anchor_scene\": \"Sarah watches a tractor pull bales of hay under the golden summer sun, imagining that same field transformed with rows of sparkling solar panels; she closes her research notebook and feels the first spark of her purpose.\",\n",
      "      \"unexpected_twist\": \"The global environmental field often overlooks rural areas, while Sarah insists they hold the key to scalable solutions.\",\n",
      "      \"signature_initiative\": {\n",
      "        \"name\": \"Innovate Locally, Impact Globally\",\n",
      "        \"description\": \"A program that mentors rural communities to adopt renewable energy solutions and connects them with global sustainability networks.\"\n",
      "      },\n",
      "      \"natural_major_fit\": [\"Environmental Engineering\", \"Public Policy\", \"Energy Systems Management\"]\n",
      "    },\n",
      "    {\n",
      "      \"title\": \"STEM in Action: Tutoring to Transform Futures and the Planet\",\n",
      "      \"positioning\": \"How tutoring underprivileged kids led to a vision for sustainable energy education in underserved places.\",\n",
      "      \"essay_concept\": \"Opening with tutoring sessions filled with curiosity and breakthroughs → Recognizing how education creates lasting change → Merging STEM education with sustainability through her research and club leadership → Advocating for underserved voices in the renewable energy field → Envisioning widespread impact through tailored education programs.\",\n",
      "      \"anchor_scene\": \"A student’s pencil scratches loudly against paper, hesitating at a math equation; Sarah kneels beside him, guiding him through the solution until his face lights up with understanding. She imagines a future where every child knows they can impact the planet.\",\n",
      "      \"unexpected_twist\": \"Her realization that environmental action starts with education and empowerment, especially in areas where it’s least accessible.\",\n",
      "      \"signature_initiative\": {\n",
      "        \"name\": \"STEMpower Rural Sustainability\",\n",
      "        \"description\": \"Creates hands-on STEM and sustainability curriculum for rural and underserved schools, emphasizing the societal impact of engineering.\"\n",
      "      },\n",
      "      \"natural_major_fit\": [\"Environmental Education\", \"STEM Education Policy\", \"Environmental Design\"]\n",
      "    },\n",
      "    {\n",
      "      \"title\": \"Fieldwork at Home: Bridging Rural Life and Renewable Research\",\n",
      "      \"positioning\": \"Can fieldwork at local farms become a model for sustainable rural innovation?\",\n",
      "      \"essay_concept\": \"Starting by showing her hands-on experience analyzing data on renewable energy adoption → Linking rural struggles to her family upbringing → Eye-opening lessons from collaboration within research teams → Designing community-based solutions through tangible action like environmental club projects → Future aspirations to scale renewable research nationally and internationally.\",\n",
      "      \"anchor_scene\": \"Sarah stands waist-deep in a field of wild grass beside wind turbines, jotting notes about energy efficiency while the breeze carries the smell of hay; she feels rooted yet ready to innovate far beyond her hometown.\",\n",
      "      \"unexpected_twist\": \"Her ability to blend rigorous academic research with deep community insight from her rural upbringing.\",\n",
      "      \"signature_initiative\": {\n",
      "        \"name\": \"The Rural Renewable Impact Study\",\n",
      "        \"description\": \"An applied research program that empowers rural communities to test and adopt renewable energy solutions tailored to their needs.\"\n",
      "      },\n",
      "      \"natural_major_fit\": [\"Environmental Engineering\", \"Renewable Energy Resources\", \"Rural Development Studies\"]\n",
      "    },\n",
      "    {\n",
      "      \"title\": \"Cleanups, Curriculums, and Carbon Neutrality: A Personal Mission in Motion\",\n",
      "      \"positioning\": \"How small-town cleanups evolved into a vision for carbon-neutral rural communities.\",\n",
      "      \"essay_concept\": \"Opening with organizing a community cleanup tied to her environmental club → Connecting the cleanup drive with broader sustainability challenges → Exploring data-driven solutions through her research assistantship → Inspiring change through her tutoring and personalized outreach → Long-term goal of designing carbon-neutral rural communities.\",\n",
      "      \"anchor_scene\": \"Sarah looks down at dirt-stained gloves as local residents haul trash from ditches, laughing and working together. She glances at a whiteboard sketch of a green infrastructure plan she’s been designing, hopeful these efforts will inspire deeper change.\",\n",
      "      \"unexpected_twist\": \"Her belief that small sustainability efforts symbolize larger systemic changes waiting to unfold in rural areas.\",\n",
      "      \"signature_initiative\": {\n",
      "        \"name\": \"Carbon-Neutral Rural Network\",\n",
      "        \"description\": \"Creates infrastructure plans for rural communities to transition to carbon-neutral energy systems and trains residents to maintain them.\"\n",
      "      },\n",
      "      \"natural_major_fit\": [\"Environmental Science\", \"Systems Engineering\", \"Community Design and Planning\"]\n",
      "    }\n",
      "  ]\n",
      "}\n"
     ]
    }
   ],
   "source": [
    "narrative_angles_prompt_template = create_narrative_angles_prompt_template()\n",
    "\n",
    "theme_chain = narrative_angles_prompt_template | llm | StrOutputParser()\n",
    "\n",
    "theme_result = theme_chain.invoke(\n",
    "    {\n",
    "        \"student_profile\": json.dumps(DUMMY_USER_DATA)\n",
    "        # \"similar_narrative_themes\": json.dumps(application_narratives),\n",
    "    }\n",
    ")\n",
    "\n",
    "print(theme_result)\n",
    "# wrap JSON parsing:\n",
    "try:\n",
    "    theme_result = json.loads(theme_result)\n",
    "except json.JSONDecodeError as e:\n",
    "    print(f\"JSON parsing error: {e}\")\n",
    "    print(f\"Raw output: {theme_result}\")"
   ]
  },
  {
   "cell_type": "markdown",
   "metadata": {},
   "source": [
    "Future plan -\n"
   ]
  },
  {
   "cell_type": "code",
   "execution_count": null,
   "metadata": {},
   "outputs": [
    {
     "name": "stdout",
     "output_type": "stream",
     "text": [
      "Environmental engineer, uniting rural athletes to pioneer renewable energy equity in underserved towns.\n"
     ]
    }
   ],
   "source": [
    "future_plan_prompt_template = create_future_plan_prompt_template()\n",
    "\n",
    "future_plan_chain = future_plan_prompt_template | llm | StrOutputParser()\n",
    "\n",
    "future_plan_result = future_plan_chain.invoke(\n",
    "    {\n",
    "        \"user_profile\": json.dumps(DUMMY_USER_DATA),\n",
    "        \"narrative\": theme_result[\"narrative_angles\"][0],\n",
    "    }\n",
    ")\n",
    "\n",
    "print(future_plan_result)"
   ]
  },
  {
   "cell_type": "markdown",
   "metadata": {},
   "source": [
    "Activity-generator\n"
   ]
  },
  {
   "cell_type": "code",
   "execution_count": null,
   "metadata": {},
   "outputs": [
    {
     "name": "stdout",
     "output_type": "stream",
     "text": [
      "**Enhanced Version of Existing:**\n",
      "\n",
      "- **Current:** Led environmental science club, organized community clean-up events, coordinated with local government on sustainability initiatives  \n",
      "- **Elevated:** Led regional sustainability campaigns, educated 400+ citizens, enacted waste-reduction policies with council, launched reusable packaging drive  \n",
      "- **Position:** Regional Eco-Campaign Leader  \n",
      "- **Organization:** CleanFuture Collective  \n",
      "- **Description:** Led 20+ eco-events; educated 400+ citizens; reduced landfill waste by 15% via reusable packaging program in rural stores  \n",
      "\n",
      "- **Current:** Varsity soccer team captain, led team to state championship, organized team community service projects  \n",
      "- **Elevated:** State champion captain; implemented carbon-neutral championship protocol; led 80 athletes in sports sustainability workshops for 3 local schools  \n",
      "- **Position:** Carbon-Neutral Sports Leader  \n",
      "- **Organization:** GreenPlay Sports Initiative  \n",
      "- **Description:** Implemented carbon-neutral game plans; led 80 athletes in youth eco-education workshops; collaborated across 3 rural districts  \n",
      "\n",
      "- **Current:** Tutored underprivileged students in math and science, developed curriculum for after-school program  \n",
      "- **Elevated:** Developed STEM curriculum serving 150+ underserved youth; partnered with rural teachers to integrate environmental science into core classes  \n",
      "- **Position:** Rural STEM Education Developer  \n",
      "- **Organization:** ImpactEd Rural Outreach  \n",
      "- **Description:** Created STEM lessons for 150+ youth; partnered with local teachers for eco-focused curriculum; delivered lasting knowledge to underserved students  \n",
      "\n",
      "- **Current:** Assisted professor in environmental impact study, analyzed data on renewable energy adoption in rural communities  \n",
      "- **Elevated:** Co-authored statewide rural energy analysis used by policymakers; advised energy firm; initiated town-level pilot renewable programs  \n",
      "- **Position:** Rural Renewable Strategist  \n",
      "- **Organization:** State Energy Impact Collaboration  \n",
      "- **Description:** Co-published analysis consulted by policymakers; started renewable pilots in 3 towns; empowered rural areas through clean energy plans  \n",
      "\n",
      "---\n",
      "\n",
      "**Three New Signature Activities:**\n",
      "\n",
      "1. **Position:** Bio-Based Innovator & Recycling Trainer  \n",
      "   - **Organization:** ReGreen Rural Workshop Series  \n",
      "   - **Description:** Invented bio-plastic from farm waste; trained 50+ farmers in rural recycling; converted waste into sells for sustainable income  \n",
      "\n",
      "2. **Position:** Solar-Powered Library Founder  \n",
      "   - **Organization:** LightUp Learning Libraries  \n",
      "   - **Description:** Built solar library hub; provided books + STEM kits for 300 youths in tech deserts; spearheaded literacy + energy equity initiative  \n",
      "\n",
      "3. **Position:** Eco-Sports Non-Profit Founder  \n",
      "   - **Organization:** Fields to Futures  \n",
      "   - **Description:** Created eco-athlete non-profit; trained 120 athletes to lead rural clean-energy projects; united sports + sustainability in remote towns  \n"
     ]
    }
   ],
   "source": [
    "activity_prompt_template = create_activity_list_generator_prompt_template()\n",
    "# Create the chain\n",
    "activity_chain = activity_prompt_template | llm | StrOutputParser()\n",
    "\n",
    "# Generate the activity list\n",
    "activity_result = activity_chain.invoke(\n",
    "    {\n",
    "        \"user_profile\": json.dumps(DUMMY_USER_DATA),\n",
    "        \"narrative\": theme_result[\"narrative_angles\"][0],\n",
    "        \"future_plan\": future_plan_result,\n",
    "    }\n",
    ")\n",
    "\n",
    "print(activity_result)"
   ]
  },
  {
   "cell_type": "markdown",
   "metadata": {},
   "source": [
    "main essay -\n"
   ]
  },
  {
   "cell_type": "code",
   "execution_count": null,
   "metadata": {},
   "outputs": [
    {
     "name": "stdout",
     "output_type": "stream",
     "text": [
      "```json\n",
      "{\n",
      "    \"main_essay_ideas\": [\n",
      "        {\n",
      "            \"title\": \"The Carbon-Neutral Championship\",\n",
      "            \"theme\": \"Leadership through sustainability and teamwork\",\n",
      "            \"hook\": \"The aroma of burgers and fries filled the air as fans cheered, but I couldn’t focus on the trophy in my hands. My eyes were on the plastic cups and wrappers piling up around the field. A state championship was a victory—but at what cost to the environment?\",\n",
      "            \"challenge\": \"As soccer captain, I realized our team’s triumphs were inadvertently leaving behind a trail of waste—both on the field and in our community.\",\n",
      "            \"journey\": \"I convinced my teammates to implement carbon-neutral protocols for our games, from reusable water bottles to composting food waste. We held workshops for the younger teams, turning our field into a model of sustainability.\",\n",
      "            \"growth\": \"I learned that leadership goes beyond the scoreboard; it’s about reshaping the culture around you, even when others resist change.\",\n",
      "            \"impact\": \"Our initiative reduced waste by 30% at tournaments and inspired other schools to adopt green sports practices.\",\n",
      "            \"future_connection\": \"I envision combining my passion for teamwork and environmental science to lead innovations in renewable energy, starting with outreach programs in rural areas.\",\n",
      "            \"key_activities\": [\"Varsity Soccer Captain\", \"Sustainability Workshops Organizer\"],\n",
      "            \"unique_angle\": \"The fusion of competitive sports leadership with a drive for environmental advocacy, showing impact in unexpected spaces.\",\n",
      "            \"authenticity_factors\": [\"First-hand leadership experience\", \"Connection to rural identity\", \"Focus on action and measurable success\"]\n",
      "        },\n",
      "        {\n",
      "            \"title\": \"The Power Is in the People\",\n",
      "            \"theme\": \"Community-driven environmental change in rural America\",\n",
      "            \"hook\": \"“How can we be in the dark when we have so much sunlight?” Mr. Carter, my 72-year-old neighbor, asked as he waved at the solar panel on my family’s roof. His question lit a spark in me.\",\n",
      "            \"challenge\": \"Growing up in a rural town, I saw the energy inequity firsthand—neighbors grappling with high utility costs despite renewable energy resources all around us.\",\n",
      "            \"journey\": \"As a research assistant on a renewable energy project, I co-analyzed rural adoption barriers and presented my findings to policymakers. I also initiated a pilot program to bring solar solutions to my town, empowering families like Mr. Carter’s.\",\n",
      "            \"growth\": \"I realized meaningful change happens by connecting data with real human stories, and I gained confidence bringing science to spaces that often feel overlooked.\",\n",
      "            \"impact\": \"Our pilot introduced solar energy to three local families, saving them hundreds annually and setting a precedent for broader adoption.\",\n",
      "            \"future_connection\": \"I plan to pursue environmental engineering to create scalable renewable energy solutions for small towns, fostering both technical innovation and social equity.\",\n",
      "            \"key_activities\": [\"Environmental Research Assistant\", \"Community Solar Pilot Organizer\"],\n",
      "            \"unique_angle\": \"Blending scientific research with grassroots advocacy to address the unique needs of underserved rural communities.\",\n",
      "            \"authenticity_factors\": [\"Personal stake in the problem\", \"Combination of science and empathy\", \"Concrete impact on local families\"]\n",
      "        },\n",
      "        {\n",
      "            \"title\": \"From Trash Bag to Town Change\",\n",
      "            \"theme\": \"Turning rural challenges into environmental innovation\",\n",
      "            \"hook\": \"The trash bag slipped from my sweaty grip as the sun set behind my teammates. Though we’d just won the regional soccer tournament, we weren’t celebrating in a pizzeria. Instead, we were cleaning up the waste left behind, and I couldn’t ignore the bigger problem.\",\n",
      "            \"challenge\": \"My hometown, like many rural areas, faced mounting environmental challenges—excess landfill waste, limited infrastructure, and little education on sustainability.\",\n",
      "            \"journey\": \"I founded an initiative combining sports with eco-education. Athletes collected waste at tournaments, while I hosted workshops in schools on the importance of reducing, reusing, and recycling. We partnered with local businesses, launching a reusable bag campaign across stores.\",\n",
      "            \"growth\": \"I saw that small actions—recycling a single bottle or changing one mindset—snowball into lasting impact when enough people care.\",\n",
      "            \"impact\": \"Through our efforts, landfill waste in the area decreased by 15%, and over 400 students and residents pledged to adopt sustainable practices.\",\n",
      "            \"future_connection\": \"I aim to channel this grassroots momentum into a career solving systemic environmental problems, starting with renewable solutions for underserved regions.\",\n",
      "            \"key_activities\": [\"Eco-Campaign Leader\", \"Varsity Soccer Captain\"],\n",
      "            \"unique_angle\": \"Using sports as a vehicle for mobilizing young people and their families toward environmental change.\",\n",
      "            \"authenticity_factors\": [\"Community-centered focus\", \"Youth leadership in rural sustainability\", \"Measurable local results\"]\n",
      "        },\n",
      "        {\n",
      "            \"title\": \"STEM and Soil: Bridging Labs and Lands\",\n",
      "            \"theme\": \"Applying STEM to rural sustainability\",\n",
      "            \"hook\": \"My hands were caked in soil as I held up the prototype: a biodegradable bioplastic made from cornstalks left behind on the farms near my school. It was messy but full of potential—like my hometown.\",\n",
      "            \"challenge\": \"Living in a farming community made me acutely aware of the waste from harvests. How could we turn this problem into a resource?\",\n",
      "            \"journey\": \"In a school lab, I developed bioplastic prototypes from agricultural byproducts, testing and refining their potential. I then created workshops teaching farmers how to recycle crop waste into products they could use and sell.\",\n",
      "            \"growth\": \"I learned that innovation isn’t just building something groundbreaking; it’s about addressing tangible human needs in creative ways.\",\n",
      "            \"impact\": \"The program trained over 50 local farmers, sparking economic relief and reducing agricultural waste across the county.\",\n",
      "            \"future_connection\": \"As an environmental engineering student, I hope to scale bio-solutions like these, collaborating across disciplines to make sustainability accessible for rural communities globally.\",\n",
      "            \"key_activities\": [\"STEM Curriculum Developer\", \"Bio-Innovation Workshop Leader\"],\n",
      "            \"unique_angle\": \"Transforming farming waste into environmental and economic opportunity highlights both resourcefulness and STEM-driven creativity.\",\n",
      "            \"authenticity_factors\": [\"Direct link to rural roots\", \"Original scientific problem-solving\", \"Collaboration with the local community\"]\n",
      "        },\n",
      "        {\n",
      "            \"title\": \"The Solar Library That Sparked Change\",\n",
      "            \"theme\": \"Educational equity through environmental design\",\n",
      "            \"hook\": \"The lights cut out during the after-school lesson I was teaching. I fumbled for my phone flashlight before a student whispered, “We can’t even afford the electricity sometimes.” That night, my vision for a solar-powered library took hold.\",\n",
      "            \"challenge\": \"Low-income rural students struggled with both academic resources and reliable access to electricity, limiting their learning opportunities.\",\n",
      "            \"journey\": \"I raised funds and collaborated with local electricians to create a solar-powered library hub. Stocked with books and learning kits, the library became a dual solution for tech deserts and energy inequity.\",\n",
      "            \"growth\": \"I realized innovation comes alive when it meets people where they are, adapting solutions to fit unique local needs.\",\n",
      "            \"impact\": \"The library now serves over 300 students annually, providing a sustainable space for education and community.\",\n",
      "            \"future_connection\": \"I want to study environmental engineering to design more breakthroughs that bridge education and sustainability in underserved areas.\",\n",
      "            \"key_activities\": [\"Volunteer STEM Tutor\", \"Solar-Powered Library Founder\"],\n",
      "            \"unique_angle\": \"Connecting two often neglected issues—educational equity and renewable energy access—through a solution with lasting impact.\",\n",
      "            \"authenticity_factors\": [\"Empathy for underserved students\", \"Practical implementation skills\", \"Connection to broader renewable energy advocacy\"]\n",
      "        }\n",
      "    ]\n",
      "}\n",
      "```\n"
     ]
    }
   ],
   "source": [
    "main_essay_prompt_template = create_main_essay_ideas_prompt_template()\n",
    "\n",
    "# Create the chain\n",
    "main_essay_chain = main_essay_prompt_template | llm | StrOutputParser()\n",
    "\n",
    "# Generate the main essay ideas\n",
    "main_essay_result = main_essay_chain.invoke(\n",
    "    {\n",
    "        \"user_profile\": json.dumps(DUMMY_USER_DATA),\n",
    "        \"narrative\": theme_result[\"narrative_angles\"][0],\n",
    "        \"future_plan\": future_plan_result,\n",
    "        \"activity_result\": activity_result,\n",
    "    }\n",
    ")\n",
    "print(main_essay_result)"
   ]
  },
  {
   "cell_type": "code",
   "execution_count": 42,
   "metadata": {},
   "outputs": [],
   "source": [
    "from langchain.agents import create_openai_tools_agent, AgentExecutor\n",
    "from langchain_core.prompts import ChatPromptTemplate, MessagesPlaceholder\n",
    "\n",
    "prompt = ChatPromptTemplate.from_messages([\n",
    "    (\"system\",\n",
    "     \"You are an elite admissions strategist. \"\n",
    "     \"When calling any tool, ALWAYS include the `user_profile` argument. \"\n",
    "     \"Follow this strict sequence: \"\n",
    "     \"1) generate_narrative_angles(user_profile) \"\n",
    "     \"2) generate_future_plan(user_profile, narrative=<first angle>) \"\n",
    "     \"3) generate_activity_list(user_profile, narrative=<first angle>, future_plan) \"\n",
    "     \"4) generate_main_essay_ideas(user_profile, narrative=<first angle>, future_plan, activity_result). \"\n",
    "     \"Return the final JSON from the last tool.\"),\n",
    "    (\"user\", \"USER_PROFILE(JSON): {user_profile}\\n\\nTASK: {input}\"),\n",
    "    MessagesPlaceholder(\"agent_scratchpad\"),\n",
    "])\n",
    "\n",
    "tools = [\n",
    "    generate_narrative_angles,\n",
    "    generate_future_plan,\n",
    "    generate_activity_list,\n",
    "    generate_main_essay_ideas,\n",
    "]\n",
    "\n",
    "agent = create_openai_tools_agent(llm, tools, prompt)\n",
    "executor = AgentExecutor(agent=agent, tools=tools, verbose=True)\n"
   ]
  },
  {
   "cell_type": "code",
   "execution_count": 111,
   "metadata": {},
   "outputs": [],
   "source": [
    "from langchain.memory import ConversationBufferMemory\n",
    "\n",
    "memory = ConversationBufferMemory(memory_key=\"chat_history\", return_messages=True)\n",
    "\n",
    "agent = create_openai_tools_agent(llm, tools, prompt)\n",
    "\n",
    "executor = AgentExecutor(agent=agent, tools=tools, verbose=True, memory=memory)\n"
   ]
  },
  {
   "cell_type": "code",
   "execution_count": 46,
   "metadata": {},
   "outputs": [
    {
     "name": "stdout",
     "output_type": "stream",
     "text": [
      "\n",
      "\n",
      "\u001b[1m> Entering new AgentExecutor chain...\u001b[0m\n"
     ]
    },
    {
     "name": "stderr",
     "output_type": "stream",
     "text": [
      "INFO:httpx:HTTP Request: POST https://clabai3366454354.openai.azure.com/openai/deployments/gpt-4o/chat/completions?api-version=2024-02-01 \"HTTP/1.1 200 OK\"\n"
     ]
    },
    {
     "name": "stdout",
     "output_type": "stream",
     "text": [
      "\u001b[32;1m\u001b[1;3m\n",
      "Invoking: `generate_narrative_angles` with `{'user_profile': \"{'name': 'Sarah Johnson', 'gender': 'Female', 'birth_country': 'United States', 'cultural_background': ['American', 'first-generation college student', 'rural upbringing', 'STEM-focused', 'environmental advocate'], 'academic': {'gpa': '3.95', 'school_type': 'Public High School', 'test_scores': {'SAT': '1450', 'ACT': '32'}}, 'activities': [{'position': 'President', 'category': 'Academic', 'description': 'Led environmental science club, organized community clean-up events, coordinated with local government on sustainability initiatives'}, {'position': 'Team Captain', 'category': 'Athletics', 'description': 'Varsity soccer team captain, led team to state championship, organized team community service projects'}, {'position': 'Volunteer', 'category': 'Community Service', 'description': 'Tutored underprivileged students in math and science, developed curriculum for after-school program'}, {'position': 'Research Assistant', 'category': 'Research', 'description': 'Assisted professor in environmental impact study, analyzed data on renewable energy adoption in rural communities'}], 'future_plans': ['Study environmental engineering', 'Work on renewable energy solutions', 'Masters degree', 'Start a non-profit focused on rural sustainability']}\"}`\n",
      "\n",
      "\n",
      "\u001b[0m"
     ]
    },
    {
     "name": "stderr",
     "output_type": "stream",
     "text": [
      "INFO:httpx:HTTP Request: POST https://clabai3366454354.openai.azure.com/openai/deployments/gpt-4o/chat/completions?api-version=2024-02-01 \"HTTP/1.1 200 OK\"\n"
     ]
    },
    {
     "name": "stdout",
     "output_type": "stream",
     "text": [
      "\u001b[36;1m\u001b[1;3m{'error': 'Invalid JSON from model', 'raw': '```json\\n{\\n  \"narrative_angles\": [\\n    {\\n      \"title\": \"From Rural Soccer Fields to Renewable Energy Frontlines\",\\n      \"positioning\": \"A STEM-driven environmental advocate channels the grit of a soccer captain into revolutionizing rural sustainability.\",\\n      \"essay_concept\": \"Opening scene: A muddy soccer field surrounded by wind turbines → Personal connection: Balancing soccer captainship with leading clean-up events → Broader realization: Rural communities need sustainable solutions tailored to their challenges → Action: Conducting renewable energy adoption research for rural areas → Future vision: Advancing environmental engineering to bring self-sustaining energy to underrepresented regions.\",\\n      \"anchor_scene\": \"Under a gray sky, Sarah wipes dirt from her soccer cleats as the distant hum of a wind turbine fills the air. Her team huddles around her, preparing a recycled-themed fundraiser after practice. It hits her: rural potential is vast, but lacks accessible sustainability plans.\",\\n      \"unexpected_twist\": \"The link between her role as a soccer captain and her environmental mission sparks curiosity—how do team leadership and the rural backdrop converge into engineering innovation?\",\\n      \"signature_initiative\": {\\n        \"name\": \"Powering the Heartland\",\\n        \"description\": \"A community-driven program educating rural towns on scalable renewable energy solutions and providing mentorship to high schoolers interested in STEM.\"\\n      },\\n      \"natural_major_fit\": [\"Environmental Engineering\", \"Sustainability Studies\", \"Renewable Energy Engineering\"]\\n    },\\n    {\\n      \"title\": \"Bridging a STEM Dream with Rural Realities\",\\n      \"positioning\": \"A first-generation student turns the challenges of a rural upbringing into a roadmap for energy equity.\",\\n      \"essay_concept\": \"Opening scene: A dimming porch light in her rural hometown → Personal connection: Witnessing energy insecurity as a child → Broader realization: STEM education can empower rural innovation and equity → Action: Developing math/science curricula for underserved students, researching renewable adoption → Future vision: Designing systems to ensure clean energy access in all rural households.\",\\n      \"anchor_scene\": \"The generator whirs outside, the lightbulbs flicker, and Sarah squints to finish her algebra homework by flashlight. In that moment, she resolves to find a path where no family must live without reliable energy.\",\\n      \"unexpected_twist\": \"Rooting a STEM journey in the quiet, often-overlooked struggles of rural life offers a compelling contrast to more typical environmental narratives.\",\\n      \"signature_initiative\": {\\n        \"name\": \"Rural Sparks\",\\n        \"description\": \"An initiative combining STEM workshops for rural students with energy literacy programs aimed at local families to address and alleviate power challenges.\"\\n      },\\n      \"natural_major_fit\": [\"Environmental Engineering\", \"Energy Policy\", \"Science, Technology, and Society\"]\\n    },\\n    {\\n      \"title\": \"The Data-Driven Advocate for Underserved Communities\",\\n      \"positioning\": \"A soccer captain and environmental researcher seeks to blend data and advocacy for tangible change in rural America.\",\\n      \"essay_concept\": \"Opening scene: Sarah presenting her renewable energy study at a community meeting → Personal connection: Discovering the challenges and reluctance rural towns have toward renewable energy → Broader realization: Advocacy requires both science and communication → Action: Bridging her research with town hall dialogues and building actionable clean-up initiatives → Future vision: Spearheading pragmatic, locally-tailored energy solutions for rural areas.\",\\n      \"anchor_scene\": \"Sarah faces a room of skeptical yet curious faces in a community center, her research slides glowing behind her. She leans in, using data and anecdotes to make the case for renewable energy, energized by the quiet nods of understanding in the crowd.\",\\n      \"unexpected_twist\": \"The interplay of rigorous data analysis with empathetic communication makes her trajectory both scientifically robust and deeply human.\",\\n      \"signature_initiative\": {\\n        \"name\": \"Grid Together\",\\n        \"description\": \"A platform uniting scientists, policymakers, and rural community leaders to co-create actionable energy solutions customized to local needs.\"\\n      },\\n      \"natural_major_fit\": [\"Environmental Policy\", \"Data Science\", \"Public Policy\"]\\n    },\\n    {\\n      \"title\": \"Empowering the Next Generation of Rural Innovators\",\\n      \"positioning\": \"A first-gen student turns her own access to education into a pathway for STEM mentorship in rural communities.\",\\n      \"essay_concept\": \"Opening scene: Sarah teaching an excited group of rural kids about sustainable energy → Personal connection: Recalling her own struggle to find role models in STEM → Broader realization: The importance of representation and mentorship in driving STEM engagement → Action: Designing math/science programs for underserved youth and integrating environmental themes → Future vision: Expanding these efforts globally to connect careers, communities, and clean energy.\",\\n      \"anchor_scene\": \"In a modest classroom, the hum of solar project kits fills the air as small hands construct circuits, Sarah guiding their curiosity. By the end, grins stretch wide, and a young girl beams, \\'Can I be an engineer too?\\'\",\\n      \"unexpected_twist\": \"While personal STEM success stories are more common, leveraging wins into scalable mentorship programs uniquely amplifies her impact.\",\\n      \"signature_initiative\": {\\n        \"name\": \"NextGen STEM\",\\n        \"description\": \"A mentorship network connecting rural students with STEM professionals and educational resources, focusing on sustainability and energy topics.\"\\n      },\\n      \"natural_major_fit\": [\"Education Policy\", \"Environmental Engineering\", \"STEM Education\"]\\n    },\\n    {\\n      \"title\": \"Championing Rural Resilience Through Sport and Science\",\\n      \"positioning\": \"From leading soccer teams to building environmental teams, she turns teamwork into a force for systemic rural change.\",\\n      \"essay_concept\": \"Opening scene: A state championship soccer game intertwined with her Environmental Club’s town recycling initiative → Personal connection: The parallels between athletics and environmental leadership → Broader realization: Collaboration isn’t just for sports—it’s key to tackling sustainability challenges → Action: Mobilizing student teams, volunteers, and local governments for environmental programs → Future vision: Creating a global network that addresses sustainability by activating local youth leaders.\",\\n      \"anchor_scene\": \"The stadium roars as the final goal seals the victory. The same teammates will stand with Sarah tomorrow—not in jerseys, but gloves—to lead a community-wide recycling campaign. She sees teamwork in a whole new light.\",\\n      \"unexpected_twist\": \"Blending athletic leadership and science advocacy highlights an unconventional but powerful method of community mobilization.\",\\n      \"signature_initiative\": {\\n        \"name\": \"Sustainability Teams\",\\n        \"description\": \"A global initiative pairing student-athletes with environmental challenges, transforming teamwork into leadership for community-based sustainability projects.\"\\n      },\\n      \"natural_major_fit\": [\"Environmental Studies\", \"Leadership Studies\", \"Community Development\"]\\n    }\\n  ]\\n}\\n```'}\u001b[0m"
     ]
    },
    {
     "name": "stderr",
     "output_type": "stream",
     "text": [
      "INFO:httpx:HTTP Request: POST https://clabai3366454354.openai.azure.com/openai/deployments/gpt-4o/chat/completions?api-version=2024-02-01 \"HTTP/1.1 200 OK\"\n"
     ]
    },
    {
     "name": "stdout",
     "output_type": "stream",
     "text": [
      "\u001b[32;1m\u001b[1;3m\n",
      "Invoking: `generate_future_plan` with `{'user_profile': \"{'name': 'Sarah Johnson', 'gender': 'Female', 'birth_country': 'United States', 'cultural_background': ['American', 'first-generation college student', 'rural upbringing', 'STEM-focused', 'environmental advocate'], 'academic': {'gpa': '3.95', 'school_type': 'Public High School', 'test_scores': {'SAT': '1450', 'ACT': '32'}}, 'activities': [{'position': 'President', 'category': 'Academic', 'description': 'Led environmental science club, organized community clean-up events, coordinated with local government on sustainability initiatives'}, {'position': 'Team Captain', 'category': 'Athletics', 'description': 'Varsity soccer team captain, led team to state championship, organized team community service projects'}, {'position': 'Volunteer', 'category': 'Community Service', 'description': 'Tutored underprivileged students in math and science, developed curriculum for after-school program'}, {'position': 'Research Assistant', 'category': 'Research', 'description': 'Assisted professor in environmental impact study, analyzed data on renewable energy adoption in rural communities'}], 'future_plans': ['Study environmental engineering', 'Work on renewable energy solutions', 'Masters degree', 'Start a non-profit focused on rural sustainability']}\", 'narrative': '{\"title\": \"From Rural Soccer Fields to Renewable Energy Frontlines\", \"positioning\": \"A STEM-driven environmental advocate channels the grit of a soccer captain into revolutionizing rural sustainability.\", \"essay_concept\": \"Opening scene: A muddy soccer field surrounded by wind turbines → Personal connection: Balancing soccer captainship with leading clean-up events → Broader realization: Rural communities need sustainable solutions tailored to their challenges → Action: Conducting renewable energy adoption research for rural areas → Future vision: Advancing environmental engineering to bring self-sustaining energy to underrepresented regions.\", \"anchor_scene\": \"Under a gray sky, Sarah wipes dirt from her soccer cleats as the distant hum of a wind turbine fills the air. Her team huddles around her, preparing a recycled-themed fundraiser after practice. It hits her: rural potential is vast, but lacks accessible sustainability plans.\", \"unexpected_twist\": \"The link between her role as a soccer captain and her environmental mission sparks curiosity—how do team leadership and the rural backdrop converge into engineering innovation?\", \"signature_initiative\": { \"name\": \"Powering the Heartland\", \"description\": \"A community-driven program educating rural towns on scalable renewable energy solutions and providing mentorship to high schoolers interested in STEM.\" }, \"natural_major_fit\": [\"Environmental Engineering\", \"Sustainability Studies\", \"Renewable Energy Engineering\"]}'}`\n",
      "\n",
      "\n",
      "\u001b[0m"
     ]
    },
    {
     "name": "stderr",
     "output_type": "stream",
     "text": [
      "INFO:httpx:HTTP Request: POST https://clabai3366454354.openai.azure.com/openai/deployments/gpt-4o/chat/completions?api-version=2024-02-01 \"HTTP/1.1 200 OK\"\n"
     ]
    },
    {
     "name": "stdout",
     "output_type": "stream",
     "text": [
      "\u001b[33;1m\u001b[1;3mRural innovator merging engineering & leadership to design renewable energy hubs for underserved towns.\u001b[0m"
     ]
    },
    {
     "name": "stderr",
     "output_type": "stream",
     "text": [
      "INFO:httpx:HTTP Request: POST https://clabai3366454354.openai.azure.com/openai/deployments/gpt-4o/chat/completions?api-version=2024-02-01 \"HTTP/1.1 200 OK\"\n"
     ]
    },
    {
     "name": "stdout",
     "output_type": "stream",
     "text": [
      "\u001b[32;1m\u001b[1;3m\n",
      "Invoking: `generate_activity_list` with `{'user_profile': \"{'name': 'Sarah Johnson', 'gender': 'Female', 'birth_country': 'United States', 'cultural_background': ['American', 'first-generation college student', 'rural upbringing', 'STEM-focused', 'environmental advocate'], 'academic': {'gpa': '3.95', 'school_type': 'Public High School', 'test_scores': {'SAT': '1450', 'ACT': '32'}}, 'activities': [{'position': 'President', 'category': 'Academic', 'description': 'Led environmental science club, organized community clean-up events, coordinated with local government on sustainability initiatives'}, {'position': 'Team Captain', 'category': 'Athletics', 'description': 'Varsity soccer team captain, led team to state championship, organized team community service projects'}, {'position': 'Volunteer', 'category': 'Community Service', 'description': 'Tutored underprivileged students in math and science, developed curriculum for after-school program'}, {'position': 'Research Assistant', 'category': 'Research', 'description': 'Assisted professor in environmental impact study, analyzed data on renewable energy adoption in rural communities'}], 'future_plans': ['Study environmental engineering', 'Work on renewable energy solutions', 'Masters degree', 'Start a non-profit focused on rural sustainability']}\", 'narrative': '{\"title\": \"From Rural Soccer Fields to Renewable Energy Frontlines\", \"positioning\": \"A STEM-driven environmental advocate channels the grit of a soccer captain into revolutionizing rural sustainability.\", \"essay_concept\": \"Opening scene: A muddy soccer field surrounded by wind turbines → Personal connection: Balancing soccer captainship with leading clean-up events → Broader realization: Rural communities need sustainable solutions tailored to their challenges → Action: Conducting renewable energy adoption research for rural areas → Future vision: Advancing environmental engineering to bring self-sustaining energy to underrepresented regions.\", \"anchor_scene\": \"Under a gray sky, Sarah wipes dirt from her soccer cleats as the distant hum of a wind turbine fills the air. Her team huddles around her, preparing a recycled-themed fundraiser after practice. It hits her: rural potential is vast, but lacks accessible sustainability plans.\", \"unexpected_twist\": \"The link between her role as a soccer captain and her environmental mission sparks curiosity—how do team leadership and the rural backdrop converge into engineering innovation?\", \"signature_initiative\": { \"name\": \"Powering the Heartland\", \"description\": \"A community-driven program educating rural towns on scalable renewable energy solutions and providing mentorship to high schoolers interested in STEM.\" }, \"natural_major_fit\": [\"Environmental Engineering\", \"Sustainability Studies\", \"Renewable Energy Engineering\"]}', 'future_plan': 'Rural innovator merging engineering & leadership to design renewable energy hubs for underserved towns.'}`\n",
      "\n",
      "\n",
      "\u001b[0m"
     ]
    },
    {
     "name": "stderr",
     "output_type": "stream",
     "text": [
      "INFO:httpx:HTTP Request: POST https://clabai3366454354.openai.azure.com/openai/deployments/gpt-4o/chat/completions?api-version=2024-02-01 \"HTTP/1.1 200 OK\"\n"
     ]
    },
    {
     "name": "stdout",
     "output_type": "stream",
     "text": [
      "\u001b[38;5;200m\u001b[1;3m1. **Enhanced Version of Existing:**\n",
      "   - Current: Led environmental science club, organized community clean-up events, coordinated with local government on sustainability initiatives  \n",
      "   - Elevated: Launched youth-led \"Eco-Rural Initiative\"; hosted 10 clean-ups; advised county on waste-to-compost program; mentored 15+ future green leaders  \n",
      "   - Position: Founder, Eco-Rural Initiative  \n",
      "   - Organization: Green Futures Club  \n",
      "   - Description: Founded initiative advising towns on waste-to-compost plans; scaled program to 3 counties & trained 15+ student sustainability advocates.  \n",
      "\n",
      "   - Current: Varsity soccer team captain, led team to state championship, organized team community service projects  \n",
      "   - Elevated: Merged soccer & service; won state title; ran \"Cleats for Cleanups,\" sending 200+ recycled cleats abroad; shifted team into sustainability ambassadors  \n",
      "   - Position: Captain & Sustainability Lead  \n",
      "   - Organization: Rural High Varsity Soccer  \n",
      "   - Description: Linked athletics & advocacy; recycled 200+ cleats for youth globally; spearheaded team-led rural cleaning & eco-fundraisers for 5 schools.  \n",
      "\n",
      "   - Current: Tutored underprivileged students in math and science, developed curriculum for after-school program  \n",
      "   - Elevated: Co-created STEM accessibility program, serving 150+ students; built solar-powered learning hub used by 3 schools in under-resourced areas  \n",
      "   - Position: Co-Founder, STEM Access Advocate  \n",
      "   - Organization: Learn Bright Rural Enrichment   \n",
      "   - Description: Brought STEM to 150+ underserved students; designed solar-powered hubs; drafted free science kits adopted in 3 schools in low-income areas.  \n",
      "\n",
      "   - Current: Assisted professor in environmental impact study, analyzed data on renewable energy adoption in rural communities  \n",
      "   - Elevated: Published report on rural renewable energy; consulted 20+ farms; modeled a solar-water hybrid for drought resilience now part of 2 pilot programs  \n",
      "   - Position: Researcher & Model Creator  \n",
      "   - Organization: University Rural Renewable Energy Lab  \n",
      "   - Description: Designed solar-water hybrid; studied renewable adoption in farm towns; influenced policies on clean water tech seen in two pilot projects.  \n",
      "\n",
      "---\n",
      "\n",
      "2. **New Signature Activities:**\n",
      "\n",
      "   - Position: Founder, Sustainability Sports Network  \n",
      "   - Organization: Cleats & Conservation Initiative  \n",
      "   - Description: Merged sports & sustainability; installed DIY turf tech w/ recycled plastics in 3 schools; trained 50+ students in low-waste urban field models.  \n",
      "\n",
      "   - Position: Engineer-Organizer, \"Bright Heartland\" Rural Power  \n",
      "   - Organization: Bright Heartland Initiative  \n",
      "   - Description: Built DIY solar grids w/ youth farmers; led solar tech workshops w/ engineers impacting 500 people directly in un-electrified communities.  \n",
      "\n",
      "   - Position: Creator, Rural STEM-Access App  \n",
      "   - Organization: \"STEM On Your Farm\" Learning Tool   \n",
      "   - Description: Designed education app simplifying science; gamified lessons for 3k downloads; reached STEM access 20% more remote county w/ non-satellite opens.  \u001b[0m"
     ]
    },
    {
     "name": "stderr",
     "output_type": "stream",
     "text": [
      "INFO:httpx:HTTP Request: POST https://clabai3366454354.openai.azure.com/openai/deployments/gpt-4o/chat/completions?api-version=2024-02-01 \"HTTP/1.1 200 OK\"\n"
     ]
    },
    {
     "name": "stdout",
     "output_type": "stream",
     "text": [
      "\u001b[32;1m\u001b[1;3m\n",
      "Invoking: `generate_main_essay_ideas` with `{'user_profile': \"{'name': 'Sarah Johnson', 'gender': 'Female', 'birth_country': 'United States', 'cultural_background': ['American', 'first-generation college student', 'rural upbringing', 'STEM-focused', 'environmental advocate'], 'academic': {'gpa': '3.95', 'school_type': 'Public High School', 'test_scores': {'SAT': '1450', 'ACT': '32'}}, 'activities': [{'position': 'President', 'category': 'Academic', 'description': 'Led environmental science club, organized community clean-up events, coordinated with local government on sustainability initiatives'}, {'position': 'Team Captain', 'category': 'Athletics', 'description': 'Varsity soccer team captain, led team to state championship, organized team community service projects'}, {'position': 'Volunteer', 'category': 'Community Service', 'description': 'Tutored underprivileged students in math and science, developed curriculum for after-school program'}, {'position': 'Research Assistant', 'category': 'Research', 'description': 'Assisted professor in environmental impact study, analyzed data on renewable energy adoption in rural communities'}], 'future_plans': ['Study environmental engineering', 'Work on renewable energy solutions', 'Masters degree', 'Start a non-profit focused on rural sustainability']}\", 'narrative': '{\"title\": \"From Rural Soccer Fields to Renewable Energy Frontlines\", \"positioning\": \"A STEM-driven environmental advocate channels the grit of a soccer captain into revolutionizing rural sustainability.\", \"essay_concept\": \"Opening scene: A muddy soccer field surrounded by wind turbines → Personal connection: Balancing soccer captainship with leading clean-up events → Broader realization: Rural communities need sustainable solutions tailored to their challenges → Action: Conducting renewable energy adoption research for rural areas → Future vision: Advancing environmental engineering to bring self-sustaining energy to underrepresented regions.\", \"anchor_scene\": \"Under a gray sky, Sarah wipes dirt from her soccer cleats as the distant hum of a wind turbine fills the air. Her team huddles around her, preparing a recycled-themed fundraiser after practice. It hits her: rural potential is vast, but lacks accessible sustainability plans.\", \"unexpected_twist\": \"The link between her role as a soccer captain and her environmental mission sparks curiosity—how do team leadership and the rural backdrop converge into engineering innovation?\", \"signature_initiative\": { \"name\": \"Powering the Heartland\", \"description\": \"A community-driven program educating rural towns on scalable renewable energy solutions and providing mentorship to high schoolers interested in STEM.\" }, \"natural_major_fit\": [\"Environmental Engineering\", \"Sustainability Studies\", \"Renewable Energy Engineering\"]}', 'future_plan': 'Rural innovator merging engineering & leadership to design renewable energy hubs for underserved towns.', 'activity_result': '1. **Enhanced Version of Existing:**\\n   - Current: Led environmental science club, organized community clean-up events, coordinated with local government on sustainability initiatives  \\n   - Elevated: Launched youth-led \"Eco-Rural Initiative\"; hosted 10 clean-ups; advised county on waste-to-compost program; mentored 15+ future green leaders  \\n   - Position: Founder, Eco-Rural Initiative  \\n   - Organization: Green Futures Club  \\n   - Description: Founded initiative advising towns on waste-to-compost plans; scaled program to 3 counties & trained 15+ student sustainability advocates.  \\n\\n   - Current: Varsity soccer team captain, led team to state championship, organized team community service projects  \\n   - Elevated: Merged soccer & service; won state title; ran \"Cleats for Cleanups,\" sending 200+ recycled cleats abroad; shifted team into sustainability ambassadors  \\n   - Position: Captain & Sustainability Lead  \\n   - Organization: Rural High Varsity Soccer  \\n   - Description: Linked athletics & advocacy; recycled 200+ cleats for youth globally; spearheaded team-led rural cleaning & eco-fundraisers for 5 schools.  \\n\\n   - Current: Tutored underprivileged students in math and science, developed curriculum for after-school program  \\n   - Elevated: Co-created STEM accessibility program, serving 150+ students; built solar-powered learning hub used by 3 schools in under-resourced areas  \\n   - Position: Co-Founder, STEM Access Advocate  \\n   - Organization: Learn Bright Rural Enrichment   \\n   - Description: Brought STEM to 150+ underserved students; designed solar-powered hubs; drafted free science kits adopted in 3 schools in low-income areas.  \\n\\n   - Current: Assisted professor in environmental impact study, analyzed data on renewable energy adoption in rural communities  \\n   - Elevated: Published report on rural renewable energy; consulted 20+ farms; modeled a solar-water hybrid for drought resilience now part of 2 pilot programs  \\n   - Position: Researcher & Model Creator  \\n   - Organization: University Rural Renewable Energy Lab  \\n   - Description: Designed solar-water hybrid; studied renewable adoption in farm towns; influenced policies on clean water tech seen in two pilot projects.  \\n\\n---\\n\\n2. **New Signature Activities:**\\n\\n   - Position: Founder, Sustainability Sports Network  \\n   - Organization: Cleats & Conservation Initiative  \\n   - Description: Merged sports & sustainability; installed DIY turf tech w/ recycled plastics in 3 schools; trained 50+ students in low-waste urban field models.  \\n\\n   - Position: Engineer-Organizer, \"Bright Heartland\" Rural Power  \\n   - Organization: Bright Heartland Initiative  \\n   - Description: Built DIY solar grids w/ youth farmers; led solar tech workshops w/ engineers impacting 500 people directly in un-electrified communities.  \\n\\n   - Position: Creator, Rural STEM-Access App  \\n   - Organization: \"STEM On Your Farm\" Learning Tool   \\n   - Description: Designed education app simplifying science; gamified lessons for 3k downloads; reached STEM access 20% more remote county w/ non-satellite opens.'}`\n",
      "\n",
      "\n",
      "\u001b[0m"
     ]
    },
    {
     "ename": "ValidationError",
     "evalue": "1 validation error for MainEssayIdeasInput\nnarrative\n  Input should be a valid dictionary [type=dict_type, input_value='{\"title\": \"From Rural So...e Energy Engineering\"]}', input_type=str]\n    For further information visit https://errors.pydantic.dev/2.11/v/dict_type",
     "output_type": "error",
     "traceback": [
      "\u001b[1;31m---------------------------------------------------------------------------\u001b[0m",
      "\u001b[1;31mValidationError\u001b[0m                           Traceback (most recent call last)",
      "Cell \u001b[1;32mIn[46], line 1\u001b[0m\n\u001b[1;32m----> 1\u001b[0m resp \u001b[38;5;241m=\u001b[39m \u001b[43mexecutor\u001b[49m\u001b[38;5;241;43m.\u001b[39;49m\u001b[43minvoke\u001b[49m\u001b[43m(\u001b[49m\u001b[43m{\u001b[49m\n\u001b[0;32m      2\u001b[0m \u001b[43m    \u001b[49m\u001b[38;5;124;43m\"\u001b[39;49m\u001b[38;5;124;43minput\u001b[39;49m\u001b[38;5;124;43m\"\u001b[39;49m\u001b[43m:\u001b[49m\u001b[43m \u001b[49m\u001b[38;5;124;43m\"\u001b[39;49m\u001b[38;5;124;43mGenerate full admissions workflow for this student\u001b[39;49m\u001b[38;5;124;43m\"\u001b[39;49m\u001b[43m,\u001b[49m\n\u001b[0;32m      3\u001b[0m \u001b[43m    \u001b[49m\u001b[38;5;124;43m\"\u001b[39;49m\u001b[38;5;124;43muser_profile\u001b[39;49m\u001b[38;5;124;43m\"\u001b[39;49m\u001b[43m:\u001b[49m\u001b[43m \u001b[49m\u001b[43mDUMMY_USER_DATA\u001b[49m\u001b[43m   \u001b[49m\n\u001b[0;32m      4\u001b[0m \u001b[43m}\u001b[49m\u001b[43m)\u001b[49m\n\u001b[0;32m      5\u001b[0m \u001b[38;5;28mprint\u001b[39m(resp[\u001b[38;5;124m\"\u001b[39m\u001b[38;5;124moutput\u001b[39m\u001b[38;5;124m\"\u001b[39m])\n",
      "File \u001b[1;32mc:\\Users\\HOME\\AppData\\Local\\Programs\\Python\\Python311\\Lib\\site-packages\\langchain\\chains\\base.py:165\u001b[0m, in \u001b[0;36mChain.invoke\u001b[1;34m(self, input, config, **kwargs)\u001b[0m\n\u001b[0;32m    162\u001b[0m \u001b[38;5;28;01mtry\u001b[39;00m:\n\u001b[0;32m    163\u001b[0m     \u001b[38;5;28mself\u001b[39m\u001b[38;5;241m.\u001b[39m_validate_inputs(inputs)\n\u001b[0;32m    164\u001b[0m     outputs \u001b[38;5;241m=\u001b[39m (\n\u001b[1;32m--> 165\u001b[0m         \u001b[38;5;28;43mself\u001b[39;49m\u001b[38;5;241;43m.\u001b[39;49m\u001b[43m_call\u001b[49m\u001b[43m(\u001b[49m\u001b[43minputs\u001b[49m\u001b[43m,\u001b[49m\u001b[43m \u001b[49m\u001b[43mrun_manager\u001b[49m\u001b[38;5;241;43m=\u001b[39;49m\u001b[43mrun_manager\u001b[49m\u001b[43m)\u001b[49m\n\u001b[0;32m    166\u001b[0m         \u001b[38;5;28;01mif\u001b[39;00m new_arg_supported\n\u001b[0;32m    167\u001b[0m         \u001b[38;5;28;01melse\u001b[39;00m \u001b[38;5;28mself\u001b[39m\u001b[38;5;241m.\u001b[39m_call(inputs)\n\u001b[0;32m    168\u001b[0m     )\n\u001b[0;32m    170\u001b[0m     final_outputs: \u001b[38;5;28mdict\u001b[39m[\u001b[38;5;28mstr\u001b[39m, Any] \u001b[38;5;241m=\u001b[39m \u001b[38;5;28mself\u001b[39m\u001b[38;5;241m.\u001b[39mprep_outputs(\n\u001b[0;32m    171\u001b[0m         inputs,\n\u001b[0;32m    172\u001b[0m         outputs,\n\u001b[0;32m    173\u001b[0m         return_only_outputs,\n\u001b[0;32m    174\u001b[0m     )\n\u001b[0;32m    175\u001b[0m \u001b[38;5;28;01mexcept\u001b[39;00m \u001b[38;5;167;01mBaseException\u001b[39;00m \u001b[38;5;28;01mas\u001b[39;00m e:\n",
      "File \u001b[1;32mc:\\Users\\HOME\\AppData\\Local\\Programs\\Python\\Python311\\Lib\\site-packages\\langchain\\agents\\agent.py:1625\u001b[0m, in \u001b[0;36mAgentExecutor._call\u001b[1;34m(self, inputs, run_manager)\u001b[0m\n\u001b[0;32m   1623\u001b[0m \u001b[38;5;66;03m# We now enter the agent loop (until it returns something).\u001b[39;00m\n\u001b[0;32m   1624\u001b[0m \u001b[38;5;28;01mwhile\u001b[39;00m \u001b[38;5;28mself\u001b[39m\u001b[38;5;241m.\u001b[39m_should_continue(iterations, time_elapsed):\n\u001b[1;32m-> 1625\u001b[0m     next_step_output \u001b[38;5;241m=\u001b[39m \u001b[38;5;28;43mself\u001b[39;49m\u001b[38;5;241;43m.\u001b[39;49m\u001b[43m_take_next_step\u001b[49m\u001b[43m(\u001b[49m\n\u001b[0;32m   1626\u001b[0m \u001b[43m        \u001b[49m\u001b[43mname_to_tool_map\u001b[49m\u001b[43m,\u001b[49m\n\u001b[0;32m   1627\u001b[0m \u001b[43m        \u001b[49m\u001b[43mcolor_mapping\u001b[49m\u001b[43m,\u001b[49m\n\u001b[0;32m   1628\u001b[0m \u001b[43m        \u001b[49m\u001b[43minputs\u001b[49m\u001b[43m,\u001b[49m\n\u001b[0;32m   1629\u001b[0m \u001b[43m        \u001b[49m\u001b[43mintermediate_steps\u001b[49m\u001b[43m,\u001b[49m\n\u001b[0;32m   1630\u001b[0m \u001b[43m        \u001b[49m\u001b[43mrun_manager\u001b[49m\u001b[38;5;241;43m=\u001b[39;49m\u001b[43mrun_manager\u001b[49m\u001b[43m,\u001b[49m\n\u001b[0;32m   1631\u001b[0m \u001b[43m    \u001b[49m\u001b[43m)\u001b[49m\n\u001b[0;32m   1632\u001b[0m     \u001b[38;5;28;01mif\u001b[39;00m \u001b[38;5;28misinstance\u001b[39m(next_step_output, AgentFinish):\n\u001b[0;32m   1633\u001b[0m         \u001b[38;5;28;01mreturn\u001b[39;00m \u001b[38;5;28mself\u001b[39m\u001b[38;5;241m.\u001b[39m_return(\n\u001b[0;32m   1634\u001b[0m             next_step_output,\n\u001b[0;32m   1635\u001b[0m             intermediate_steps,\n\u001b[0;32m   1636\u001b[0m             run_manager\u001b[38;5;241m=\u001b[39mrun_manager,\n\u001b[0;32m   1637\u001b[0m         )\n",
      "File \u001b[1;32mc:\\Users\\HOME\\AppData\\Local\\Programs\\Python\\Python311\\Lib\\site-packages\\langchain\\agents\\agent.py:1325\u001b[0m, in \u001b[0;36mAgentExecutor._take_next_step\u001b[1;34m(self, name_to_tool_map, color_mapping, inputs, intermediate_steps, run_manager)\u001b[0m\n\u001b[0;32m   1316\u001b[0m \u001b[38;5;28;01mdef\u001b[39;00m \u001b[38;5;21m_take_next_step\u001b[39m(\n\u001b[0;32m   1317\u001b[0m     \u001b[38;5;28mself\u001b[39m,\n\u001b[0;32m   1318\u001b[0m     name_to_tool_map: \u001b[38;5;28mdict\u001b[39m[\u001b[38;5;28mstr\u001b[39m, BaseTool],\n\u001b[1;32m   (...)\u001b[0m\n\u001b[0;32m   1322\u001b[0m     run_manager: Optional[CallbackManagerForChainRun] \u001b[38;5;241m=\u001b[39m \u001b[38;5;28;01mNone\u001b[39;00m,\n\u001b[0;32m   1323\u001b[0m ) \u001b[38;5;241m-\u001b[39m\u001b[38;5;241m>\u001b[39m Union[AgentFinish, \u001b[38;5;28mlist\u001b[39m[\u001b[38;5;28mtuple\u001b[39m[AgentAction, \u001b[38;5;28mstr\u001b[39m]]]:\n\u001b[0;32m   1324\u001b[0m     \u001b[38;5;28;01mreturn\u001b[39;00m \u001b[38;5;28mself\u001b[39m\u001b[38;5;241m.\u001b[39m_consume_next_step(\n\u001b[1;32m-> 1325\u001b[0m         \u001b[38;5;28mlist\u001b[39m(\n\u001b[0;32m   1326\u001b[0m             \u001b[38;5;28mself\u001b[39m\u001b[38;5;241m.\u001b[39m_iter_next_step(\n\u001b[0;32m   1327\u001b[0m                 name_to_tool_map,\n\u001b[0;32m   1328\u001b[0m                 color_mapping,\n\u001b[0;32m   1329\u001b[0m                 inputs,\n\u001b[0;32m   1330\u001b[0m                 intermediate_steps,\n\u001b[0;32m   1331\u001b[0m                 run_manager,\n\u001b[0;32m   1332\u001b[0m             ),\n\u001b[0;32m   1333\u001b[0m         ),\n\u001b[0;32m   1334\u001b[0m     )\n",
      "File \u001b[1;32mc:\\Users\\HOME\\AppData\\Local\\Programs\\Python\\Python311\\Lib\\site-packages\\langchain\\agents\\agent.py:1408\u001b[0m, in \u001b[0;36mAgentExecutor._iter_next_step\u001b[1;34m(self, name_to_tool_map, color_mapping, inputs, intermediate_steps, run_manager)\u001b[0m\n\u001b[0;32m   1406\u001b[0m     \u001b[38;5;28;01myield\u001b[39;00m agent_action\n\u001b[0;32m   1407\u001b[0m \u001b[38;5;28;01mfor\u001b[39;00m agent_action \u001b[38;5;129;01min\u001b[39;00m actions:\n\u001b[1;32m-> 1408\u001b[0m     \u001b[38;5;28;01myield\u001b[39;00m \u001b[38;5;28;43mself\u001b[39;49m\u001b[38;5;241;43m.\u001b[39;49m\u001b[43m_perform_agent_action\u001b[49m\u001b[43m(\u001b[49m\n\u001b[0;32m   1409\u001b[0m \u001b[43m        \u001b[49m\u001b[43mname_to_tool_map\u001b[49m\u001b[43m,\u001b[49m\n\u001b[0;32m   1410\u001b[0m \u001b[43m        \u001b[49m\u001b[43mcolor_mapping\u001b[49m\u001b[43m,\u001b[49m\n\u001b[0;32m   1411\u001b[0m \u001b[43m        \u001b[49m\u001b[43magent_action\u001b[49m\u001b[43m,\u001b[49m\n\u001b[0;32m   1412\u001b[0m \u001b[43m        \u001b[49m\u001b[43mrun_manager\u001b[49m\u001b[43m,\u001b[49m\n\u001b[0;32m   1413\u001b[0m \u001b[43m    \u001b[49m\u001b[43m)\u001b[49m\n",
      "File \u001b[1;32mc:\\Users\\HOME\\AppData\\Local\\Programs\\Python\\Python311\\Lib\\site-packages\\langchain\\agents\\agent.py:1433\u001b[0m, in \u001b[0;36mAgentExecutor._perform_agent_action\u001b[1;34m(self, name_to_tool_map, color_mapping, agent_action, run_manager)\u001b[0m\n\u001b[0;32m   1431\u001b[0m         tool_run_kwargs[\u001b[38;5;124m\"\u001b[39m\u001b[38;5;124mllm_prefix\u001b[39m\u001b[38;5;124m\"\u001b[39m] \u001b[38;5;241m=\u001b[39m \u001b[38;5;124m\"\u001b[39m\u001b[38;5;124m\"\u001b[39m\n\u001b[0;32m   1432\u001b[0m     \u001b[38;5;66;03m# We then call the tool on the tool input to get an observation\u001b[39;00m\n\u001b[1;32m-> 1433\u001b[0m     observation \u001b[38;5;241m=\u001b[39m \u001b[43mtool\u001b[49m\u001b[38;5;241;43m.\u001b[39;49m\u001b[43mrun\u001b[49m\u001b[43m(\u001b[49m\n\u001b[0;32m   1434\u001b[0m \u001b[43m        \u001b[49m\u001b[43magent_action\u001b[49m\u001b[38;5;241;43m.\u001b[39;49m\u001b[43mtool_input\u001b[49m\u001b[43m,\u001b[49m\n\u001b[0;32m   1435\u001b[0m \u001b[43m        \u001b[49m\u001b[43mverbose\u001b[49m\u001b[38;5;241;43m=\u001b[39;49m\u001b[38;5;28;43mself\u001b[39;49m\u001b[38;5;241;43m.\u001b[39;49m\u001b[43mverbose\u001b[49m\u001b[43m,\u001b[49m\n\u001b[0;32m   1436\u001b[0m \u001b[43m        \u001b[49m\u001b[43mcolor\u001b[49m\u001b[38;5;241;43m=\u001b[39;49m\u001b[43mcolor\u001b[49m\u001b[43m,\u001b[49m\n\u001b[0;32m   1437\u001b[0m \u001b[43m        \u001b[49m\u001b[43mcallbacks\u001b[49m\u001b[38;5;241;43m=\u001b[39;49m\u001b[43mrun_manager\u001b[49m\u001b[38;5;241;43m.\u001b[39;49m\u001b[43mget_child\u001b[49m\u001b[43m(\u001b[49m\u001b[43m)\u001b[49m\u001b[43m \u001b[49m\u001b[38;5;28;43;01mif\u001b[39;49;00m\u001b[43m \u001b[49m\u001b[43mrun_manager\u001b[49m\u001b[43m \u001b[49m\u001b[38;5;28;43;01melse\u001b[39;49;00m\u001b[43m \u001b[49m\u001b[38;5;28;43;01mNone\u001b[39;49;00m\u001b[43m,\u001b[49m\n\u001b[0;32m   1438\u001b[0m \u001b[43m        \u001b[49m\u001b[38;5;241;43m*\u001b[39;49m\u001b[38;5;241;43m*\u001b[39;49m\u001b[43mtool_run_kwargs\u001b[49m\u001b[43m,\u001b[49m\n\u001b[0;32m   1439\u001b[0m \u001b[43m    \u001b[49m\u001b[43m)\u001b[49m\n\u001b[0;32m   1440\u001b[0m \u001b[38;5;28;01melse\u001b[39;00m:\n\u001b[0;32m   1441\u001b[0m     tool_run_kwargs \u001b[38;5;241m=\u001b[39m \u001b[38;5;28mself\u001b[39m\u001b[38;5;241m.\u001b[39m_action_agent\u001b[38;5;241m.\u001b[39mtool_run_logging_kwargs()\n",
      "File \u001b[1;32mc:\\Users\\HOME\\AppData\\Local\\Programs\\Python\\Python311\\Lib\\site-packages\\langchain_core\\tools\\base.py:888\u001b[0m, in \u001b[0;36mBaseTool.run\u001b[1;34m(self, tool_input, verbose, start_color, color, callbacks, tags, metadata, run_name, run_id, config, tool_call_id, **kwargs)\u001b[0m\n\u001b[0;32m    886\u001b[0m \u001b[38;5;28;01mif\u001b[39;00m error_to_raise:\n\u001b[0;32m    887\u001b[0m     run_manager\u001b[38;5;241m.\u001b[39mon_tool_error(error_to_raise)\n\u001b[1;32m--> 888\u001b[0m     \u001b[38;5;28;01mraise\u001b[39;00m error_to_raise\n\u001b[0;32m    889\u001b[0m output \u001b[38;5;241m=\u001b[39m _format_output(content, artifact, tool_call_id, \u001b[38;5;28mself\u001b[39m\u001b[38;5;241m.\u001b[39mname, status)\n\u001b[0;32m    890\u001b[0m run_manager\u001b[38;5;241m.\u001b[39mon_tool_end(output, color\u001b[38;5;241m=\u001b[39mcolor, name\u001b[38;5;241m=\u001b[39m\u001b[38;5;28mself\u001b[39m\u001b[38;5;241m.\u001b[39mname, \u001b[38;5;241m*\u001b[39m\u001b[38;5;241m*\u001b[39mkwargs)\n",
      "File \u001b[1;32mc:\\Users\\HOME\\AppData\\Local\\Programs\\Python\\Python311\\Lib\\site-packages\\langchain_core\\tools\\base.py:850\u001b[0m, in \u001b[0;36mBaseTool.run\u001b[1;34m(self, tool_input, verbose, start_color, color, callbacks, tags, metadata, run_name, run_id, config, tool_call_id, **kwargs)\u001b[0m\n\u001b[0;32m    848\u001b[0m child_config \u001b[38;5;241m=\u001b[39m patch_config(config, callbacks\u001b[38;5;241m=\u001b[39mrun_manager\u001b[38;5;241m.\u001b[39mget_child())\n\u001b[0;32m    849\u001b[0m \u001b[38;5;28;01mwith\u001b[39;00m set_config_context(child_config) \u001b[38;5;28;01mas\u001b[39;00m context:\n\u001b[1;32m--> 850\u001b[0m     tool_args, tool_kwargs \u001b[38;5;241m=\u001b[39m \u001b[38;5;28;43mself\u001b[39;49m\u001b[38;5;241;43m.\u001b[39;49m\u001b[43m_to_args_and_kwargs\u001b[49m\u001b[43m(\u001b[49m\n\u001b[0;32m    851\u001b[0m \u001b[43m        \u001b[49m\u001b[43mtool_input\u001b[49m\u001b[43m,\u001b[49m\u001b[43m \u001b[49m\u001b[43mtool_call_id\u001b[49m\n\u001b[0;32m    852\u001b[0m \u001b[43m    \u001b[49m\u001b[43m)\u001b[49m\n\u001b[0;32m    853\u001b[0m     \u001b[38;5;28;01mif\u001b[39;00m signature(\u001b[38;5;28mself\u001b[39m\u001b[38;5;241m.\u001b[39m_run)\u001b[38;5;241m.\u001b[39mparameters\u001b[38;5;241m.\u001b[39mget(\u001b[38;5;124m\"\u001b[39m\u001b[38;5;124mrun_manager\u001b[39m\u001b[38;5;124m\"\u001b[39m):\n\u001b[0;32m    854\u001b[0m         tool_kwargs \u001b[38;5;241m|\u001b[39m\u001b[38;5;241m=\u001b[39m {\u001b[38;5;124m\"\u001b[39m\u001b[38;5;124mrun_manager\u001b[39m\u001b[38;5;124m\"\u001b[39m: run_manager}\n",
      "File \u001b[1;32mc:\\Users\\HOME\\AppData\\Local\\Programs\\Python\\Python311\\Lib\\site-packages\\langchain_core\\tools\\base.py:765\u001b[0m, in \u001b[0;36mBaseTool._to_args_and_kwargs\u001b[1;34m(self, tool_input, tool_call_id)\u001b[0m\n\u001b[0;32m    757\u001b[0m \u001b[38;5;28;01mif\u001b[39;00m (\n\u001b[0;32m    758\u001b[0m     \u001b[38;5;28mself\u001b[39m\u001b[38;5;241m.\u001b[39margs_schema \u001b[38;5;129;01mis\u001b[39;00m \u001b[38;5;129;01mnot\u001b[39;00m \u001b[38;5;28;01mNone\u001b[39;00m\n\u001b[0;32m    759\u001b[0m     \u001b[38;5;129;01mand\u001b[39;00m \u001b[38;5;28misinstance\u001b[39m(\u001b[38;5;28mself\u001b[39m\u001b[38;5;241m.\u001b[39margs_schema, \u001b[38;5;28mtype\u001b[39m)\n\u001b[1;32m   (...)\u001b[0m\n\u001b[0;32m    762\u001b[0m ):\n\u001b[0;32m    763\u001b[0m     \u001b[38;5;66;03m# StructuredTool with no args\u001b[39;00m\n\u001b[0;32m    764\u001b[0m     \u001b[38;5;28;01mreturn\u001b[39;00m (), {}\n\u001b[1;32m--> 765\u001b[0m tool_input \u001b[38;5;241m=\u001b[39m \u001b[38;5;28;43mself\u001b[39;49m\u001b[38;5;241;43m.\u001b[39;49m\u001b[43m_parse_input\u001b[49m\u001b[43m(\u001b[49m\u001b[43mtool_input\u001b[49m\u001b[43m,\u001b[49m\u001b[43m \u001b[49m\u001b[43mtool_call_id\u001b[49m\u001b[43m)\u001b[49m\n\u001b[0;32m    766\u001b[0m \u001b[38;5;66;03m# For backwards compatibility, if run_input is a string,\u001b[39;00m\n\u001b[0;32m    767\u001b[0m \u001b[38;5;66;03m# pass as a positional argument.\u001b[39;00m\n\u001b[0;32m    768\u001b[0m \u001b[38;5;28;01mif\u001b[39;00m \u001b[38;5;28misinstance\u001b[39m(tool_input, \u001b[38;5;28mstr\u001b[39m):\n",
      "File \u001b[1;32mc:\\Users\\HOME\\AppData\\Local\\Programs\\Python\\Python311\\Lib\\site-packages\\langchain_core\\tools\\base.py:672\u001b[0m, in \u001b[0;36mBaseTool._parse_input\u001b[1;34m(self, tool_input, tool_call_id)\u001b[0m\n\u001b[0;32m    670\u001b[0m                 \u001b[38;5;28;01mraise\u001b[39;00m \u001b[38;5;167;01mValueError\u001b[39;00m(msg)\n\u001b[0;32m    671\u001b[0m             tool_input[k] \u001b[38;5;241m=\u001b[39m tool_call_id\n\u001b[1;32m--> 672\u001b[0m     result \u001b[38;5;241m=\u001b[39m \u001b[43minput_args\u001b[49m\u001b[38;5;241;43m.\u001b[39;49m\u001b[43mmodel_validate\u001b[49m\u001b[43m(\u001b[49m\u001b[43mtool_input\u001b[49m\u001b[43m)\u001b[49m\n\u001b[0;32m    673\u001b[0m     result_dict \u001b[38;5;241m=\u001b[39m result\u001b[38;5;241m.\u001b[39mmodel_dump()\n\u001b[0;32m    674\u001b[0m \u001b[38;5;28;01melif\u001b[39;00m \u001b[38;5;28missubclass\u001b[39m(input_args, BaseModelV1):\n",
      "File \u001b[1;32mc:\\Users\\HOME\\AppData\\Local\\Programs\\Python\\Python311\\Lib\\site-packages\\pydantic\\main.py:705\u001b[0m, in \u001b[0;36mBaseModel.model_validate\u001b[1;34m(cls, obj, strict, from_attributes, context, by_alias, by_name)\u001b[0m\n\u001b[0;32m    699\u001b[0m \u001b[38;5;28;01mif\u001b[39;00m by_alias \u001b[38;5;129;01mis\u001b[39;00m \u001b[38;5;28;01mFalse\u001b[39;00m \u001b[38;5;129;01mand\u001b[39;00m by_name \u001b[38;5;129;01mis\u001b[39;00m \u001b[38;5;129;01mnot\u001b[39;00m \u001b[38;5;28;01mTrue\u001b[39;00m:\n\u001b[0;32m    700\u001b[0m     \u001b[38;5;28;01mraise\u001b[39;00m PydanticUserError(\n\u001b[0;32m    701\u001b[0m         \u001b[38;5;124m'\u001b[39m\u001b[38;5;124mAt least one of `by_alias` or `by_name` must be set to True.\u001b[39m\u001b[38;5;124m'\u001b[39m,\n\u001b[0;32m    702\u001b[0m         code\u001b[38;5;241m=\u001b[39m\u001b[38;5;124m'\u001b[39m\u001b[38;5;124mvalidate-by-alias-and-name-false\u001b[39m\u001b[38;5;124m'\u001b[39m,\n\u001b[0;32m    703\u001b[0m     )\n\u001b[1;32m--> 705\u001b[0m \u001b[38;5;28;01mreturn\u001b[39;00m \u001b[38;5;28;43mcls\u001b[39;49m\u001b[38;5;241;43m.\u001b[39;49m\u001b[43m__pydantic_validator__\u001b[49m\u001b[38;5;241;43m.\u001b[39;49m\u001b[43mvalidate_python\u001b[49m\u001b[43m(\u001b[49m\n\u001b[0;32m    706\u001b[0m \u001b[43m    \u001b[49m\u001b[43mobj\u001b[49m\u001b[43m,\u001b[49m\u001b[43m \u001b[49m\u001b[43mstrict\u001b[49m\u001b[38;5;241;43m=\u001b[39;49m\u001b[43mstrict\u001b[49m\u001b[43m,\u001b[49m\u001b[43m \u001b[49m\u001b[43mfrom_attributes\u001b[49m\u001b[38;5;241;43m=\u001b[39;49m\u001b[43mfrom_attributes\u001b[49m\u001b[43m,\u001b[49m\u001b[43m \u001b[49m\u001b[43mcontext\u001b[49m\u001b[38;5;241;43m=\u001b[39;49m\u001b[43mcontext\u001b[49m\u001b[43m,\u001b[49m\u001b[43m \u001b[49m\u001b[43mby_alias\u001b[49m\u001b[38;5;241;43m=\u001b[39;49m\u001b[43mby_alias\u001b[49m\u001b[43m,\u001b[49m\u001b[43m \u001b[49m\u001b[43mby_name\u001b[49m\u001b[38;5;241;43m=\u001b[39;49m\u001b[43mby_name\u001b[49m\n\u001b[0;32m    707\u001b[0m \u001b[43m\u001b[49m\u001b[43m)\u001b[49m\n",
      "\u001b[1;31mValidationError\u001b[0m: 1 validation error for MainEssayIdeasInput\nnarrative\n  Input should be a valid dictionary [type=dict_type, input_value='{\"title\": \"From Rural So...e Energy Engineering\"]}', input_type=str]\n    For further information visit https://errors.pydantic.dev/2.11/v/dict_type"
     ]
    }
   ],
   "source": [
    "resp = executor.invoke({\n",
    "    \"input\": \"Generate full admissions workflow for this student\",\n",
    "    \"user_profile\": DUMMY_USER_DATA   \n",
    "})\n",
    "print(resp[\"output\"])"
   ]
  },
  {
   "cell_type": "code",
   "execution_count": 24,
   "metadata": {},
   "outputs": [
    {
     "name": "stdout",
     "output_type": "stream",
     "text": [
      "\n",
      "\n",
      "\u001b[1m> Entering new AgentExecutor chain...\u001b[0m\n"
     ]
    },
    {
     "name": "stderr",
     "output_type": "stream",
     "text": [
      "INFO:httpx:HTTP Request: POST https://clabai3366454354.openai.azure.com/openai/deployments/gpt-4o/chat/completions?api-version=2024-02-01 \"HTTP/1.1 200 OK\"\n"
     ]
    },
    {
     "name": "stdout",
     "output_type": "stream",
     "text": [
      "\u001b[32;1m\u001b[1;3m\n",
      "Invoking: `generate_narrative_angles` with `{'user_profile': \"{'name': 'Sarah Johnson', 'gender': 'Female', 'birth_country': 'United States', 'cultural_background': ['American', 'first-generation college student', 'rural upbringing', 'STEM-focused', 'environmental advocate'], 'academic': {'gpa': '3.95', 'school_type': 'Public High School', 'test_scores': {'SAT': '1450', 'ACT': '32'}}, 'activities': [{'position': 'President', 'category': 'Academic', 'description': 'Led environmental science club, organized community clean-up events, coordinated with local government on sustainability initiatives'}, {'position': 'Team Captain', 'category': 'Athletics', 'description': 'Varsity soccer team captain, led team to state championship, organized team community service projects'}, {'position': 'Volunteer', 'category': 'Community Service', 'description': 'Tutored underprivileged students in math and science, developed curriculum for after-school program'}, {'position': 'Research Assistant', 'category': 'Research', 'description': 'Assisted professor in environmental impact study, analyzed data on renewable energy adoption in rural communities'}], 'future_plans': ['Study environmental engineering', 'Work on renewable energy solutions', 'Masters degree', 'Start a non-profit focused on rural sustainability']}\"}`\n",
      "\n",
      "\n",
      "\u001b[0m"
     ]
    },
    {
     "name": "stderr",
     "output_type": "stream",
     "text": [
      "INFO:httpx:HTTP Request: POST https://clabai3366454354.openai.azure.com/openai/deployments/gpt-4o/chat/completions?api-version=2024-02-01 \"HTTP/1.1 200 OK\"\n"
     ]
    },
    {
     "name": "stdout",
     "output_type": "stream",
     "text": [
      "\u001b[36;1m\u001b[1;3m{'narrative_angles': [{'title': \"From Soccer Fields to Solar Fields: A Rural Advocate's STEM Journey\", 'positioning': 'How does a varsity athlete become a future pioneer of rural renewable energy solutions?', 'essay_concept': 'Opening on the sweeping beauty of her rural hometown → Connection to her childhood admiration for nature and community soccer life → Realization that environmental challenges threaten rural vitality → Action through environmental advocacy and clean-up projects → Vision to create sustainable solutions combining STEM and community values.', 'anchor_scene': 'The warmth of sunset painting the soccer field as Sarah rallies her team for a community clean-up project; laughter merges with the sound of garbage bags rustling, and the crystal-clear air reminds her why protecting rural spaces feels urgent and personal.', 'unexpected_twist': 'The juxtaposition of a soccer captain leading sustainable initiatives positions Sarah’s athletic team as a surprising vehicle for environmental action.', 'signature_initiative': {'name': 'Rural Roots Renewable Initiative', 'description': 'A program that empowers rural youth to develop renewable energy projects for their communities, blending free workshops with local government partnerships.'}, 'natural_major_fit': ['Environmental Engineering', 'Sustainable Energy Studies', 'Community and Regional Planning']}, {'title': \"Bridging STEM and Equity: A First-Generation Student's Mission for Impact\", 'positioning': \"How does growing up in a rural community shape a first-generation student's mission to redefine STEM education?\", 'essay_concept': 'Opening with Sarah tutoring a struggling student after school → Connection to her own challenges balancing a rural upbringing and high academic aspirations → Broader realization of disparities in STEM access → Action through creating curriculum and tutoring programs in underserved areas → Future vision to leverage STEM for environmental and educational equity.', 'anchor_scene': 'Sarah watches a shy student finally solve a tough math problem, his smile lighting up the dim room of the after-school program; the sound of chalk against the blackboard reminds her of the barriers young learners face without proper resources.', 'unexpected_twist': 'The intimate connection between STEM advocacy for underserved students and environmental problem-solving links two seemingly disparate passions into a unified mission.', 'signature_initiative': {'name': 'STEM Equity for Sustainability Program', 'description': 'A nonprofit blending environmental impact projects with rural STEM workshops, ensuring accessible education while addressing community-specific environmental challenges.'}, 'natural_major_fit': ['Environmental Engineering', 'Education Policy', 'Applied Mathematics']}, {'title': \"Grassroots Sustainability: A Rural Student's Vision for Change\", 'positioning': 'How does a first-generation student turn local sustainability issues into a global mission?', 'essay_concept': 'Opening with Sarah analyzing data during her research assistantship → Connection to the environmental hurdles she witnessed as a child growing up in a rural community → Broader realization of systemic gaps in renewable energy adoption → Action through local clean-up events and policy advocacy with local government → Vision to apply engineering knowledge globally for rural sustainability.', 'anchor_scene': 'The hum of laboratory equipment fills the air as Sarah pores over tables of data; her mind drifts to images of uncollected trash and energy-intensive farming in her town that sparked her drive for rural sustainability.', 'unexpected_twist': 'Combining academic research in renewable energy with firsthand community grassroots action delivers a rare perspective rooted in rural lived experience.', 'signature_initiative': {'name': 'Rural Energy Revitalization Project', 'description': 'A research and advocacy program collaborating with rural towns to develop renewable energy and waste management initiatives using STEM innovations.'}, 'natural_major_fit': ['Environmental Engineering', 'Renewable Energy Science', 'Public Policy']}, {'title': 'Community Soccer as Catalyst for Rural Sustainability Leadership', 'positioning': 'How does captaining a soccer team prepare a first-generation student to solve rural environmental challenges?', 'essay_concept': 'Opening on the shared joy of a soccer win → Connection to team-led community service projects inspired by Sarah’s environmental club → Realization of the potential for cooperative action to drive environmental change → Action by blending teamwork principles into rural clean-up events and sustainability efforts → Vision to create collaborative solutions for renewable energy adoption.', 'anchor_scene': \"Cheers erupt around the soccer field as Sarah lifts the trophy; amidst her teammates' joy, she remembers how a conversation on the bus sparked the idea of uniting their team for a local stream clean-up campaign that became her defining leadership moment.\", 'unexpected_twist': 'The idea of teamwork dynamics fueling environmental leadership showcases Sarah’s ability to inspire collaborative action in unconventional ways.', 'signature_initiative': {'name': 'Team-Up for Sustainability', 'description': 'An initiative where sports teams across rural areas collaborate on clean-up drives, energy awareness campaigns, and environmental leadership workshops.'}, 'natural_major_fit': ['Environmental Studies', 'Leadership and Management', 'Energy Systems Engineering']}, {'title': 'The Data-Driven Environmental Advocate: Harnessing STEM for Rural Solutions', 'positioning': 'How does analyzing rural renewable energy adoption data inspire tangible environmental action?', 'essay_concept': 'Opening on Sarah immersed in coding as part of her research assistantship → Connection to the environmental challenges she saw growing up in her rural town → Broader realization of the systemic gaps between data insights and community action → Action by shifting focus from analysis to hands-on rural projects → Vision to scale technologies that bridge this gap worldwide.', 'anchor_scene': 'The screen flickers as Sarah visualizes her data findings on renewable energy adoption; her mind races to childhood memories of scrap-paper brainstorming sessions where she dreamed of solving her town’s power shortages.', 'unexpected_twist': 'Fusing data analysis with boots-on-the-ground environmental action flips the stereotype of purely academic research into a proactive and applied mission.', 'signature_initiative': {'name': 'Data-to-Action Renewable Futures', 'description': 'A program that transforms rural renewable energy research into actionable projects, empowering communities to adopt sustainable practices using accessible technologies.'}, 'natural_major_fit': ['Data Science', 'Environmental Engineering', 'Renewable Energy Policy']}]}\u001b[0m"
     ]
    },
    {
     "name": "stderr",
     "output_type": "stream",
     "text": [
      "INFO:httpx:HTTP Request: POST https://clabai3366454354.openai.azure.com/openai/deployments/gpt-4o/chat/completions?api-version=2024-02-01 \"HTTP/1.1 200 OK\"\n"
     ]
    },
    {
     "name": "stdout",
     "output_type": "stream",
     "text": [
      "\u001b[32;1m\u001b[1;3m\n",
      "Invoking: `generate_future_plan` with `{'user_profile': \"{'name': 'Sarah Johnson', 'gender': 'Female', 'birth_country': 'United States', 'cultural_background': ['American', 'first-generation college student', 'rural upbringing', 'STEM-focused', 'environmental advocate'], 'academic': {'gpa': '3.95', 'school_type': 'Public High School', 'test_scores': {'SAT': '1450', 'ACT': '32'}}, 'activities': [{'position': 'President', 'category': 'Academic', 'description': 'Led environmental science club, organized community clean-up events, coordinated with local government on sustainability initiatives'}, {'position': 'Team Captain', 'category': 'Athletics', 'description': 'Varsity soccer team captain, led team to state championship, organized team community service projects'}, {'position': 'Volunteer', 'category': 'Community Service', 'description': 'Tutored underprivileged students in math and science, developed curriculum for after-school program'}, {'position': 'Research Assistant', 'category': 'Research', 'description': 'Assisted professor in environmental impact study, analyzed data on renewable energy adoption in rural communities'}], 'future_plans': ['Study environmental engineering', 'Work on renewable energy solutions', 'Masters degree', 'Start a non-profit focused on rural sustainability']}\", 'narrative': '{\"title\": \"From Soccer Fields to Solar Fields: A Rural Advocate\\'s STEM Journey\", \"positioning\": \"How does a varsity athlete become a future pioneer of rural renewable energy solutions?\", \"essay_concept\": \"Opening on the sweeping beauty of her rural hometown → Connection to her childhood admiration for nature and community soccer life → Realization that environmental challenges threaten rural vitality → Action through environmental advocacy and clean-up projects → Vision to create sustainable solutions combining STEM and community values.\", \"anchor_scene\": \"The warmth of sunset painting the soccer field as Sarah rallies her team for a community clean-up project; laughter merges with the sound of garbage bags rustling, and the crystal-clear air reminds her why protecting rural spaces feels urgent and personal.\", \"unexpected_twist\": \"The juxtaposition of a soccer captain leading sustainable initiatives positions Sarah’s athletic team as a surprising vehicle for environmental action.\", \"signature_initiative\": {\"name\": \"Rural Roots Renewable Initiative\", \"description\": \"A program that empowers rural youth to develop renewable energy projects for their communities, blending free workshops with local government partnerships.\"}, \"natural_major_fit\": [\"Environmental Engineering\", \"Sustainable Energy Studies\", \"Community and Regional Planning\"]}'}`\n",
      "\n",
      "\n",
      "\u001b[0m"
     ]
    },
    {
     "name": "stderr",
     "output_type": "stream",
     "text": [
      "INFO:httpx:HTTP Request: POST https://clabai3366454354.openai.azure.com/openai/deployments/gpt-4o/chat/completions?api-version=2024-02-01 \"HTTP/1.1 200 OK\"\n"
     ]
    },
    {
     "name": "stdout",
     "output_type": "stream",
     "text": [
      "\u001b[33;1m\u001b[1;3mEnvironmental engineer empowering rural youth to lead renewable energy transformations in their towns.\u001b[0m"
     ]
    },
    {
     "name": "stderr",
     "output_type": "stream",
     "text": [
      "INFO:httpx:HTTP Request: POST https://clabai3366454354.openai.azure.com/openai/deployments/gpt-4o/chat/completions?api-version=2024-02-01 \"HTTP/1.1 200 OK\"\n"
     ]
    },
    {
     "name": "stdout",
     "output_type": "stream",
     "text": [
      "\u001b[32;1m\u001b[1;3m\n",
      "Invoking: `generate_activity_list` with `{'user_profile': \"{'name': 'Sarah Johnson', 'gender': 'Female', 'birth_country': 'United States', 'cultural_background': ['American', 'first-generation college student', 'rural upbringing', 'STEM-focused', 'environmental advocate'], 'academic': {'gpa': '3.95', 'school_type': 'Public High School', 'test_scores': {'SAT': '1450', 'ACT': '32'}}, 'activities': [{'position': 'President', 'category': 'Academic', 'description': 'Led environmental science club, organized community clean-up events, coordinated with local government on sustainability initiatives'}, {'position': 'Team Captain', 'category': 'Athletics', 'description': 'Varsity soccer team captain, led team to state championship, organized team community service projects'}, {'position': 'Volunteer', 'category': 'Community Service', 'description': 'Tutored underprivileged students in math and science, developed curriculum for after-school program'}, {'position': 'Research Assistant', 'category': 'Research', 'description': 'Assisted professor in environmental impact study, analyzed data on renewable energy adoption in rural communities'}], 'future_plans': ['Study environmental engineering', 'Work on renewable energy solutions', 'Masters degree', 'Start a non-profit focused on rural sustainability']}\", 'narrative': '{\"title\": \"From Soccer Fields to Solar Fields: A Rural Advocate\\'s STEM Journey\", \"positioning\": \"How does a varsity athlete become a future pioneer of rural renewable energy solutions?\", \"essay_concept\": \"Opening on the sweeping beauty of her rural hometown → Connection to her childhood admiration for nature and community soccer life → Realization that environmental challenges threaten rural vitality → Action through environmental advocacy and clean-up projects → Vision to create sustainable solutions combining STEM and community values.\", \"anchor_scene\": \"The warmth of sunset painting the soccer field as Sarah rallies her team for a community clean-up project; laughter merges with the sound of garbage bags rustling, and the crystal-clear air reminds her why protecting rural spaces feels urgent and personal.\", \"unexpected_twist\": \"The juxtaposition of a soccer captain leading sustainable initiatives positions Sarah’s athletic team as a surprising vehicle for environmental action.\", \"signature_initiative\": {\"name\": \"Rural Roots Renewable Initiative\", \"description\": \"A program that empowers rural youth to develop renewable energy projects for their communities, blending free workshops with local government partnerships.\"}, \"natural_major_fit\": [\"Environmental Engineering\", \"Sustainable Energy Studies\", \"Community and Regional Planning\"]}', 'future_plan': 'Environmental engineer empowering rural youth to lead renewable energy transformations in their towns.'}`\n",
      "\n",
      "\n",
      "\u001b[0m"
     ]
    },
    {
     "name": "stderr",
     "output_type": "stream",
     "text": [
      "INFO:httpx:HTTP Request: POST https://clabai3366454354.openai.azure.com/openai/deployments/gpt-4o/chat/completions?api-version=2024-02-01 \"HTTP/1.1 200 OK\"\n"
     ]
    },
    {
     "name": "stdout",
     "output_type": "stream",
     "text": [
      "\u001b[38;5;200m\u001b[1;3m**Enhanced Version of Existing:**\n",
      "\n",
      "1. **Current:** Led environmental science club, organized community clean-up events, coordinated with local government on sustainability initiatives  \n",
      "   **Elevated:** Led STEM workshops linking rural students to local sustainability efforts, co-designed solar-powered irrigation pilot with officials  \n",
      "   **Position:** Environmental Innovator & Club President  \n",
      "   **Organization:** Green Revival Youth Initiative  \n",
      "   **Description:** Built coalition w/ officials; launched solar irrigation in rural farms; empowered 85 students w/ STEM project workshops.  \n",
      "\n",
      "2. **Current:** Varsity soccer team captain, led team to state championship, organized team community service projects  \n",
      "   **Elevated:** Pioneered “Eco Sports” concept blending athletics/community cleanup; team influential in banning single-use plastics at stadium  \n",
      "   **Position:** Eco-Athlete & Team Leader  \n",
      "   **Organization:** Clean Athletic Outreach Alliance  \n",
      "   **Description:** Led team to state win; banned single-use plastics at games; linked sports w/ clean-up drives benefitting 2,500+ stadium-goers.  \n",
      "\n",
      "3. **Current:** Tutored underprivileged students in math and science, developed curriculum for after-school program  \n",
      "   **Elevated:** Designed recyclable energy models for youth STEM curriculum; mentorship spurred 10+ students to win regional science competitions  \n",
      "   **Position:** STEM Mentor & Rural Curriculum Designer  \n",
      "   **Organization:** Empower Rural Scientists Initiative  \n",
      "   **Description:** Created climate STEM kits; led 65 youth via hands-on solar/wind challenges; helped rural peers secure science fair success.  \n",
      "\n",
      "4. **Current:** Assisted professor in environmental impact study, analyzed data on renewable energy adoption in rural communities  \n",
      "   **Elevated:** Led data analytics on rural solar policies; field interviews bridged gaps; findings prompted a small-town renewable subsidy reform  \n",
      "   **Position:** Community Energy Policy Analyst  \n",
      "   **Organization:** Renewable Progress Evaluation Institute  \n",
      "   **Description:** Synthesized rural voices; impact study pushed town-recommended green subsidies; contributed actionable policy steps in 3 counties.  \n",
      "\n",
      "---\n",
      "\n",
      "**Three New Signature Activities:**\n",
      "\n",
      "1. **Position:** Founder, Solar Soccer Saturdays  \n",
      "   **Organization:** Youth Play & Solar Awareness Collective  \n",
      "   **Description:** Blended solar STEM education w/ soccer for 120+ rural kids; built solar charging station prototypes w/ game-prized workshops.  \n",
      "\n",
      "2. **Position:** Youth Podcast Host & Climate Storyteller  \n",
      "   **Organization:** Voices of Rural Hope Initiative  \n",
      "   **Description:** Created podcast elevating rural climate stories; 25+ episodes inspired local officials to pass eco-local zoning policies.  \n",
      "\n",
      "3. **Position:** Designer, Mobile Renewable Energy Classroom  \n",
      "   **Organization:** Bright Futures on the Move  \n",
      "   **Description:** Transformed van into energy ed lab; toured 18 towns w/ hands-on solar/wind workshops; engaged 500+ rural youth on clean energy.  \u001b[0m"
     ]
    },
    {
     "name": "stderr",
     "output_type": "stream",
     "text": [
      "INFO:httpx:HTTP Request: POST https://clabai3366454354.openai.azure.com/openai/deployments/gpt-4o/chat/completions?api-version=2024-02-01 \"HTTP/1.1 200 OK\"\n"
     ]
    },
    {
     "name": "stdout",
     "output_type": "stream",
     "text": [
      "\u001b[32;1m\u001b[1;3m\n",
      "Invoking: `generate_main_essay_ideas` with `{'user_profile': \"{'name': 'Sarah Johnson', 'gender': 'Female', 'birth_country': 'United States', 'cultural_background': ['American', 'first-generation college student', 'rural upbringing', 'STEM-focused', 'environmental advocate'], 'academic': {'gpa': '3.95', 'school_type': 'Public High School', 'test_scores': {'SAT': '1450', 'ACT': '32'}}, 'activities': [{'position': 'President', 'category': 'Academic', 'description': 'Led environmental science club, organized community clean-up events, coordinated with local government on sustainability initiatives'}, {'position': 'Team Captain', 'category': 'Athletics', 'description': 'Varsity soccer team captain, led team to state championship, organized team community service projects'}, {'position': 'Volunteer', 'category': 'Community Service', 'description': 'Tutored underprivileged students in math and science, developed curriculum for after-school program'}, {'position': 'Research Assistant', 'category': 'Research', 'description': 'Assisted professor in environmental impact study, analyzed data on renewable energy adoption in rural communities'}], 'future_plans': ['Study environmental engineering', 'Work on renewable energy solutions', 'Masters degree', 'Start a non-profit focused on rural sustainability']}\", 'narrative': '{\"title\": \"From Soccer Fields to Solar Fields: A Rural Advocate\\'s STEM Journey\", \"positioning\": \"How does a varsity athlete become a future pioneer of rural renewable energy solutions?\", \"essay_concept\": \"Opening on the sweeping beauty of her rural hometown → Connection to her childhood admiration for nature and community soccer life → Realization that environmental challenges threaten rural vitality → Action through environmental advocacy and clean-up projects → Vision to create sustainable solutions combining STEM and community values.\", \"anchor_scene\": \"The warmth of sunset painting the soccer field as Sarah rallies her team for a community clean-up project; laughter merges with the sound of garbage bags rustling, and the crystal-clear air reminds her why protecting rural spaces feels urgent and personal.\", \"unexpected_twist\": \"The juxtaposition of a soccer captain leading sustainable initiatives positions Sarah’s athletic team as a surprising vehicle for environmental action.\", \"signature_initiative\": {\"name\": \"Rural Roots Renewable Initiative\", \"description\": \"A program that empowers rural youth to develop renewable energy projects for their communities, blending free workshops with local government partnerships.\"}, \"natural_major_fit\": [\"Environmental Engineering\", \"Sustainable Energy Studies\", \"Community and Regional Planning\"]}', 'future_plan': 'Environmental engineer empowering rural youth to lead renewable energy transformations in their towns.', 'activity_result': '**Enhanced Version of Existing:**\\n\\n1. **Current:** Led environmental science club, organized community clean-up events, coordinated with local government on sustainability initiatives  \\n   **Elevated:** Led STEM workshops linking rural students to local sustainability efforts, co-designed solar-powered irrigation pilot with officials  \\n   **Position:** Environmental Innovator & Club President  \\n   **Organization:** Green Revival Youth Initiative  \\n   **Description:** Built coalition w/ officials; launched solar irrigation in rural farms; empowered 85 students w/ STEM project workshops.  \\n\\n2. **Current:** Varsity soccer team captain, led team to state championship, organized team community service projects  \\n   **Elevated:** Pioneered “Eco Sports” concept blending athletics/community cleanup; team influential in banning single-use plastics at stadium  \\n   **Position:** Eco-Athlete & Team Leader  \\n   **Organization:** Clean Athletic Outreach Alliance  \\n   **Description:** Led team to state win; banned single-use plastics at games; linked sports w/ clean-up drives benefitting 2,500+ stadium-goers.  \\n\\n3. **Current:** Tutored underprivileged students in math and science, developed curriculum for after-school program  \\n   **Elevated:** Designed recyclable energy models for youth STEM curriculum; mentorship spurred 10+ students to win regional science competitions  \\n   **Position:** STEM Mentor & Rural Curriculum Designer  \\n   **Organization:** Empower Rural Scientists Initiative  \\n   **Description:** Created climate STEM kits; led 65 youth via hands-on solar/wind challenges; helped rural peers secure science fair success.  \\n\\n4. **Current:** Assisted professor in environmental impact study, analyzed data on renewable energy adoption in rural communities  \\n   **Elevated:** Led data analytics on rural solar policies; field interviews bridged gaps; findings prompted a small-town renewable subsidy reform  \\n   **Position:** Community Energy Policy Analyst  \\n   **Organization:** Renewable Progress Evaluation Institute  \\n   **Description:** Synthesized rural voices; impact study pushed town-recommended green subsidies; contributed actionable policy steps in 3 counties.  \\n\\n---\\n\\n**Three New Signature Activities:**\\n\\n1. **Position:** Founder, Solar Soccer Saturdays  \\n   **Organization:** Youth Play & Solar Awareness Collective  \\n   **Description:** Blended solar STEM education w/ soccer for 120+ rural kids; built solar charging station prototypes w/ game-prized workshops.  \\n\\n2. **Position:** Youth Podcast Host & Climate Storyteller  \\n   **Organization:** Voices of Rural Hope Initiative  \\n   **Description:** Created podcast elevating rural climate stories; 25+ episodes inspired local officials to pass eco-local zoning policies.  \\n\\n3. **Position:** Designer, Mobile Renewable Energy Classroom  \\n   **Organization:** Bright Futures on the Move  \\n   **Description:** Transformed van into energy ed lab; toured 18 towns w/ hands-on solar/wind workshops; engaged 500+ rural youth on clean energy.'}`\n",
      "\n",
      "\n",
      "\u001b[0m"
     ]
    },
    {
     "ename": "ValidationError",
     "evalue": "1 validation error for MainEssayIdeasInput\nnarrative\n  Input should be a valid dictionary [type=dict_type, input_value='{\"title\": \"From Soccer F...nd Regional Planning\"]}', input_type=str]\n    For further information visit https://errors.pydantic.dev/2.11/v/dict_type",
     "output_type": "error",
     "traceback": [
      "\u001b[1;31m---------------------------------------------------------------------------\u001b[0m",
      "\u001b[1;31mValidationError\u001b[0m                           Traceback (most recent call last)",
      "Cell \u001b[1;32mIn[24], line 1\u001b[0m\n\u001b[1;32m----> 1\u001b[0m resp \u001b[38;5;241m=\u001b[39m \u001b[43mexecutor\u001b[49m\u001b[38;5;241;43m.\u001b[39;49m\u001b[43minvoke\u001b[49m\u001b[43m(\u001b[49m\u001b[43m{\u001b[49m\n\u001b[0;32m      2\u001b[0m \u001b[43m    \u001b[49m\u001b[38;5;124;43m\"\u001b[39;49m\u001b[38;5;124;43minput\u001b[39;49m\u001b[38;5;124;43m\"\u001b[39;49m\u001b[43m:\u001b[49m\u001b[43m \u001b[49m\u001b[38;5;124;43m\"\u001b[39;49m\u001b[38;5;124;43mGenerate full admissions workflow for this student\u001b[39;49m\u001b[38;5;124;43m\"\u001b[39;49m\u001b[43m,\u001b[49m\n\u001b[0;32m      3\u001b[0m \u001b[43m    \u001b[49m\u001b[38;5;124;43m\"\u001b[39;49m\u001b[38;5;124;43muser_profile\u001b[39;49m\u001b[38;5;124;43m\"\u001b[39;49m\u001b[43m:\u001b[49m\u001b[43m \u001b[49m\u001b[43mDUMMY_USER_DATA\u001b[49m\u001b[43m   \u001b[49m\n\u001b[0;32m      4\u001b[0m \u001b[43m}\u001b[49m\u001b[43m)\u001b[49m\n\u001b[0;32m      5\u001b[0m \u001b[38;5;28mprint\u001b[39m(resp[\u001b[38;5;124m\"\u001b[39m\u001b[38;5;124moutput\u001b[39m\u001b[38;5;124m\"\u001b[39m])\n",
      "File \u001b[1;32mc:\\Users\\HOME\\AppData\\Local\\Programs\\Python\\Python311\\Lib\\site-packages\\langchain\\chains\\base.py:165\u001b[0m, in \u001b[0;36mChain.invoke\u001b[1;34m(self, input, config, **kwargs)\u001b[0m\n\u001b[0;32m    162\u001b[0m \u001b[38;5;28;01mtry\u001b[39;00m:\n\u001b[0;32m    163\u001b[0m     \u001b[38;5;28mself\u001b[39m\u001b[38;5;241m.\u001b[39m_validate_inputs(inputs)\n\u001b[0;32m    164\u001b[0m     outputs \u001b[38;5;241m=\u001b[39m (\n\u001b[1;32m--> 165\u001b[0m         \u001b[38;5;28;43mself\u001b[39;49m\u001b[38;5;241;43m.\u001b[39;49m\u001b[43m_call\u001b[49m\u001b[43m(\u001b[49m\u001b[43minputs\u001b[49m\u001b[43m,\u001b[49m\u001b[43m \u001b[49m\u001b[43mrun_manager\u001b[49m\u001b[38;5;241;43m=\u001b[39;49m\u001b[43mrun_manager\u001b[49m\u001b[43m)\u001b[49m\n\u001b[0;32m    166\u001b[0m         \u001b[38;5;28;01mif\u001b[39;00m new_arg_supported\n\u001b[0;32m    167\u001b[0m         \u001b[38;5;28;01melse\u001b[39;00m \u001b[38;5;28mself\u001b[39m\u001b[38;5;241m.\u001b[39m_call(inputs)\n\u001b[0;32m    168\u001b[0m     )\n\u001b[0;32m    170\u001b[0m     final_outputs: \u001b[38;5;28mdict\u001b[39m[\u001b[38;5;28mstr\u001b[39m, Any] \u001b[38;5;241m=\u001b[39m \u001b[38;5;28mself\u001b[39m\u001b[38;5;241m.\u001b[39mprep_outputs(\n\u001b[0;32m    171\u001b[0m         inputs,\n\u001b[0;32m    172\u001b[0m         outputs,\n\u001b[0;32m    173\u001b[0m         return_only_outputs,\n\u001b[0;32m    174\u001b[0m     )\n\u001b[0;32m    175\u001b[0m \u001b[38;5;28;01mexcept\u001b[39;00m \u001b[38;5;167;01mBaseException\u001b[39;00m \u001b[38;5;28;01mas\u001b[39;00m e:\n",
      "File \u001b[1;32mc:\\Users\\HOME\\AppData\\Local\\Programs\\Python\\Python311\\Lib\\site-packages\\langchain\\agents\\agent.py:1625\u001b[0m, in \u001b[0;36mAgentExecutor._call\u001b[1;34m(self, inputs, run_manager)\u001b[0m\n\u001b[0;32m   1623\u001b[0m \u001b[38;5;66;03m# We now enter the agent loop (until it returns something).\u001b[39;00m\n\u001b[0;32m   1624\u001b[0m \u001b[38;5;28;01mwhile\u001b[39;00m \u001b[38;5;28mself\u001b[39m\u001b[38;5;241m.\u001b[39m_should_continue(iterations, time_elapsed):\n\u001b[1;32m-> 1625\u001b[0m     next_step_output \u001b[38;5;241m=\u001b[39m \u001b[38;5;28;43mself\u001b[39;49m\u001b[38;5;241;43m.\u001b[39;49m\u001b[43m_take_next_step\u001b[49m\u001b[43m(\u001b[49m\n\u001b[0;32m   1626\u001b[0m \u001b[43m        \u001b[49m\u001b[43mname_to_tool_map\u001b[49m\u001b[43m,\u001b[49m\n\u001b[0;32m   1627\u001b[0m \u001b[43m        \u001b[49m\u001b[43mcolor_mapping\u001b[49m\u001b[43m,\u001b[49m\n\u001b[0;32m   1628\u001b[0m \u001b[43m        \u001b[49m\u001b[43minputs\u001b[49m\u001b[43m,\u001b[49m\n\u001b[0;32m   1629\u001b[0m \u001b[43m        \u001b[49m\u001b[43mintermediate_steps\u001b[49m\u001b[43m,\u001b[49m\n\u001b[0;32m   1630\u001b[0m \u001b[43m        \u001b[49m\u001b[43mrun_manager\u001b[49m\u001b[38;5;241;43m=\u001b[39;49m\u001b[43mrun_manager\u001b[49m\u001b[43m,\u001b[49m\n\u001b[0;32m   1631\u001b[0m \u001b[43m    \u001b[49m\u001b[43m)\u001b[49m\n\u001b[0;32m   1632\u001b[0m     \u001b[38;5;28;01mif\u001b[39;00m \u001b[38;5;28misinstance\u001b[39m(next_step_output, AgentFinish):\n\u001b[0;32m   1633\u001b[0m         \u001b[38;5;28;01mreturn\u001b[39;00m \u001b[38;5;28mself\u001b[39m\u001b[38;5;241m.\u001b[39m_return(\n\u001b[0;32m   1634\u001b[0m             next_step_output,\n\u001b[0;32m   1635\u001b[0m             intermediate_steps,\n\u001b[0;32m   1636\u001b[0m             run_manager\u001b[38;5;241m=\u001b[39mrun_manager,\n\u001b[0;32m   1637\u001b[0m         )\n",
      "File \u001b[1;32mc:\\Users\\HOME\\AppData\\Local\\Programs\\Python\\Python311\\Lib\\site-packages\\langchain\\agents\\agent.py:1325\u001b[0m, in \u001b[0;36mAgentExecutor._take_next_step\u001b[1;34m(self, name_to_tool_map, color_mapping, inputs, intermediate_steps, run_manager)\u001b[0m\n\u001b[0;32m   1316\u001b[0m \u001b[38;5;28;01mdef\u001b[39;00m \u001b[38;5;21m_take_next_step\u001b[39m(\n\u001b[0;32m   1317\u001b[0m     \u001b[38;5;28mself\u001b[39m,\n\u001b[0;32m   1318\u001b[0m     name_to_tool_map: \u001b[38;5;28mdict\u001b[39m[\u001b[38;5;28mstr\u001b[39m, BaseTool],\n\u001b[1;32m   (...)\u001b[0m\n\u001b[0;32m   1322\u001b[0m     run_manager: Optional[CallbackManagerForChainRun] \u001b[38;5;241m=\u001b[39m \u001b[38;5;28;01mNone\u001b[39;00m,\n\u001b[0;32m   1323\u001b[0m ) \u001b[38;5;241m-\u001b[39m\u001b[38;5;241m>\u001b[39m Union[AgentFinish, \u001b[38;5;28mlist\u001b[39m[\u001b[38;5;28mtuple\u001b[39m[AgentAction, \u001b[38;5;28mstr\u001b[39m]]]:\n\u001b[0;32m   1324\u001b[0m     \u001b[38;5;28;01mreturn\u001b[39;00m \u001b[38;5;28mself\u001b[39m\u001b[38;5;241m.\u001b[39m_consume_next_step(\n\u001b[1;32m-> 1325\u001b[0m         \u001b[38;5;28mlist\u001b[39m(\n\u001b[0;32m   1326\u001b[0m             \u001b[38;5;28mself\u001b[39m\u001b[38;5;241m.\u001b[39m_iter_next_step(\n\u001b[0;32m   1327\u001b[0m                 name_to_tool_map,\n\u001b[0;32m   1328\u001b[0m                 color_mapping,\n\u001b[0;32m   1329\u001b[0m                 inputs,\n\u001b[0;32m   1330\u001b[0m                 intermediate_steps,\n\u001b[0;32m   1331\u001b[0m                 run_manager,\n\u001b[0;32m   1332\u001b[0m             ),\n\u001b[0;32m   1333\u001b[0m         ),\n\u001b[0;32m   1334\u001b[0m     )\n",
      "File \u001b[1;32mc:\\Users\\HOME\\AppData\\Local\\Programs\\Python\\Python311\\Lib\\site-packages\\langchain\\agents\\agent.py:1408\u001b[0m, in \u001b[0;36mAgentExecutor._iter_next_step\u001b[1;34m(self, name_to_tool_map, color_mapping, inputs, intermediate_steps, run_manager)\u001b[0m\n\u001b[0;32m   1406\u001b[0m     \u001b[38;5;28;01myield\u001b[39;00m agent_action\n\u001b[0;32m   1407\u001b[0m \u001b[38;5;28;01mfor\u001b[39;00m agent_action \u001b[38;5;129;01min\u001b[39;00m actions:\n\u001b[1;32m-> 1408\u001b[0m     \u001b[38;5;28;01myield\u001b[39;00m \u001b[38;5;28;43mself\u001b[39;49m\u001b[38;5;241;43m.\u001b[39;49m\u001b[43m_perform_agent_action\u001b[49m\u001b[43m(\u001b[49m\n\u001b[0;32m   1409\u001b[0m \u001b[43m        \u001b[49m\u001b[43mname_to_tool_map\u001b[49m\u001b[43m,\u001b[49m\n\u001b[0;32m   1410\u001b[0m \u001b[43m        \u001b[49m\u001b[43mcolor_mapping\u001b[49m\u001b[43m,\u001b[49m\n\u001b[0;32m   1411\u001b[0m \u001b[43m        \u001b[49m\u001b[43magent_action\u001b[49m\u001b[43m,\u001b[49m\n\u001b[0;32m   1412\u001b[0m \u001b[43m        \u001b[49m\u001b[43mrun_manager\u001b[49m\u001b[43m,\u001b[49m\n\u001b[0;32m   1413\u001b[0m \u001b[43m    \u001b[49m\u001b[43m)\u001b[49m\n",
      "File \u001b[1;32mc:\\Users\\HOME\\AppData\\Local\\Programs\\Python\\Python311\\Lib\\site-packages\\langchain\\agents\\agent.py:1433\u001b[0m, in \u001b[0;36mAgentExecutor._perform_agent_action\u001b[1;34m(self, name_to_tool_map, color_mapping, agent_action, run_manager)\u001b[0m\n\u001b[0;32m   1431\u001b[0m         tool_run_kwargs[\u001b[38;5;124m\"\u001b[39m\u001b[38;5;124mllm_prefix\u001b[39m\u001b[38;5;124m\"\u001b[39m] \u001b[38;5;241m=\u001b[39m \u001b[38;5;124m\"\u001b[39m\u001b[38;5;124m\"\u001b[39m\n\u001b[0;32m   1432\u001b[0m     \u001b[38;5;66;03m# We then call the tool on the tool input to get an observation\u001b[39;00m\n\u001b[1;32m-> 1433\u001b[0m     observation \u001b[38;5;241m=\u001b[39m \u001b[43mtool\u001b[49m\u001b[38;5;241;43m.\u001b[39;49m\u001b[43mrun\u001b[49m\u001b[43m(\u001b[49m\n\u001b[0;32m   1434\u001b[0m \u001b[43m        \u001b[49m\u001b[43magent_action\u001b[49m\u001b[38;5;241;43m.\u001b[39;49m\u001b[43mtool_input\u001b[49m\u001b[43m,\u001b[49m\n\u001b[0;32m   1435\u001b[0m \u001b[43m        \u001b[49m\u001b[43mverbose\u001b[49m\u001b[38;5;241;43m=\u001b[39;49m\u001b[38;5;28;43mself\u001b[39;49m\u001b[38;5;241;43m.\u001b[39;49m\u001b[43mverbose\u001b[49m\u001b[43m,\u001b[49m\n\u001b[0;32m   1436\u001b[0m \u001b[43m        \u001b[49m\u001b[43mcolor\u001b[49m\u001b[38;5;241;43m=\u001b[39;49m\u001b[43mcolor\u001b[49m\u001b[43m,\u001b[49m\n\u001b[0;32m   1437\u001b[0m \u001b[43m        \u001b[49m\u001b[43mcallbacks\u001b[49m\u001b[38;5;241;43m=\u001b[39;49m\u001b[43mrun_manager\u001b[49m\u001b[38;5;241;43m.\u001b[39;49m\u001b[43mget_child\u001b[49m\u001b[43m(\u001b[49m\u001b[43m)\u001b[49m\u001b[43m \u001b[49m\u001b[38;5;28;43;01mif\u001b[39;49;00m\u001b[43m \u001b[49m\u001b[43mrun_manager\u001b[49m\u001b[43m \u001b[49m\u001b[38;5;28;43;01melse\u001b[39;49;00m\u001b[43m \u001b[49m\u001b[38;5;28;43;01mNone\u001b[39;49;00m\u001b[43m,\u001b[49m\n\u001b[0;32m   1438\u001b[0m \u001b[43m        \u001b[49m\u001b[38;5;241;43m*\u001b[39;49m\u001b[38;5;241;43m*\u001b[39;49m\u001b[43mtool_run_kwargs\u001b[49m\u001b[43m,\u001b[49m\n\u001b[0;32m   1439\u001b[0m \u001b[43m    \u001b[49m\u001b[43m)\u001b[49m\n\u001b[0;32m   1440\u001b[0m \u001b[38;5;28;01melse\u001b[39;00m:\n\u001b[0;32m   1441\u001b[0m     tool_run_kwargs \u001b[38;5;241m=\u001b[39m \u001b[38;5;28mself\u001b[39m\u001b[38;5;241m.\u001b[39m_action_agent\u001b[38;5;241m.\u001b[39mtool_run_logging_kwargs()\n",
      "File \u001b[1;32mc:\\Users\\HOME\\AppData\\Local\\Programs\\Python\\Python311\\Lib\\site-packages\\langchain_core\\tools\\base.py:888\u001b[0m, in \u001b[0;36mBaseTool.run\u001b[1;34m(self, tool_input, verbose, start_color, color, callbacks, tags, metadata, run_name, run_id, config, tool_call_id, **kwargs)\u001b[0m\n\u001b[0;32m    886\u001b[0m \u001b[38;5;28;01mif\u001b[39;00m error_to_raise:\n\u001b[0;32m    887\u001b[0m     run_manager\u001b[38;5;241m.\u001b[39mon_tool_error(error_to_raise)\n\u001b[1;32m--> 888\u001b[0m     \u001b[38;5;28;01mraise\u001b[39;00m error_to_raise\n\u001b[0;32m    889\u001b[0m output \u001b[38;5;241m=\u001b[39m _format_output(content, artifact, tool_call_id, \u001b[38;5;28mself\u001b[39m\u001b[38;5;241m.\u001b[39mname, status)\n\u001b[0;32m    890\u001b[0m run_manager\u001b[38;5;241m.\u001b[39mon_tool_end(output, color\u001b[38;5;241m=\u001b[39mcolor, name\u001b[38;5;241m=\u001b[39m\u001b[38;5;28mself\u001b[39m\u001b[38;5;241m.\u001b[39mname, \u001b[38;5;241m*\u001b[39m\u001b[38;5;241m*\u001b[39mkwargs)\n",
      "File \u001b[1;32mc:\\Users\\HOME\\AppData\\Local\\Programs\\Python\\Python311\\Lib\\site-packages\\langchain_core\\tools\\base.py:850\u001b[0m, in \u001b[0;36mBaseTool.run\u001b[1;34m(self, tool_input, verbose, start_color, color, callbacks, tags, metadata, run_name, run_id, config, tool_call_id, **kwargs)\u001b[0m\n\u001b[0;32m    848\u001b[0m child_config \u001b[38;5;241m=\u001b[39m patch_config(config, callbacks\u001b[38;5;241m=\u001b[39mrun_manager\u001b[38;5;241m.\u001b[39mget_child())\n\u001b[0;32m    849\u001b[0m \u001b[38;5;28;01mwith\u001b[39;00m set_config_context(child_config) \u001b[38;5;28;01mas\u001b[39;00m context:\n\u001b[1;32m--> 850\u001b[0m     tool_args, tool_kwargs \u001b[38;5;241m=\u001b[39m \u001b[38;5;28;43mself\u001b[39;49m\u001b[38;5;241;43m.\u001b[39;49m\u001b[43m_to_args_and_kwargs\u001b[49m\u001b[43m(\u001b[49m\n\u001b[0;32m    851\u001b[0m \u001b[43m        \u001b[49m\u001b[43mtool_input\u001b[49m\u001b[43m,\u001b[49m\u001b[43m \u001b[49m\u001b[43mtool_call_id\u001b[49m\n\u001b[0;32m    852\u001b[0m \u001b[43m    \u001b[49m\u001b[43m)\u001b[49m\n\u001b[0;32m    853\u001b[0m     \u001b[38;5;28;01mif\u001b[39;00m signature(\u001b[38;5;28mself\u001b[39m\u001b[38;5;241m.\u001b[39m_run)\u001b[38;5;241m.\u001b[39mparameters\u001b[38;5;241m.\u001b[39mget(\u001b[38;5;124m\"\u001b[39m\u001b[38;5;124mrun_manager\u001b[39m\u001b[38;5;124m\"\u001b[39m):\n\u001b[0;32m    854\u001b[0m         tool_kwargs \u001b[38;5;241m|\u001b[39m\u001b[38;5;241m=\u001b[39m {\u001b[38;5;124m\"\u001b[39m\u001b[38;5;124mrun_manager\u001b[39m\u001b[38;5;124m\"\u001b[39m: run_manager}\n",
      "File \u001b[1;32mc:\\Users\\HOME\\AppData\\Local\\Programs\\Python\\Python311\\Lib\\site-packages\\langchain_core\\tools\\base.py:765\u001b[0m, in \u001b[0;36mBaseTool._to_args_and_kwargs\u001b[1;34m(self, tool_input, tool_call_id)\u001b[0m\n\u001b[0;32m    757\u001b[0m \u001b[38;5;28;01mif\u001b[39;00m (\n\u001b[0;32m    758\u001b[0m     \u001b[38;5;28mself\u001b[39m\u001b[38;5;241m.\u001b[39margs_schema \u001b[38;5;129;01mis\u001b[39;00m \u001b[38;5;129;01mnot\u001b[39;00m \u001b[38;5;28;01mNone\u001b[39;00m\n\u001b[0;32m    759\u001b[0m     \u001b[38;5;129;01mand\u001b[39;00m \u001b[38;5;28misinstance\u001b[39m(\u001b[38;5;28mself\u001b[39m\u001b[38;5;241m.\u001b[39margs_schema, \u001b[38;5;28mtype\u001b[39m)\n\u001b[1;32m   (...)\u001b[0m\n\u001b[0;32m    762\u001b[0m ):\n\u001b[0;32m    763\u001b[0m     \u001b[38;5;66;03m# StructuredTool with no args\u001b[39;00m\n\u001b[0;32m    764\u001b[0m     \u001b[38;5;28;01mreturn\u001b[39;00m (), {}\n\u001b[1;32m--> 765\u001b[0m tool_input \u001b[38;5;241m=\u001b[39m \u001b[38;5;28;43mself\u001b[39;49m\u001b[38;5;241;43m.\u001b[39;49m\u001b[43m_parse_input\u001b[49m\u001b[43m(\u001b[49m\u001b[43mtool_input\u001b[49m\u001b[43m,\u001b[49m\u001b[43m \u001b[49m\u001b[43mtool_call_id\u001b[49m\u001b[43m)\u001b[49m\n\u001b[0;32m    766\u001b[0m \u001b[38;5;66;03m# For backwards compatibility, if run_input is a string,\u001b[39;00m\n\u001b[0;32m    767\u001b[0m \u001b[38;5;66;03m# pass as a positional argument.\u001b[39;00m\n\u001b[0;32m    768\u001b[0m \u001b[38;5;28;01mif\u001b[39;00m \u001b[38;5;28misinstance\u001b[39m(tool_input, \u001b[38;5;28mstr\u001b[39m):\n",
      "File \u001b[1;32mc:\\Users\\HOME\\AppData\\Local\\Programs\\Python\\Python311\\Lib\\site-packages\\langchain_core\\tools\\base.py:672\u001b[0m, in \u001b[0;36mBaseTool._parse_input\u001b[1;34m(self, tool_input, tool_call_id)\u001b[0m\n\u001b[0;32m    670\u001b[0m                 \u001b[38;5;28;01mraise\u001b[39;00m \u001b[38;5;167;01mValueError\u001b[39;00m(msg)\n\u001b[0;32m    671\u001b[0m             tool_input[k] \u001b[38;5;241m=\u001b[39m tool_call_id\n\u001b[1;32m--> 672\u001b[0m     result \u001b[38;5;241m=\u001b[39m \u001b[43minput_args\u001b[49m\u001b[38;5;241;43m.\u001b[39;49m\u001b[43mmodel_validate\u001b[49m\u001b[43m(\u001b[49m\u001b[43mtool_input\u001b[49m\u001b[43m)\u001b[49m\n\u001b[0;32m    673\u001b[0m     result_dict \u001b[38;5;241m=\u001b[39m result\u001b[38;5;241m.\u001b[39mmodel_dump()\n\u001b[0;32m    674\u001b[0m \u001b[38;5;28;01melif\u001b[39;00m \u001b[38;5;28missubclass\u001b[39m(input_args, BaseModelV1):\n",
      "File \u001b[1;32mc:\\Users\\HOME\\AppData\\Local\\Programs\\Python\\Python311\\Lib\\site-packages\\pydantic\\main.py:705\u001b[0m, in \u001b[0;36mBaseModel.model_validate\u001b[1;34m(cls, obj, strict, from_attributes, context, by_alias, by_name)\u001b[0m\n\u001b[0;32m    699\u001b[0m \u001b[38;5;28;01mif\u001b[39;00m by_alias \u001b[38;5;129;01mis\u001b[39;00m \u001b[38;5;28;01mFalse\u001b[39;00m \u001b[38;5;129;01mand\u001b[39;00m by_name \u001b[38;5;129;01mis\u001b[39;00m \u001b[38;5;129;01mnot\u001b[39;00m \u001b[38;5;28;01mTrue\u001b[39;00m:\n\u001b[0;32m    700\u001b[0m     \u001b[38;5;28;01mraise\u001b[39;00m PydanticUserError(\n\u001b[0;32m    701\u001b[0m         \u001b[38;5;124m'\u001b[39m\u001b[38;5;124mAt least one of `by_alias` or `by_name` must be set to True.\u001b[39m\u001b[38;5;124m'\u001b[39m,\n\u001b[0;32m    702\u001b[0m         code\u001b[38;5;241m=\u001b[39m\u001b[38;5;124m'\u001b[39m\u001b[38;5;124mvalidate-by-alias-and-name-false\u001b[39m\u001b[38;5;124m'\u001b[39m,\n\u001b[0;32m    703\u001b[0m     )\n\u001b[1;32m--> 705\u001b[0m \u001b[38;5;28;01mreturn\u001b[39;00m \u001b[38;5;28;43mcls\u001b[39;49m\u001b[38;5;241;43m.\u001b[39;49m\u001b[43m__pydantic_validator__\u001b[49m\u001b[38;5;241;43m.\u001b[39;49m\u001b[43mvalidate_python\u001b[49m\u001b[43m(\u001b[49m\n\u001b[0;32m    706\u001b[0m \u001b[43m    \u001b[49m\u001b[43mobj\u001b[49m\u001b[43m,\u001b[49m\u001b[43m \u001b[49m\u001b[43mstrict\u001b[49m\u001b[38;5;241;43m=\u001b[39;49m\u001b[43mstrict\u001b[49m\u001b[43m,\u001b[49m\u001b[43m \u001b[49m\u001b[43mfrom_attributes\u001b[49m\u001b[38;5;241;43m=\u001b[39;49m\u001b[43mfrom_attributes\u001b[49m\u001b[43m,\u001b[49m\u001b[43m \u001b[49m\u001b[43mcontext\u001b[49m\u001b[38;5;241;43m=\u001b[39;49m\u001b[43mcontext\u001b[49m\u001b[43m,\u001b[49m\u001b[43m \u001b[49m\u001b[43mby_alias\u001b[49m\u001b[38;5;241;43m=\u001b[39;49m\u001b[43mby_alias\u001b[49m\u001b[43m,\u001b[49m\u001b[43m \u001b[49m\u001b[43mby_name\u001b[49m\u001b[38;5;241;43m=\u001b[39;49m\u001b[43mby_name\u001b[49m\n\u001b[0;32m    707\u001b[0m \u001b[43m\u001b[49m\u001b[43m)\u001b[49m\n",
      "\u001b[1;31mValidationError\u001b[0m: 1 validation error for MainEssayIdeasInput\nnarrative\n  Input should be a valid dictionary [type=dict_type, input_value='{\"title\": \"From Soccer F...nd Regional Planning\"]}', input_type=str]\n    For further information visit https://errors.pydantic.dev/2.11/v/dict_type"
     ]
    }
   ],
   "source": [
    "resp = executor.invoke({\n",
    "    \"input\": \"Generate full admissions workflow for this student\",\n",
    "    \"user_profile\": DUMMY_USER_DATA   \n",
    "})\n",
    "print(resp[\"output\"])"
   ]
  },
  {
   "cell_type": "code",
   "execution_count": null,
   "metadata": {},
   "outputs": [
    {
     "name": "stderr",
     "output_type": "stream",
     "text": [
      "2025-08-23 16:00:17,032 - workflow_orchestrator - INFO - WorkflowOrchestrator initialized successfully\n",
      "2025-08-23 16:00:17,033 - workflow_orchestrator - INFO - Starting complete workflow execution\n",
      "2025-08-23 16:00:17,035 - workflow_orchestrator - INFO - Starting narrative angles generation\n",
      "2025-08-23 16:00:37,800 - httpx - INFO - HTTP Request: POST https://clabai3366454354.openai.azure.com/openai/deployments/gpt-4o/chat/completions?api-version=2024-02-01 \"HTTP/1.1 200 OK\"\n",
      "2025-08-23 16:00:37,806 - workflow_orchestrator - INFO - Function _generate_narratives executed successfully in 20.77s\n",
      "2025-08-23 16:00:37,808 - workflow_orchestrator - INFO - Narrative angles generation completed with status: WorkflowStatus.VALIDATED\n",
      "2025-08-23 16:00:37,810 - workflow_orchestrator - INFO - Starting future plan generation\n",
      "2025-08-23 16:00:38,480 - httpx - INFO - HTTP Request: POST https://clabai3366454354.openai.azure.com/openai/deployments/gpt-4o/chat/completions?api-version=2024-02-01 \"HTTP/1.1 200 OK\"\n",
      "2025-08-23 16:00:38,488 - workflow_orchestrator - INFO - Function _generate_future_plan executed successfully in 0.68s\n",
      "2025-08-23 16:00:38,494 - workflow_orchestrator - INFO - Future plan generation completed with status: WorkflowStatus.FAILED\n"
     ]
    }
   ],
   "source": [
    "from workflow_orchestrator import generate_application_strategy\n",
    "\n",
    "# Use the orchestrator instead of individual chains\n",
    "result = generate_application_strategy(DUMMY_USER_DATA)\n",
    "\n",
    "# Or use the agent with the new tools\n",
    "from tools import generate_complete_application_strategy\n",
    "\n",
    "# Add this tool to your agent\n",
    "tools = [generate_complete_application_strategy]"
   ]
  },
  {
   "cell_type": "code",
   "execution_count": 63,
   "metadata": {},
   "outputs": [],
   "source": [
    "import logging\n",
    "\n",
    "from workflow_orchestrator import WorkflowOrchestrator, generate_application_strategy\n",
    "\n",
    "# Configure logging to see the workflow progress\n",
    "logging.basicConfig(level=logging.INFO)"
   ]
  }
 ],
 "metadata": {
  "kernelspec": {
   "display_name": "Python 3",
   "language": "python",
   "name": "python3"
  },
  "language_info": {
   "codemirror_mode": {
    "name": "ipython",
    "version": 3
   },
   "file_extension": ".py",
   "mimetype": "text/x-python",
   "name": "python",
   "nbconvert_exporter": "python",
   "pygments_lexer": "ipython3",
   "version": "3.11.4"
  }
 },
 "nbformat": 4,
 "nbformat_minor": 2
}
